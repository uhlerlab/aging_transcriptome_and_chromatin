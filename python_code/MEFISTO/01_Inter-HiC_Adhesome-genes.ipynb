{
 "cells": [
  {
   "cell_type": "code",
   "execution_count": 1,
   "id": "56c62345",
   "metadata": {},
   "outputs": [],
   "source": [
    "from importlib import reload\n",
    "import sys\n",
    "import pickle\n",
    "import numpy as np \n",
    "import matplotlib as mpl\n",
    "mpl.use('Agg')\n",
    "import matplotlib.pyplot as plt\n",
    "plt.ioff()\n",
    "%matplotlib inline\n",
    "import seaborn as sns\n",
    "import pandas as pd\n",
    "import itertools\n",
    "from tqdm import tqdm\n",
    "import time"
   ]
  },
  {
   "cell_type": "markdown",
   "id": "3bf88bac",
   "metadata": {},
   "source": [
    "## Load interchromosomal Hi-C data"
   ]
  },
  {
   "cell_type": "code",
   "execution_count": 2,
   "id": "85a327e4",
   "metadata": {},
   "outputs": [],
   "source": [
    "hic_dir = '/home/braunger/masterthesis/save/processed_hic_data/'\n",
    "data_dir = '/home/braunger/masterthesis/data/'\n",
    "resol = 250000"
   ]
  },
  {
   "cell_type": "code",
   "execution_count": 3,
   "id": "616210e2",
   "metadata": {},
   "outputs": [],
   "source": [
    "# Function to get all interchromosomal hic data in long format\n",
    "def get_interchromosomal_hic(cell_type, chr_list, hic_dir):\n",
    "    \n",
    "    chr_pairs = list(itertools.combinations(chr_list, 2))\n",
    "\n",
    "    hic_all_inter = pd.DataFrame({'chr1': [], 'chr2': [], 'value': []})\n",
    "\n",
    "    for pair in tqdm(chr_pairs):\n",
    "        time.sleep(.01)\n",
    "        chr1, chr2 = pair\n",
    "\n",
    "        # read pickle\n",
    "        hic = pd.read_pickle(hic_dir+'processed_hic_data_'+cell_type+'/final_BP250000_intraKR_interINTERKR/hic_chr'+str(chr1)+'_chr'+str(chr2)+'_norm1_filter3.pkl')\n",
    "        # change colnames\n",
    "        hic = hic.add_prefix('chr_'+str(chr2)+'_loc_')\n",
    "        # change rownames and put rownames as a column\n",
    "        hic = hic.T.add_prefix('chr_'+str(chr1)+'_loc_').T\n",
    "        hic.reset_index(inplace=True)\n",
    "        # convert df to long format\n",
    "        hic = hic.melt(id_vars = ['index'])\n",
    "        # change colnames \n",
    "        hic.columns = ['chr1', 'chr2', 'value']\n",
    "\n",
    "        hic_all_inter = pd.concat([hic_all_inter, hic])\n",
    "    return(hic_all_inter)"
   ]
  },
  {
   "cell_type": "code",
   "execution_count": 4,
   "id": "1eb6959d",
   "metadata": {},
   "outputs": [
    {
     "name": "stderr",
     "output_type": "stream",
     "text": [
      "100%|██████████████████████████████████████████████████████████████████████████████████████████████████████████████████████| 231/231 [03:19<00:00,  1.16it/s]\n",
      "100%|██████████████████████████████████████████████████████████████████████████████████████████████████████████████████████| 231/231 [03:19<00:00,  1.16it/s]\n"
     ]
    }
   ],
   "source": [
    "chr_list = list(range(1,22+1))\n",
    "inter_IMR90 = get_interchromosomal_hic('IMR90', chr_list, hic_dir)\n",
    "inter_old_fibroblasts = get_interchromosomal_hic('old_fibroblasts', chr_list, hic_dir)"
   ]
  },
  {
   "cell_type": "code",
   "execution_count": 153,
   "id": "5e37f68d",
   "metadata": {},
   "outputs": [],
   "source": [
    "inter_IMR90.to_csv(hic_dir+'processed_hic_data_IMR90/final_BP250000_intraKR_interINTERKR/all_inter_long.csv', index = False)\n",
    "inter_old_fibroblasts.to_csv(hic_dir+'processed_hic_data_old_fibroblasts/final_BP250000_intraKR_interINTERKR/all_inter_long.csv', index = False)\n",
    "                   "
   ]
  },
  {
   "cell_type": "code",
   "execution_count": 81,
   "id": "2552814b",
   "metadata": {},
   "outputs": [],
   "source": [
    "# Normalize Hi-C Data\n",
    "q = 0.75\n",
    "q_IMR90 = np.quantile(inter_IMR90['value'], q)\n",
    "q_old_fibroblasts = np.quantile(inter_old_fibroblasts['value'], q)\n",
    "\n",
    "inter_IMR90['value_norm'] = inter_IMR90['value'].div(q_IMR90)\n",
    "inter_old_fibroblasts['value_norm'] = inter_old_fibroblasts['value'].div(q_old_fibroblasts)"
   ]
  },
  {
   "cell_type": "code",
   "execution_count": 154,
   "id": "a948f0b8",
   "metadata": {},
   "outputs": [
    {
     "data": {
      "text/html": [
       "<div>\n",
       "<style scoped>\n",
       "    .dataframe tbody tr th:only-of-type {\n",
       "        vertical-align: middle;\n",
       "    }\n",
       "\n",
       "    .dataframe tbody tr th {\n",
       "        vertical-align: top;\n",
       "    }\n",
       "\n",
       "    .dataframe thead th {\n",
       "        text-align: right;\n",
       "    }\n",
       "</style>\n",
       "<table border=\"1\" class=\"dataframe\">\n",
       "  <thead>\n",
       "    <tr style=\"text-align: right;\">\n",
       "      <th></th>\n",
       "      <th>chr1</th>\n",
       "      <th>chr2</th>\n",
       "      <th>value</th>\n",
       "      <th>value_norm</th>\n",
       "    </tr>\n",
       "  </thead>\n",
       "  <tbody>\n",
       "    <tr>\n",
       "      <th>0</th>\n",
       "      <td>chr_1_loc_0</td>\n",
       "      <td>chr_2_loc_0</td>\n",
       "      <td>0.000000</td>\n",
       "      <td>0.000000</td>\n",
       "    </tr>\n",
       "    <tr>\n",
       "      <th>1</th>\n",
       "      <td>chr_1_loc_250000</td>\n",
       "      <td>chr_2_loc_0</td>\n",
       "      <td>0.000000</td>\n",
       "      <td>0.000000</td>\n",
       "    </tr>\n",
       "    <tr>\n",
       "      <th>2</th>\n",
       "      <td>chr_1_loc_500000</td>\n",
       "      <td>chr_2_loc_0</td>\n",
       "      <td>3.692602</td>\n",
       "      <td>3.264491</td>\n",
       "    </tr>\n",
       "    <tr>\n",
       "      <th>3</th>\n",
       "      <td>chr_1_loc_750000</td>\n",
       "      <td>chr_2_loc_0</td>\n",
       "      <td>1.296140</td>\n",
       "      <td>1.145869</td>\n",
       "    </tr>\n",
       "    <tr>\n",
       "      <th>4</th>\n",
       "      <td>chr_1_loc_1000000</td>\n",
       "      <td>chr_2_loc_0</td>\n",
       "      <td>0.000000</td>\n",
       "      <td>0.000000</td>\n",
       "    </tr>\n",
       "  </tbody>\n",
       "</table>\n",
       "</div>"
      ],
      "text/plain": [
       "                chr1         chr2     value  value_norm\n",
       "0        chr_1_loc_0  chr_2_loc_0  0.000000    0.000000\n",
       "1   chr_1_loc_250000  chr_2_loc_0  0.000000    0.000000\n",
       "2   chr_1_loc_500000  chr_2_loc_0  3.692602    3.264491\n",
       "3   chr_1_loc_750000  chr_2_loc_0  1.296140    1.145869\n",
       "4  chr_1_loc_1000000  chr_2_loc_0  0.000000    0.000000"
      ]
     },
     "execution_count": 154,
     "metadata": {},
     "output_type": "execute_result"
    }
   ],
   "source": [
    "inter_IMR90.head()"
   ]
  },
  {
   "cell_type": "markdown",
   "id": "2cfbde2d",
   "metadata": {},
   "source": [
    "## Adhesome genes as reference"
   ]
  },
  {
   "cell_type": "code",
   "execution_count": 82,
   "id": "d001f5fa",
   "metadata": {},
   "outputs": [
    {
     "data": {
      "text/html": [
       "<div>\n",
       "<style scoped>\n",
       "    .dataframe tbody tr th:only-of-type {\n",
       "        vertical-align: middle;\n",
       "    }\n",
       "\n",
       "    .dataframe tbody tr th {\n",
       "        vertical-align: top;\n",
       "    }\n",
       "\n",
       "    .dataframe thead th {\n",
       "        text-align: right;\n",
       "    }\n",
       "</style>\n",
       "<table border=\"1\" class=\"dataframe\">\n",
       "  <thead>\n",
       "    <tr style=\"text-align: right;\">\n",
       "      <th></th>\n",
       "      <th>Unnamed: 0</th>\n",
       "      <th>chrom</th>\n",
       "      <th>chrom_int</th>\n",
       "      <th>loci</th>\n",
       "      <th>gene</th>\n",
       "      <th>locus</th>\n",
       "    </tr>\n",
       "  </thead>\n",
       "  <tbody>\n",
       "    <tr>\n",
       "      <th>0</th>\n",
       "      <td>34</td>\n",
       "      <td>chr1</td>\n",
       "      <td>1</td>\n",
       "      <td>65</td>\n",
       "      <td>FBLIM1</td>\n",
       "      <td>chr_1_loc_16250000</td>\n",
       "    </tr>\n",
       "    <tr>\n",
       "      <th>1</th>\n",
       "      <td>97</td>\n",
       "      <td>chr1</td>\n",
       "      <td>1</td>\n",
       "      <td>96</td>\n",
       "      <td>ASAP3</td>\n",
       "      <td>chr_1_loc_24000000</td>\n",
       "    </tr>\n",
       "    <tr>\n",
       "      <th>2</th>\n",
       "      <td>173</td>\n",
       "      <td>chr1</td>\n",
       "      <td>1</td>\n",
       "      <td>110</td>\n",
       "      <td>SLC9A1</td>\n",
       "      <td>chr_1_loc_27500000</td>\n",
       "    </tr>\n",
       "    <tr>\n",
       "      <th>3</th>\n",
       "      <td>158</td>\n",
       "      <td>chr1</td>\n",
       "      <td>1</td>\n",
       "      <td>128</td>\n",
       "      <td>FABP3</td>\n",
       "      <td>chr_1_loc_32000000</td>\n",
       "    </tr>\n",
       "    <tr>\n",
       "      <th>4</th>\n",
       "      <td>139</td>\n",
       "      <td>chr1</td>\n",
       "      <td>1</td>\n",
       "      <td>159</td>\n",
       "      <td>MACF1</td>\n",
       "      <td>chr_1_loc_39750000</td>\n",
       "    </tr>\n",
       "  </tbody>\n",
       "</table>\n",
       "</div>"
      ],
      "text/plain": [
       "   Unnamed: 0 chrom  chrom_int  loci    gene               locus\n",
       "0          34  chr1          1    65  FBLIM1  chr_1_loc_16250000\n",
       "1          97  chr1          1    96   ASAP3  chr_1_loc_24000000\n",
       "2         173  chr1          1   110  SLC9A1  chr_1_loc_27500000\n",
       "3         158  chr1          1   128   FABP3  chr_1_loc_32000000\n",
       "4         139  chr1          1   159   MACF1  chr_1_loc_39750000"
      ]
     },
     "execution_count": 82,
     "metadata": {},
     "output_type": "execute_result"
    }
   ],
   "source": [
    "adhesome = pd.read_csv(data_dir+'adhesome_loci.csv')\n",
    "adhesome['locus'] = 'chr_'+adhesome['chrom_int'].astype(str)+'_loc_'+(resol * adhesome['loci']).astype(str)\n",
    "adhesome.head()"
   ]
  },
  {
   "cell_type": "code",
   "execution_count": 83,
   "id": "9f5e051c",
   "metadata": {},
   "outputs": [],
   "source": [
    "IMR90_adhesome = inter_IMR90[inter_IMR90['chr1'].isin(adhesome['locus']) & \n",
    "                             inter_IMR90['chr2'].isin(adhesome['locus'])]\n",
    "\n",
    "old_fibroblasts_adhesome = inter_old_fibroblasts[inter_old_fibroblasts['chr1'].isin(adhesome['locus']) & \n",
    "                                                 inter_old_fibroblasts['chr2'].isin(adhesome['locus'])]"
   ]
  },
  {
   "cell_type": "code",
   "execution_count": 84,
   "id": "cc840803",
   "metadata": {},
   "outputs": [
    {
     "data": {
      "image/png": "[encoded data removed]",
      "text/plain": [
       "<Figure size 576x432 with 1 Axes>"
      ]
     },
     "metadata": {
      "needs_background": "light"
     },
     "output_type": "display_data"
    }
   ],
   "source": [
    "binwidth = 0.1\n",
    "\n",
    "plt.figure(figsize=(8,6))\n",
    "plt.hist(IMR90_adhesome['value_norm'], \n",
    "         bins=np.arange(min(IMR90_adhesome['value_norm']), max(IMR90_adhesome['value_norm']) + binwidth, binwidth), \n",
    "         alpha=0.5, label=\"IMR90\")\n",
    "plt.hist(old_fibroblasts_adhesome['value_norm'],\n",
    "         bins=np.arange(min(old_fibroblasts_adhesome['value_norm']), max(old_fibroblasts_adhesome['value_norm']) + binwidth, binwidth), \n",
    "         alpha=0.5, label=\"old_fibroblasts\")\n",
    "plt.xlabel(\"Normalized Hi-C values\")\n",
    "plt.ylabel(\"Counts\")\n",
    "plt.legend(loc='upper right')\n",
    "plt.show()"
   ]
  },
  {
   "cell_type": "code",
   "execution_count": null,
   "id": "3b2acd14",
   "metadata": {},
   "outputs": [],
   "source": []
  }
 ],
 "metadata": {
  "kernelspec": {
   "display_name": "Python 3 (ipykernel)",
   "language": "python",
   "name": "python3"
  },
  "language_info": {
   "codemirror_mode": {
    "name": "ipython",
    "version": 3
   },
   "file_extension": ".py",
   "mimetype": "text/x-python",
   "name": "python",
   "nbconvert_exporter": "python",
   "pygments_lexer": "ipython3",
   "version": "3.9.12"
  }
 },
 "nbformat": 4,
 "nbformat_minor": 5
}
