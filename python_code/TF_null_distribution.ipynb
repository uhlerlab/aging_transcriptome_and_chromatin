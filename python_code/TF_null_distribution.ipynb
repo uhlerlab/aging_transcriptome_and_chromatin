{
 "cells": [
  {
   "cell_type": "code",
   "execution_count": 2,
   "id": "81ea81e9",
   "metadata": {
    "ExecuteTime": {
     "end_time": "2023-02-16T06:21:56.130470Z",
     "start_time": "2023-02-16T06:21:56.119585Z"
    }
   },
   "outputs": [],
   "source": [
    "import numpy as np\n",
    "from scipy.special import binom\n",
    "from scipy.stats import hypergeom\n",
    "import matplotlib.pyplot as plt"
   ]
  },
  {
   "cell_type": "markdown",
   "id": "544ed3cd",
   "metadata": {},
   "source": [
    "- We consider 2 transcription factors called TF1 and TF2.\n",
    "- Suppose that TF1 targets $N_1$ genes and TF2 targets $N_2$ genes among a set of $N$ differentially expressed genes. \n",
    "- Let $X$ denote the number of common genes that TF1 and TF2 target. \n",
    "\n",
    "It can be seen that under a null hypergeometric model,\n",
    "\n",
    "\\begin{equation}\n",
    "    \\mathbb{P}(X=n) = \\frac{{N \\choose n}{N-n \\choose N_1-n}{N-N_1 \\choose N_2-n}}{{N \\choose N_1}{N \\choose N_2}}\\mathbb{1}\\left[\\max(0, N_1+N_2-N)\\leq n\\leq \\min(N1, N_2)\\right].\n",
    "\\end{equation}\n",
    "\n",
    "Say that we observe that TF1 and TF2 target $n^\\star$ common genes. In that case, the p-value under the hypergeometric model can be obtained as\n",
    "\n",
    "\\begin{equation}\n",
    "    p = \\sum_{n\\geq n^\\star} \\mathbb{P}(X=n) = \\sum_{n\\geq n^\\star}\\frac{{N \\choose n}{N-n \\choose N_1-n}{N-N_1 \\choose N_2-n}}{{N \\choose N_1}{N \\choose N_2}}\\mathbb{1}\\left[\\max(0, N_1+N_2-N)\\leq n\\leq \\min(N1, N_2)\\right].\n",
    "\\end{equation}\n",
    "\n",
    "Below, we provide some code to show that the proposed null distribution is valid and to compute the p-value. The code is run with low values of $N$. In case of numerical overflow due to high values of $N$, one fix would be to use log-binomial coefficients using the scipy.special.loggamma function."
   ]
  },
  {
   "cell_type": "code",
   "execution_count": 3,
   "id": "944c8553",
   "metadata": {
    "ExecuteTime": {
     "end_time": "2023-02-16T06:21:56.556720Z",
     "start_time": "2023-02-16T06:21:56.545157Z"
    }
   },
   "outputs": [],
   "source": [
    "# Probability there are n common balls between a draw of N1 balls and a draw of N2 balls among N distinct balls\n",
    "def prob(n, N, N1, N2):\n",
    "    if (n < np.max([0, N1+N2-N])):\n",
    "        out = 0\n",
    "    elif (n > np.min([N1, N2])):\n",
    "        out = 0\n",
    "    else:\n",
    "        num = binom(N, n)*binom(N-n, N1-n)*binom(N-N1, N2-n)\n",
    "        denom = binom(N, N1)*binom(N, N2)\n",
    "        out = num/denom\n",
    "    return(out)"
   ]
  },
  {
   "cell_type": "code",
   "execution_count": 10,
   "id": "6c50c00a",
   "metadata": {
    "ExecuteTime": {
     "end_time": "2023-02-16T06:23:00.327801Z",
     "start_time": "2023-02-16T06:23:00.224377Z"
    }
   },
   "outputs": [
    {
     "name": "stdout",
     "output_type": "stream",
     "text": [
      "Sum of all probabilities = 1.0\n"
     ]
    },
    {
     "data": {
      "image/png": "[encoded data removed]",
      "text/plain": [
       "<Figure size 432x288 with 1 Axes>"
      ]
     },
     "metadata": {
      "needs_background": "light"
     },
     "output_type": "display_data"
    }
   ],
   "source": [
    "# Example to check that the proposed null distribution is a valid PMF\n",
    "N = 20\n",
    "N1 = 10\n",
    "N2 = 8\n",
    "\n",
    "# Let X denote the number of common balls between the two random draws.\n",
    "\n",
    "# Compute Prob(X=n) for all n between 0 and N\n",
    "n_range = np.arange(np.max([0, N1+N2-N]), np.min([N1, N2])+1)\n",
    "all_probs = [prob(n, N, N1, N2) for n in n_range]\n",
    "sum_all_probs = np.sum(all_probs)\n",
    "print(f'Sum of all probabilities = {sum_all_probs}')\n",
    "\n",
    "# Plot PMF of X\n",
    "plt.figure()\n",
    "plt.bar(x=n_range, height=all_probs)\n",
    "plt.xticks(n_range)\n",
    "plt.xlabel('n')\n",
    "plt.ylabel('Probability')\n",
    "plt.show()"
   ]
  },
  {
   "cell_type": "code",
   "execution_count": 4,
   "id": "7c6502df",
   "metadata": {
    "ExecuteTime": {
     "end_time": "2023-02-16T06:24:16.255641Z",
     "start_time": "2023-02-16T06:24:16.240471Z"
    }
   },
   "outputs": [
    {
     "name": "stdout",
     "output_type": "stream",
     "text": [
      "p-value = 0.3333333333333333\n"
     ]
    }
   ],
   "source": [
    "# Example to compute the p-value\n",
    "N = 10\n",
    "N1 = 3\n",
    "N2 = 4\n",
    "n_star = 2\n",
    "probs_above_n = [prob(n, N, N1, N2) for n in np.arange(n_star, np.min([N1, N2])+1)]\n",
    "p_val = np.sum(probs_above_n)\n",
    "print(f'p-value = {p_val}')"
   ]
  },
  {
   "cell_type": "code",
   "execution_count": 5,
   "id": "eedb384f",
   "metadata": {},
   "outputs": [
    {
     "data": {
      "image/png": "[encoded data removed]",
      "text/plain": [
       "<Figure size 432x288 with 1 Axes>"
      ]
     },
     "metadata": {
      "needs_background": "light"
     },
     "output_type": "display_data"
    }
   ],
   "source": [
    "# hypergeometric distribution\n",
    "M = 10 # total number of objects = number of DE genes\n",
    "n = 3 # total number of type 1 objects = number of DE targets of TF1\n",
    "N = 4 # number of draws wo replacement = number of DE targets of TF2\n",
    "k_range = np.arange(0, 10)\n",
    "all_probs = [hypergeom.pmf(k, M, n, N) for k in k_range]\n",
    "\n",
    "# Plot PMF of X\n",
    "plt.figure()\n",
    "plt.bar(x=k_range, height=all_probs)\n",
    "plt.xticks(k_range)\n",
    "plt.xlabel('k')\n",
    "plt.ylabel('Probability')\n",
    "plt.show()"
   ]
  },
  {
   "cell_type": "code",
   "execution_count": 59,
   "id": "1f7bb933",
   "metadata": {},
   "outputs": [
    {
     "name": "stdout",
     "output_type": "stream",
     "text": [
      "p-value = 0.3333333333333333\n"
     ]
    }
   ],
   "source": [
    "pval = hypergeom.sf(1, M, n, N)\n",
    "print(f'p-value = {p_val}')"
   ]
  },
  {
   "cell_type": "code",
   "execution_count": 40,
   "id": "8eeac9a3",
   "metadata": {},
   "outputs": [
    {
     "data": {
      "text/plain": [
       "0.33333333333333337"
      ]
     },
     "execution_count": 40,
     "metadata": {},
     "output_type": "execute_result"
    }
   ],
   "source": [
    "1 - (binom(3, 0)*binom(7,4)/binom(10,4) + binom(3, 1)*binom(7,3)/binom(10,4))"
   ]
  },
  {
   "cell_type": "code",
   "execution_count": 38,
   "id": "d53d1972",
   "metadata": {},
   "outputs": [
    {
     "data": {
      "text/plain": [
       "0.33333333333333337"
      ]
     },
     "execution_count": 38,
     "metadata": {},
     "output_type": "execute_result"
    }
   ],
   "source": [
    "probs = [binom(3, k)*binom(7,4-k)/binom(10,4) for k in range(2)]\n",
    "1 - sum(probs)"
   ]
  },
  {
   "cell_type": "code",
   "execution_count": 47,
   "id": "24415886",
   "metadata": {},
   "outputs": [
    {
     "name": "stdout",
     "output_type": "stream",
     "text": [
      "[2.7255365376736765e-08, 8.207464743633412e-07, 1.1587914284919069e-05, 0.00010196404909088914, 0.0006268900795958393, 0.0028613878479712444, 0.01005556827061643, 0.027842170847989685, 0.06163854088332651, 0.11007175231597964, 0.15921092745701554, 0.18653114577807492, 0.1762902201275054, 0.13322877634467584, 0.07933972810559034, 0.036383150846100276, 0.012389090158800973, 0.0029483952377927876, 0.0004374197480312221]\n",
      "3.043598571772499e-05\n"
     ]
    }
   ],
   "source": [
    "probs = [binom(19, k) * binom(429-19, 252-k) / binom(429, 252) for k in range(19)]\n",
    "print(probs)\n",
    "print(1 - sum(probs))"
   ]
  },
  {
   "cell_type": "code",
   "execution_count": 52,
   "id": "54971650",
   "metadata": {},
   "outputs": [
    {
     "name": "stdout",
     "output_type": "stream",
     "text": [
      "[2.725536537671692e-08, 8.207464743627274e-07, 1.1587914284911007e-05, 0.00010196404909081293, 0.0006268900795953731, 0.00286138784796911, 0.010055568270609327, 0.02784217084796956, 0.061638540883281696, 0.11007175231590269, 0.15921092745690424, 0.18653114577793928, 0.17629022012737794, 0.13322877634458175, 0.07933972810553115, 0.036383150846073214, 0.01238909015879171, 0.002948395237790736, 0.0004374197480308951]\n",
      "3.043598643581724e-05\n"
     ]
    }
   ],
   "source": [
    "probs = [hypergeom.pmf(k, 429, 19, 252) for k in range(19)]\n",
    "print(probs)\n",
    "print(1 - sum(probs))"
   ]
  },
  {
   "cell_type": "code",
   "execution_count": 53,
   "id": "3af76584",
   "metadata": {},
   "outputs": [
    {
     "data": {
      "text/plain": [
       "3.043598603603692e-05"
      ]
     },
     "execution_count": 53,
     "metadata": {},
     "output_type": "execute_result"
    }
   ],
   "source": [
    "hypergeom.sf(18, 429, 19, 252)"
   ]
  },
  {
   "cell_type": "code",
   "execution_count": 54,
   "id": "6fe39348",
   "metadata": {},
   "outputs": [
    {
     "data": {
      "text/plain": [
       "3.043598643581724e-05"
      ]
     },
     "execution_count": 54,
     "metadata": {},
     "output_type": "execute_result"
    }
   ],
   "source": [
    "1 - hypergeom.cdf(18, 429, 19, 252)"
   ]
  },
  {
   "cell_type": "code",
   "execution_count": null,
   "id": "f036c48f",
   "metadata": {},
   "outputs": [],
   "source": []
  },
  {
   "cell_type": "code",
   "execution_count": null,
   "id": "fb9282e3",
   "metadata": {},
   "outputs": [],
   "source": []
  }
 ],
 "metadata": {
  "kernelspec": {
   "display_name": "Python 3 (ipykernel)",
   "language": "python",
   "name": "python3"
  },
  "language_info": {
   "codemirror_mode": {
    "name": "ipython",
    "version": 3
   },
   "file_extension": ".py",
   "mimetype": "text/x-python",
   "name": "python",
   "nbconvert_exporter": "python",
   "pygments_lexer": "ipython3",
   "version": "3.7.13"
  }
 },
 "nbformat": 4,
 "nbformat_minor": 5
}
