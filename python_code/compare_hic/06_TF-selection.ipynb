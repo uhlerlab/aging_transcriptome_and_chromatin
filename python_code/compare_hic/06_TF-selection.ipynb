{
 "cells": [
  {
   "cell_type": "markdown",
   "id": "4b454c18",
   "metadata": {},
   "source": [
    "# TF Selection"
   ]
  },
  {
   "cell_type": "code",
   "execution_count": 76,
   "id": "64efd8d8",
   "metadata": {},
   "outputs": [],
   "source": [
    "# Import standard libraries\n",
    "from importlib import reload\n",
    "import csv\n",
    "import pandas as pd\n",
    "import numpy as np\n",
    "import scipy.stats as ss\n",
    "import matplotlib.pyplot as plt\n",
    "import seaborn as sns\n",
    "import gseapy\n",
    "from gseapy.plot import barplot, dotplot\n",
    "from tqdm import tqdm\n",
    "import time"
   ]
  },
  {
   "cell_type": "code",
   "execution_count": 49,
   "id": "6e660ab2",
   "metadata": {},
   "outputs": [],
   "source": [
    "import warnings\n",
    "warnings.filterwarnings('ignore')"
   ]
  },
  {
   "cell_type": "code",
   "execution_count": 2,
   "id": "742242d8",
   "metadata": {},
   "outputs": [],
   "source": [
    "# File paths\n",
    "data_dir = \"/home/braunger/masterthesis/data/\"\n",
    "save_dir = \"/home/braunger/masterthesis/save/\"\n",
    "fig_dir = \"/home/braunger/masterthesis/save/figures/TF_selection/\""
   ]
  },
  {
   "cell_type": "code",
   "execution_count": 14,
   "id": "4a1306e7",
   "metadata": {},
   "outputs": [],
   "source": [
    "# Load TFs from design 2 \n",
    "incl_TFs = pd.read_csv(save_dir + 'pcst/incl_TFs_design2.csv')\n",
    "shared_TFs = incl_TFs['TF'].value_counts().to_frame()\n",
    "shared_TFs = shared_TFs[shared_TFs['TF'] == 3].index.tolist()"
   ]
  },
  {
   "cell_type": "markdown",
   "id": "e912c286",
   "metadata": {},
   "source": [
    "## a) MEFISTO weights"
   ]
  },
  {
   "cell_type": "markdown",
   "id": "95efd722",
   "metadata": {},
   "source": [
    "## b) GSEA on all pathways"
   ]
  },
  {
   "cell_type": "code",
   "execution_count": 86,
   "id": "f3a378a9",
   "metadata": {
    "scrolled": false
   },
   "outputs": [
    {
     "name": "stderr",
     "output_type": "stream",
     "text": [
      " 11%|████████████▎                                                                                                        | 2/19 [00:16<02:10,  7.69s/it]2022-08-03 14:24:27,439 Warning: No enrich terms using library GO_Biological_Process_2021 when cutoff = 0.05\n",
      " 26%|██████████████████████████████▊                                                                                      | 5/19 [00:48<02:21, 10.10s/it]2022-08-03 14:24:59,838 Warning: No enrich terms using library GO_Biological_Process_2021 when cutoff = 0.05\n",
      "100%|████████████████████████████████████████████████████████████████████████████████████████████████████████████████████| 19/19 [02:01<00:00,  6.37s/it]\n"
     ]
    }
   ],
   "source": [
    "# Load TF target interactions with annotation\n",
    "tf_targets = pd.read_csv(save_dir + 'TF_targets/TF_targets_anno.csv', sep = ',')\n",
    "tf_targets = tf_targets[tf_targets['expressed'] == True]\n",
    "#tf_targets = tf_targets[tf_targets['DE'] == True]\n",
    "\n",
    "TF_ranking = pd.DataFrame({'TF': [], 'Term': [], 'Adjusted P-value': [], 'Overlap': []})\n",
    "\n",
    "for TF in tqdm(shared_TFs):\n",
    "    time.sleep(0.01)\n",
    "    # Select DE targets of the TF\n",
    "    targets = tf_targets.loc[(tf_targets['TF'] == TF), 'target']\n",
    "    #print(TF, ': ', len(targets))\n",
    "\n",
    "    # GSEA\n",
    "    enr = gseapy.enrichr(gene_list=targets, \n",
    "                         gene_sets='GO_Biological_Process_2021', \n",
    "                         description='', format='png',\n",
    "                         verbose=False)\n",
    "    TF_df = enr.results[enr.results['Adjusted P-value'] < 0.05]\n",
    "    TF_df['TF'] = TF\n",
    "    TF_df = TF_df[['TF', 'Term', 'Adjusted P-value', 'Overlap']]\n",
    "    \n",
    "    TF_ranking = pd.concat([TF_ranking, TF_df.iloc[0:5, :]], ignore_index = True)\n",
    "                           "
   ]
  },
  {
   "cell_type": "code",
   "execution_count": 96,
   "id": "404d16db",
   "metadata": {},
   "outputs": [
    {
     "data": {
      "text/plain": [
       "'ubiquitin-dependent protein catabolic process (GO:0006511)'"
      ]
     },
     "execution_count": 96,
     "metadata": {},
     "output_type": "execute_result"
    }
   ],
   "source": [
    "TF_ranking.Term[12]"
   ]
  },
  {
   "cell_type": "markdown",
   "id": "2defc9ed",
   "metadata": {},
   "source": [
    "## c) GSEA on DE targets with GTEx Aging signatures"
   ]
  },
  {
   "cell_type": "code",
   "execution_count": 66,
   "id": "65c306ab",
   "metadata": {},
   "outputs": [
    {
     "name": "stderr",
     "output_type": "stream",
     "text": [
      "2022-08-03 13:51:56,967 Warning: No enrich terms using library GTEx_Aging_Signatures_2021 when cutoff = 0.05\n",
      "2022-08-03 13:52:01,504 Warning: No enrich terms using library GTEx_Aging_Signatures_2021 when cutoff = 0.05\n",
      "2022-08-03 13:52:03,234 Warning: No enrich terms using library GTEx_Aging_Signatures_2021 when cutoff = 0.05\n",
      "2022-08-03 13:52:29,478 Warning: No enrich terms using library GTEx_Aging_Signatures_2021 when cutoff = 0.05\n",
      "2022-08-03 13:52:32,459 Warning: No enrich terms using library GTEx_Aging_Signatures_2021 when cutoff = 0.05\n",
      "2022-08-03 13:52:34,002 Warning: No enrich terms using library GTEx_Aging_Signatures_2021 when cutoff = 0.05\n",
      "2022-08-03 13:52:36,820 Warning: No enrich terms using library GTEx_Aging_Signatures_2021 when cutoff = 0.05\n",
      "2022-08-03 13:52:39,661 Warning: No enrich terms using library GTEx_Aging_Signatures_2021 when cutoff = 0.05\n",
      "2022-08-03 13:52:41,453 Warning: No enrich terms using library GTEx_Aging_Signatures_2021 when cutoff = 0.05\n",
      "2022-08-03 13:52:42,955 Warning: No enrich terms using library GTEx_Aging_Signatures_2021 when cutoff = 0.05\n",
      "2022-08-03 13:52:45,703 Warning: No enrich terms using library GTEx_Aging_Signatures_2021 when cutoff = 0.05\n",
      "2022-08-03 13:52:48,029 Warning: No enrich terms using library GTEx_Aging_Signatures_2021 when cutoff = 0.05\n",
      "2022-08-03 13:52:50,175 Warning: No enrich terms using library GTEx_Aging_Signatures_2021 when cutoff = 0.05\n",
      "2022-08-03 13:52:52,644 Warning: No enrich terms using library GTEx_Aging_Signatures_2021 when cutoff = 0.05\n",
      "2022-08-03 13:52:54,373 Warning: No enrich terms using library GTEx_Aging_Signatures_2021 when cutoff = 0.05\n",
      "2022-08-03 13:52:56,852 Warning: No enrich terms using library GTEx_Aging_Signatures_2021 when cutoff = 0.05\n",
      "2022-08-03 13:53:07,507 Warning: No enrich terms using library GTEx_Aging_Signatures_2021 when cutoff = 0.05\n",
      "2022-08-03 13:53:32,822 Warning: No enrich terms using library GTEx_Aging_Signatures_2021 when cutoff = 0.05\n",
      "2022-08-03 13:53:35,775 Warning: No enrich terms using library GTEx_Aging_Signatures_2021 when cutoff = 0.05\n"
     ]
    }
   ],
   "source": [
    "TF_ranking = pd.DataFrame({'TF': [], 'adj_p_value': []})\n",
    "\n",
    "for TF in shared_TFs:\n",
    "    # Select targets of the TF\n",
    "    targets = tf_targets.loc[(tf_targets['TF'] == TF), 'target']\n",
    "\n",
    "    # GSEA\n",
    "    enr = gseapy.enrichr(gene_list=targets, \n",
    "                         gene_sets='GTEx_Aging_Signatures_2021', \n",
    "                         description='', format='png',\n",
    "                         verbose=False)\n",
    "\n",
    "    TF_ranking = pd.concat([TF_ranking, \n",
    "                           pd.DataFrame({'TF': [TF], 'adj_p_value': [enr.results['Adjusted P-value'][0]]})], \n",
    "                           ignore_index = True)\n",
    "                           "
   ]
  },
  {
   "cell_type": "code",
   "execution_count": 67,
   "id": "77a2d42d",
   "metadata": {},
   "outputs": [
    {
     "name": "stdout",
     "output_type": "stream",
     "text": [
      "        TF  adj_p_value\n",
      "9    STAT3     0.653138\n",
      "5    NR2C2     0.824809\n",
      "2    FOXO3     0.941196\n",
      "14  TCF7L2     0.961369\n",
      "8    HIF1A     0.987603\n",
      "12     AHR     0.999764\n",
      "11    MAFF     0.999974\n",
      "15    LYL1     0.999985\n",
      "13   BACH2     0.999987\n",
      "3     FLI1     0.999994\n",
      "17     MAZ     0.999994\n",
      "16  NOTCH1     0.999994\n",
      "0    GTF2B     0.999995\n",
      "1     ATF1     0.999996\n",
      "4    TEAD4     0.999996\n",
      "10     SRC     0.999996\n",
      "6    GATA4     0.999996\n",
      "18   STAT1     0.999996\n",
      "7     KAT5     0.999996\n"
     ]
    }
   ],
   "source": [
    "TF_ranking = TF_ranking.sort_values(by=['adj_p_value'])\n",
    "print(TF_ranking)"
   ]
  },
  {
   "cell_type": "markdown",
   "id": "c77c3f18",
   "metadata": {},
   "source": [
    "## d) DEMAGALHAES Aging Gene Set"
   ]
  },
  {
   "cell_type": "code",
   "execution_count": 68,
   "id": "a7ef320d",
   "metadata": {},
   "outputs": [
    {
     "name": "stderr",
     "output_type": "stream",
     "text": [
      "2022-08-03 13:55:26,389 Warning: No enrich terms using library CUSTOM139698517224704 when cutoff = 0.05\n",
      "2022-08-03 13:55:26,456 Warning: No enrich terms using library CUSTOM139698518324416 when cutoff = 0.05\n",
      "2022-08-03 13:55:26,568 Warning: No enrich terms using library CUSTOM139698537917504 when cutoff = 0.05\n",
      "2022-08-03 13:55:26,628 Warning: No enrich terms using library CUSTOM139698516907264 when cutoff = 0.05\n",
      "2022-08-03 13:55:26,692 Warning: No enrich terms using library CUSTOM139698544074880 when cutoff = 0.05\n",
      "2022-08-03 13:55:26,754 Warning: No enrich terms using library CUSTOM139698516127168 when cutoff = 0.05\n",
      "2022-08-03 13:55:26,815 Warning: No enrich terms using library CUSTOM139698517583872 when cutoff = 0.05\n",
      "2022-08-03 13:55:26,874 Warning: No enrich terms using library CUSTOM139698517566784 when cutoff = 0.05\n",
      "2022-08-03 13:55:26,933 Warning: No enrich terms using library CUSTOM139698517545024 when cutoff = 0.05\n",
      "2022-08-03 13:55:26,996 Warning: No enrich terms using library CUSTOM139698516784960 when cutoff = 0.05\n",
      "2022-08-03 13:55:27,056 Warning: No enrich terms using library CUSTOM139698535198976 when cutoff = 0.05\n",
      "2022-08-03 13:55:27,467 Warning: No enrich terms using library CUSTOM139698517222400 when cutoff = 0.05\n",
      "2022-08-03 13:55:27,526 Warning: No enrich terms using library CUSTOM139698534739776 when cutoff = 0.05\n",
      "2022-08-03 13:55:27,586 Warning: No enrich terms using library CUSTOM139698518782208 when cutoff = 0.05\n",
      "2022-08-03 13:55:27,653 Warning: No enrich terms using library CUSTOM139698530107968 when cutoff = 0.05\n",
      "2022-08-03 13:55:27,713 Warning: No enrich terms using library CUSTOM139698535861696 when cutoff = 0.05\n"
     ]
    }
   ],
   "source": [
    "TF_ranking = pd.DataFrame({'TF': [], 'adj_p_value': []})\n",
    "\n",
    "for TF in shared_TFs:\n",
    "    # Select targets of the TF\n",
    "    targets = tf_targets.loc[(tf_targets['TF'] == TF), 'target']\n",
    "    #print(TF, ': ', len(targets))\n",
    "\n",
    "    # GSEA\n",
    "    enr = gseapy.enrichr(gene_list=targets, \n",
    "                         gene_sets= data_dir+'de_data/DEMAGALHAES_AGING_UP.v7.5.1.gmt', \n",
    "                         background = 'hsapiens_gene_ensembl',\n",
    "                         description='', format='png',\n",
    "                         verbose=False)\n",
    "    try: \n",
    "        TF_ranking = pd.concat([TF_ranking, \n",
    "                               pd.DataFrame({'TF': [TF], \n",
    "                                             #'pathway':[enr.results['Term'][0]],\n",
    "                                             'adj_p_value': [enr.results['Adjusted P-value'][0]]})], \n",
    "                               ignore_index = True)\n",
    "    except:\n",
    "        pass"
   ]
  },
  {
   "cell_type": "code",
   "execution_count": 69,
   "id": "5084b83b",
   "metadata": {},
   "outputs": [
    {
     "data": {
      "text/html": [
       "<div>\n",
       "<style scoped>\n",
       "    .dataframe tbody tr th:only-of-type {\n",
       "        vertical-align: middle;\n",
       "    }\n",
       "\n",
       "    .dataframe tbody tr th {\n",
       "        vertical-align: top;\n",
       "    }\n",
       "\n",
       "    .dataframe thead th {\n",
       "        text-align: right;\n",
       "    }\n",
       "</style>\n",
       "<table border=\"1\" class=\"dataframe\">\n",
       "  <thead>\n",
       "    <tr style=\"text-align: right;\">\n",
       "      <th></th>\n",
       "      <th>TF</th>\n",
       "      <th>adj_p_value</th>\n",
       "    </tr>\n",
       "  </thead>\n",
       "  <tbody>\n",
       "    <tr>\n",
       "      <th>11</th>\n",
       "      <td>BACH2</td>\n",
       "      <td>0.011004</td>\n",
       "    </tr>\n",
       "  </tbody>\n",
       "</table>\n",
       "</div>"
      ],
      "text/plain": [
       "       TF  adj_p_value\n",
       "11  BACH2     0.011004"
      ]
     },
     "execution_count": 69,
     "metadata": {},
     "output_type": "execute_result"
    }
   ],
   "source": [
    "TF_ranking[TF_ranking['adj_p_value'] < 0.05]"
   ]
  },
  {
   "cell_type": "code",
   "execution_count": 70,
   "id": "9b5f817d",
   "metadata": {},
   "outputs": [
    {
     "name": "stderr",
     "output_type": "stream",
     "text": [
      "2022-08-03 13:55:31,966 Warning: No enrich terms using library CUSTOM139698535103040 when cutoff = 0.05\n",
      "2022-08-03 13:55:32,026 Warning: No enrich terms using library CUSTOM139698531584640 when cutoff = 0.05\n",
      "2022-08-03 13:55:32,141 Warning: No enrich terms using library CUSTOM139698530598848 when cutoff = 0.05\n",
      "2022-08-03 13:55:32,200 Warning: No enrich terms using library CUSTOM139698535774080 when cutoff = 0.05\n",
      "2022-08-03 13:55:32,308 Warning: No enrich terms using library CUSTOM139698549045376 when cutoff = 0.05\n",
      "2022-08-03 13:55:32,919 Warning: No enrich terms using library CUSTOM139698531059456 when cutoff = 0.05\n",
      "2022-08-03 13:55:32,978 Warning: No enrich terms using library CUSTOM139698516053120 when cutoff = 0.05\n",
      "2022-08-03 13:55:33,087 Warning: No enrich terms using library CUSTOM139698638464064 when cutoff = 0.05\n",
      "2022-08-03 13:55:33,154 Warning: No enrich terms using library CUSTOM139698546876608 when cutoff = 0.05\n",
      "2022-08-03 13:55:33,214 Warning: No enrich terms using library CUSTOM139698533884480 when cutoff = 0.05\n"
     ]
    }
   ],
   "source": [
    "TF_ranking = pd.DataFrame({'TF': [], 'adj_p_value': []})\n",
    "\n",
    "for TF in shared_TFs:\n",
    "    # Select DE targets of the TF\n",
    "    targets = tf_targets.loc[(tf_targets['TF'] == TF), 'target']\n",
    "    #print(TF, ': ', len(targets))\n",
    "\n",
    "    # GSEA\n",
    "    enr = gseapy.enrichr(gene_list=targets, \n",
    "                         gene_sets= data_dir+'de_data/DEMAGALHAES_AGING_DN.v7.5.1.gmt', \n",
    "                         background = 'hsapiens_gene_ensembl',\n",
    "                         description='', format='png',\n",
    "                         verbose=False)\n",
    "    try: \n",
    "        TF_ranking = pd.concat([TF_ranking, \n",
    "                               pd.DataFrame({'TF': [TF], \n",
    "                                             #'pathway':[enr.results['Term'][0]],\n",
    "                                             'adj_p_value': [enr.results['Adjusted P-value'][0]]})], \n",
    "                               ignore_index = True)\n",
    "    except:\n",
    "        pass"
   ]
  },
  {
   "cell_type": "code",
   "execution_count": 71,
   "id": "6d0a3559",
   "metadata": {},
   "outputs": [
    {
     "data": {
      "text/html": [
       "<div>\n",
       "<style scoped>\n",
       "    .dataframe tbody tr th:only-of-type {\n",
       "        vertical-align: middle;\n",
       "    }\n",
       "\n",
       "    .dataframe tbody tr th {\n",
       "        vertical-align: top;\n",
       "    }\n",
       "\n",
       "    .dataframe thead th {\n",
       "        text-align: right;\n",
       "    }\n",
       "</style>\n",
       "<table border=\"1\" class=\"dataframe\">\n",
       "  <thead>\n",
       "    <tr style=\"text-align: right;\">\n",
       "      <th></th>\n",
       "      <th>TF</th>\n",
       "      <th>adj_p_value</th>\n",
       "    </tr>\n",
       "  </thead>\n",
       "  <tbody>\n",
       "    <tr>\n",
       "      <th>5</th>\n",
       "      <td>HIF1A</td>\n",
       "      <td>0.033048</td>\n",
       "    </tr>\n",
       "  </tbody>\n",
       "</table>\n",
       "</div>"
      ],
      "text/plain": [
       "      TF  adj_p_value\n",
       "5  HIF1A     0.033048"
      ]
     },
     "execution_count": 71,
     "metadata": {},
     "output_type": "execute_result"
    }
   ],
   "source": [
    "TF_ranking[TF_ranking['adj_p_value'] < 0.05]"
   ]
  },
  {
   "cell_type": "code",
   "execution_count": null,
   "id": "0799c755",
   "metadata": {},
   "outputs": [],
   "source": []
  }
 ],
 "metadata": {
  "kernelspec": {
   "display_name": "Python 3 (ipykernel)",
   "language": "python",
   "name": "python3"
  },
  "language_info": {
   "codemirror_mode": {
    "name": "ipython",
    "version": 3
   },
   "file_extension": ".py",
   "mimetype": "text/x-python",
   "name": "python",
   "nbconvert_exporter": "python",
   "pygments_lexer": "ipython3",
   "version": "3.9.12"
  }
 },
 "nbformat": 4,
 "nbformat_minor": 5
}
