{
 "cells": [
  {
   "cell_type": "code",
   "execution_count": 15,
   "id": "4866893b",
   "metadata": {},
   "outputs": [],
   "source": [
    "from importlib import reload\n",
    "import sys\n",
    "import pickle\n",
    "import numpy as np \n",
    "import matplotlib as mpl\n",
    "mpl.use('Agg')\n",
    "import matplotlib.pyplot as plt\n",
    "plt.ioff()\n",
    "%matplotlib inline\n",
    "import seaborn as sns\n",
    "import pandas as pd\n",
    "from sklearn.cluster import AgglomerativeClustering\n",
    "from sklearn.decomposition import PCA\n",
    "from sklearn.manifold import TSNE\n",
    "import pybedtools\n",
    "from matplotlib_venn import venn2\n",
    "import gseapy\n",
    "from gseapy.parser import Biomart\n",
    "from gseapy.plot import barplot"
   ]
  },
  {
   "cell_type": "markdown",
   "id": "bdfb6606",
   "metadata": {},
   "source": [
    "## Load data"
   ]
  },
  {
   "cell_type": "code",
   "execution_count": 64,
   "id": "0cba8d7d",
   "metadata": {},
   "outputs": [],
   "source": [
    "active_loci_dir = '/home/braunger/masterthesis/save/active_loci/'\n",
    "genome_dir = '/home/braunger/masterthesis/data/genome_data/'\n",
    "mofa_dir = '/home/braunger/masterthesis/save/'\n",
    "save_dir = '/home/braunger/masterthesis/save/figures/active_loci_comparison/'"
   ]
  },
  {
   "cell_type": "code",
   "execution_count": 65,
   "id": "c7da350b",
   "metadata": {},
   "outputs": [
    {
     "data": {
      "text/html": [
       "<div>\n",
       "<style scoped>\n",
       "    .dataframe tbody tr th:only-of-type {\n",
       "        vertical-align: middle;\n",
       "    }\n",
       "\n",
       "    .dataframe tbody tr th {\n",
       "        vertical-align: top;\n",
       "    }\n",
       "\n",
       "    .dataframe thead th {\n",
       "        text-align: right;\n",
       "    }\n",
       "</style>\n",
       "<table border=\"1\" class=\"dataframe\">\n",
       "  <thead>\n",
       "    <tr style=\"text-align: right;\">\n",
       "      <th></th>\n",
       "      <th>locus</th>\n",
       "      <th>gene</th>\n",
       "    </tr>\n",
       "  </thead>\n",
       "  <tbody>\n",
       "    <tr>\n",
       "      <th>0</th>\n",
       "      <td>chr_1_loc_0</td>\n",
       "      <td>ENST00000456328</td>\n",
       "    </tr>\n",
       "    <tr>\n",
       "      <th>1</th>\n",
       "      <td>chr_1_loc_0</td>\n",
       "      <td>ENST00000515242</td>\n",
       "    </tr>\n",
       "    <tr>\n",
       "      <th>2</th>\n",
       "      <td>chr_1_loc_0</td>\n",
       "      <td>ENST00000518655</td>\n",
       "    </tr>\n",
       "    <tr>\n",
       "      <th>3</th>\n",
       "      <td>chr_1_loc_0</td>\n",
       "      <td>ENST00000450305</td>\n",
       "    </tr>\n",
       "    <tr>\n",
       "      <th>4</th>\n",
       "      <td>chr_1_loc_0</td>\n",
       "      <td>ENST00000438504</td>\n",
       "    </tr>\n",
       "    <tr>\n",
       "      <th>...</th>\n",
       "      <td>...</td>\n",
       "      <td>...</td>\n",
       "    </tr>\n",
       "    <tr>\n",
       "      <th>189908</th>\n",
       "      <td>chr_22_loc_51000000</td>\n",
       "      <td>ENST00000494075</td>\n",
       "    </tr>\n",
       "    <tr>\n",
       "      <th>189909</th>\n",
       "      <td>chr_22_loc_51000000</td>\n",
       "      <td>ENST00000423888</td>\n",
       "    </tr>\n",
       "    <tr>\n",
       "      <th>189910</th>\n",
       "      <td>chr_22_loc_51000000</td>\n",
       "      <td>ENST00000480246</td>\n",
       "    </tr>\n",
       "    <tr>\n",
       "      <th>189911</th>\n",
       "      <td>chr_22_loc_51000000</td>\n",
       "      <td>ENST00000427528</td>\n",
       "    </tr>\n",
       "    <tr>\n",
       "      <th>189912</th>\n",
       "      <td>chr_22_loc_51250000</td>\n",
       "      <td>.</td>\n",
       "    </tr>\n",
       "  </tbody>\n",
       "</table>\n",
       "<p>189913 rows × 2 columns</p>\n",
       "</div>"
      ],
      "text/plain": [
       "                      locus             gene\n",
       "0               chr_1_loc_0  ENST00000456328\n",
       "1               chr_1_loc_0  ENST00000515242\n",
       "2               chr_1_loc_0  ENST00000518655\n",
       "3               chr_1_loc_0  ENST00000450305\n",
       "4               chr_1_loc_0  ENST00000438504\n",
       "...                     ...              ...\n",
       "189908  chr_22_loc_51000000  ENST00000494075\n",
       "189909  chr_22_loc_51000000  ENST00000423888\n",
       "189910  chr_22_loc_51000000  ENST00000480246\n",
       "189911  chr_22_loc_51000000  ENST00000427528\n",
       "189912  chr_22_loc_51250000                .\n",
       "\n",
       "[189913 rows x 2 columns]"
      ]
     },
     "execution_count": 65,
     "metadata": {},
     "output_type": "execute_result"
    }
   ],
   "source": [
    "# Active loci per cell type\n",
    "IMR90 = pd.read_csv(active_loci_dir + \"IMR90_cosine_all_features.txt\")[\"0\"].tolist()\n",
    "old_fibroblasts = pd.read_csv(active_loci_dir + \"old_fibroblasts_cosine_all_features.txt\")[\"0\"].tolist()\n",
    "\n",
    "# Annotation of corresponding loci for each gene\n",
    "genes_loci = pd.read_csv(genome_dir + \"genes_loci.csv\")\n",
    "genes_loci"
   ]
  },
  {
   "cell_type": "markdown",
   "id": "fb9ee9a8",
   "metadata": {},
   "source": [
    "## Intersections of active loci"
   ]
  },
  {
   "cell_type": "code",
   "execution_count": 4,
   "id": "360b2fb1",
   "metadata": {},
   "outputs": [
    {
     "data": {
      "image/png": "[encoded data removed]",
      "text/plain": [
       "<Figure size 432x288 with 1 Axes>"
      ]
     },
     "metadata": {},
     "output_type": "display_data"
    }
   ],
   "source": [
    "venn2(subsets = [set(IMR90), set(old_fibroblasts)], \n",
    "      set_labels = ('IMR90', 'Old fibroblasts'), alpha = 0.5)\n",
    "plt.title(\"Intersections of active loci\")\n",
    "plt.savefig(save_dir+'venn_active_loci_comparison.png')"
   ]
  },
  {
   "cell_type": "markdown",
   "id": "a6032c97",
   "metadata": {},
   "source": [
    "### GSEA on old-specific active loci"
   ]
  },
  {
   "cell_type": "code",
   "execution_count": 43,
   "id": "b73bdb5c",
   "metadata": {},
   "outputs": [
    {
     "name": "stdout",
     "output_type": "stream",
     "text": [
      "['ENST00000424215', 'ENST00000493183', 'ENST00000474659', 'ENST00000419916', 'ENST00000378424']\n",
      "15137\n"
     ]
    }
   ],
   "source": [
    "old_fibroblasts_specific = [x for x in old_fibroblasts if x not in IMR90]\n",
    "old_genes = genes_loci.loc[genes_loci[\"locus\"].isin(old_fibroblasts_specific) , \"gene\"].tolist()\n",
    "print(old_genes[0:5])\n",
    "print(len(old_genes))"
   ]
  },
  {
   "cell_type": "code",
   "execution_count": 51,
   "id": "8c6fe61c",
   "metadata": {},
   "outputs": [
    {
     "data": {
      "text/html": [
       "<div>\n",
       "<style scoped>\n",
       "    .dataframe tbody tr th:only-of-type {\n",
       "        vertical-align: middle;\n",
       "    }\n",
       "\n",
       "    .dataframe tbody tr th {\n",
       "        vertical-align: top;\n",
       "    }\n",
       "\n",
       "    .dataframe thead th {\n",
       "        text-align: right;\n",
       "    }\n",
       "</style>\n",
       "<table border=\"1\" class=\"dataframe\">\n",
       "  <thead>\n",
       "    <tr style=\"text-align: right;\">\n",
       "      <th></th>\n",
       "      <th>ensembl_transcript_id</th>\n",
       "      <th>external_gene_name</th>\n",
       "    </tr>\n",
       "  </thead>\n",
       "  <tbody>\n",
       "    <tr>\n",
       "      <th>0</th>\n",
       "      <td>ENST00000516570</td>\n",
       "      <td>U6</td>\n",
       "    </tr>\n",
       "    <tr>\n",
       "      <th>1</th>\n",
       "      <td>ENST00000393394</td>\n",
       "      <td>NaN</td>\n",
       "    </tr>\n",
       "    <tr>\n",
       "      <th>2</th>\n",
       "      <td>ENST00000395385</td>\n",
       "      <td>ZNF676</td>\n",
       "    </tr>\n",
       "    <tr>\n",
       "      <th>3</th>\n",
       "      <td>ENST00000540591</td>\n",
       "      <td>PRAMEF18</td>\n",
       "    </tr>\n",
       "    <tr>\n",
       "      <th>4</th>\n",
       "      <td>ENST00000363400</td>\n",
       "      <td>Y_RNA</td>\n",
       "    </tr>\n",
       "    <tr>\n",
       "      <th>...</th>\n",
       "      <td>...</td>\n",
       "      <td>...</td>\n",
       "    </tr>\n",
       "    <tr>\n",
       "      <th>13336</th>\n",
       "      <td>ENST00000359637</td>\n",
       "      <td>CFH</td>\n",
       "    </tr>\n",
       "    <tr>\n",
       "      <th>13337</th>\n",
       "      <td>ENST00000470918</td>\n",
       "      <td>CFH</td>\n",
       "    </tr>\n",
       "    <tr>\n",
       "      <th>13338</th>\n",
       "      <td>ENST00000367429</td>\n",
       "      <td>CFH</td>\n",
       "    </tr>\n",
       "    <tr>\n",
       "      <th>13339</th>\n",
       "      <td>ENST00000496761</td>\n",
       "      <td>CFH</td>\n",
       "    </tr>\n",
       "    <tr>\n",
       "      <th>13340</th>\n",
       "      <td>ENST00000466229</td>\n",
       "      <td>CFH</td>\n",
       "    </tr>\n",
       "  </tbody>\n",
       "</table>\n",
       "<p>13341 rows × 2 columns</p>\n",
       "</div>"
      ],
      "text/plain": [
       "      ensembl_transcript_id external_gene_name\n",
       "0           ENST00000516570                 U6\n",
       "1           ENST00000393394                NaN\n",
       "2           ENST00000395385             ZNF676\n",
       "3           ENST00000540591           PRAMEF18\n",
       "4           ENST00000363400              Y_RNA\n",
       "...                     ...                ...\n",
       "13336       ENST00000359637                CFH\n",
       "13337       ENST00000470918                CFH\n",
       "13338       ENST00000367429                CFH\n",
       "13339       ENST00000496761                CFH\n",
       "13340       ENST00000466229                CFH\n",
       "\n",
       "[13341 rows x 2 columns]"
      ]
     },
     "execution_count": 51,
     "metadata": {},
     "output_type": "execute_result"
    }
   ],
   "source": [
    "# Use Biomart to translate from ensemble gene id to gene name\n",
    "bm = Biomart()\n",
    "## query results\n",
    "results = bm.query(dataset='hsapiens_gene_ensembl',\n",
    "                   attributes=['ensembl_transcript_id', 'external_gene_name'],\n",
    "                   filters={'ensembl_transcript_id': old_genes})\n",
    "results"
   ]
  },
  {
   "cell_type": "code",
   "execution_count": 52,
   "id": "9ce5a6fd",
   "metadata": {},
   "outputs": [
    {
     "data": {
      "text/plain": [
       "4080"
      ]
     },
     "execution_count": 52,
     "metadata": {},
     "output_type": "execute_result"
    }
   ],
   "source": [
    "old_specific_genes = np.unique(np.array(results[\"external_gene_name\"].tolist())).tolist()\n",
    "len(old_specific_genes)"
   ]
  },
  {
   "cell_type": "code",
   "execution_count": 56,
   "id": "1e180b98",
   "metadata": {},
   "outputs": [
    {
     "name": "stderr",
     "output_type": "stream",
     "text": [
      "/home/braunger/miniconda3/envs/hic/lib/python3.9/site-packages/gseapy/enrichr.py:427: FutureWarning: The frame.append method is deprecated and will be removed from pandas in a future version. Use pandas.concat instead.\n",
      "  self.results = self.results.append(res, ignore_index=True)\n"
     ]
    },
    {
     "name": "stdout",
     "output_type": "stream",
     "text": [
      "3330\n"
     ]
    }
   ],
   "source": [
    "# GSEA of old-specific genes\n",
    "enr = gseapy.enrichr(gene_list=old_specific_genes, gene_sets='GO_Biological_Process_2018', organism='Human',\n",
    "                     description='old_specific', outdir='gsea_top_hic',format='png',\n",
    "                     verbose=False)\n",
    "print(len(enr.results))"
   ]
  },
  {
   "cell_type": "code",
   "execution_count": 57,
   "id": "cec9fab3",
   "metadata": {},
   "outputs": [
    {
     "data": {
      "text/html": [
       "<div>\n",
       "<style scoped>\n",
       "    .dataframe tbody tr th:only-of-type {\n",
       "        vertical-align: middle;\n",
       "    }\n",
       "\n",
       "    .dataframe tbody tr th {\n",
       "        vertical-align: top;\n",
       "    }\n",
       "\n",
       "    .dataframe thead th {\n",
       "        text-align: right;\n",
       "    }\n",
       "</style>\n",
       "<table border=\"1\" class=\"dataframe\">\n",
       "  <thead>\n",
       "    <tr style=\"text-align: right;\">\n",
       "      <th></th>\n",
       "      <th>Gene_set</th>\n",
       "      <th>Term</th>\n",
       "      <th>Overlap</th>\n",
       "      <th>P-value</th>\n",
       "      <th>Adjusted P-value</th>\n",
       "      <th>Old P-value</th>\n",
       "      <th>Old Adjusted P-value</th>\n",
       "      <th>Odds Ratio</th>\n",
       "      <th>Combined Score</th>\n",
       "      <th>Genes</th>\n",
       "    </tr>\n",
       "  </thead>\n",
       "  <tbody>\n",
       "    <tr>\n",
       "      <th>0</th>\n",
       "      <td>GO_Biological_Process_2018</td>\n",
       "      <td>peptide cross-linking (GO:0018149)</td>\n",
       "      <td>23/47</td>\n",
       "      <td>0.000012</td>\n",
       "      <td>0.038592</td>\n",
       "      <td>0</td>\n",
       "      <td>0</td>\n",
       "      <td>3.754909</td>\n",
       "      <td>42.676197</td>\n",
       "      <td>SPRR4;SPRR3;KRT2;KRT1;F13A1;LCE1E;LCE1F;LCE2D;...</td>\n",
       "    </tr>\n",
       "    <tr>\n",
       "      <th>1</th>\n",
       "      <td>GO_Biological_Process_2018</td>\n",
       "      <td>keratinocyte differentiation (GO:0030216)</td>\n",
       "      <td>22/59</td>\n",
       "      <td>0.002044</td>\n",
       "      <td>0.999996</td>\n",
       "      <td>0</td>\n",
       "      <td>0</td>\n",
       "      <td>2.327241</td>\n",
       "      <td>14.412369</td>\n",
       "      <td>SPRR4;SPRR3;ST14;AKR1C3;LCE1E;LCE1F;LCE1C;LCE2...</td>\n",
       "    </tr>\n",
       "    <tr>\n",
       "      <th>2</th>\n",
       "      <td>GO_Biological_Process_2018</td>\n",
       "      <td>epidermal cell differentiation (GO:0009913)</td>\n",
       "      <td>24/67</td>\n",
       "      <td>0.002457</td>\n",
       "      <td>0.999996</td>\n",
       "      <td>0</td>\n",
       "      <td>0</td>\n",
       "      <td>2.184808</td>\n",
       "      <td>13.128518</td>\n",
       "      <td>SPRR4;SPRR3;ST14;SPINK5;AKR1C3;LCE1E;LCE1F;LCE...</td>\n",
       "    </tr>\n",
       "    <tr>\n",
       "      <th>3</th>\n",
       "      <td>GO_Biological_Process_2018</td>\n",
       "      <td>natural killer cell activation involved in imm...</td>\n",
       "      <td>10/20</td>\n",
       "      <td>0.003014</td>\n",
       "      <td>0.999996</td>\n",
       "      <td>0</td>\n",
       "      <td>0</td>\n",
       "      <td>3.909091</td>\n",
       "      <td>22.690809</td>\n",
       "      <td>IFNA4;IFNA7;IFNA14;IFNA16;IFNB1;IFNA17;KLRF2;I...</td>\n",
       "    </tr>\n",
       "    <tr>\n",
       "      <th>4</th>\n",
       "      <td>GO_Biological_Process_2018</td>\n",
       "      <td>regulation of peptidyl-serine phosphorylation ...</td>\n",
       "      <td>9/18</td>\n",
       "      <td>0.004870</td>\n",
       "      <td>0.999996</td>\n",
       "      <td>0</td>\n",
       "      <td>0</td>\n",
       "      <td>3.908376</td>\n",
       "      <td>20.810888</td>\n",
       "      <td>IFNA4;IFNA7;IFNA14;IFNA16;IFNB1;IFNA17;IFNW1;I...</td>\n",
       "    </tr>\n",
       "  </tbody>\n",
       "</table>\n",
       "</div>"
      ],
      "text/plain": [
       "                     Gene_set  \\\n",
       "0  GO_Biological_Process_2018   \n",
       "1  GO_Biological_Process_2018   \n",
       "2  GO_Biological_Process_2018   \n",
       "3  GO_Biological_Process_2018   \n",
       "4  GO_Biological_Process_2018   \n",
       "\n",
       "                                                Term Overlap   P-value  \\\n",
       "0                 peptide cross-linking (GO:0018149)   23/47  0.000012   \n",
       "1          keratinocyte differentiation (GO:0030216)   22/59  0.002044   \n",
       "2        epidermal cell differentiation (GO:0009913)   24/67  0.002457   \n",
       "3  natural killer cell activation involved in imm...   10/20  0.003014   \n",
       "4  regulation of peptidyl-serine phosphorylation ...    9/18  0.004870   \n",
       "\n",
       "   Adjusted P-value  Old P-value  Old Adjusted P-value  Odds Ratio  \\\n",
       "0          0.038592            0                     0    3.754909   \n",
       "1          0.999996            0                     0    2.327241   \n",
       "2          0.999996            0                     0    2.184808   \n",
       "3          0.999996            0                     0    3.909091   \n",
       "4          0.999996            0                     0    3.908376   \n",
       "\n",
       "   Combined Score                                              Genes  \n",
       "0       42.676197  SPRR4;SPRR3;KRT2;KRT1;F13A1;LCE1E;LCE1F;LCE2D;...  \n",
       "1       14.412369  SPRR4;SPRR3;ST14;AKR1C3;LCE1E;LCE1F;LCE1C;LCE2...  \n",
       "2       13.128518  SPRR4;SPRR3;ST14;SPINK5;AKR1C3;LCE1E;LCE1F;LCE...  \n",
       "3       22.690809  IFNA4;IFNA7;IFNA14;IFNA16;IFNB1;IFNA17;KLRF2;I...  \n",
       "4       20.810888  IFNA4;IFNA7;IFNA14;IFNA16;IFNB1;IFNA17;IFNW1;I...  "
      ]
     },
     "execution_count": 57,
     "metadata": {},
     "output_type": "execute_result"
    }
   ],
   "source": [
    "# Visualize results\n",
    "enr.results.head(5)"
   ]
  },
  {
   "cell_type": "code",
   "execution_count": 63,
   "id": "409349db",
   "metadata": {},
   "outputs": [
    {
     "data": {
      "image/png": "[encoded data removed]",
      "text/plain": [
       "<Figure size 468x432 with 1 Axes>"
      ]
     },
     "metadata": {
      "needs_background": "light"
     },
     "output_type": "display_data"
    }
   ],
   "source": [
    "# Barplot\n",
    "barplot(enr.res2d, column='Adjusted P-value', title='GO_Biological_Process_2018',\n",
    "        cutoff=0.05, top_term=20, figsize=(6.5, 6), color='salmon', ofname=None)"
   ]
  },
  {
   "cell_type": "markdown",
   "id": "bf49f1ec",
   "metadata": {},
   "source": [
    "### GSEA on IMR90 specific active loci"
   ]
  },
  {
   "cell_type": "code",
   "execution_count": 44,
   "id": "c4cab889",
   "metadata": {},
   "outputs": [
    {
     "name": "stdout",
     "output_type": "stream",
     "text": [
      "['ENST00000511072', 'ENST00000442529', 'ENST00000441472', 'ENST00000378398', 'ENST00000607632']\n",
      "24719\n"
     ]
    }
   ],
   "source": [
    "IMR90_specific = [x for x in IMR90 if x not in old_fibroblasts]\n",
    "IMR90_genes = genes_loci.loc[genes_loci[\"locus\"].isin(IMR90_specific) , \"gene\"].tolist()\n",
    "print(IMR90_genes[0:5])\n",
    "print(len(IMR90_genes))"
   ]
  },
  {
   "cell_type": "code",
   "execution_count": 53,
   "id": "351cbd68",
   "metadata": {},
   "outputs": [
    {
     "data": {
      "text/html": [
       "<div>\n",
       "<style scoped>\n",
       "    .dataframe tbody tr th:only-of-type {\n",
       "        vertical-align: middle;\n",
       "    }\n",
       "\n",
       "    .dataframe tbody tr th {\n",
       "        vertical-align: top;\n",
       "    }\n",
       "\n",
       "    .dataframe thead th {\n",
       "        text-align: right;\n",
       "    }\n",
       "</style>\n",
       "<table border=\"1\" class=\"dataframe\">\n",
       "  <thead>\n",
       "    <tr style=\"text-align: right;\">\n",
       "      <th></th>\n",
       "      <th>ensembl_transcript_id</th>\n",
       "      <th>external_gene_name</th>\n",
       "    </tr>\n",
       "  </thead>\n",
       "  <tbody>\n",
       "    <tr>\n",
       "      <th>0</th>\n",
       "      <td>ENST00000294916</td>\n",
       "      <td>MT2P1</td>\n",
       "    </tr>\n",
       "    <tr>\n",
       "      <th>1</th>\n",
       "      <td>ENST00000535188</td>\n",
       "      <td>NaN</td>\n",
       "    </tr>\n",
       "    <tr>\n",
       "      <th>2</th>\n",
       "      <td>ENST00000601863</td>\n",
       "      <td>NaN</td>\n",
       "    </tr>\n",
       "    <tr>\n",
       "      <th>3</th>\n",
       "      <td>ENST00000313038</td>\n",
       "      <td>LAIR1</td>\n",
       "    </tr>\n",
       "    <tr>\n",
       "      <th>4</th>\n",
       "      <td>ENST00000340373</td>\n",
       "      <td>OR6W1P</td>\n",
       "    </tr>\n",
       "    <tr>\n",
       "      <th>...</th>\n",
       "      <td>...</td>\n",
       "      <td>...</td>\n",
       "    </tr>\n",
       "    <tr>\n",
       "      <th>22562</th>\n",
       "      <td>ENST00000410856</td>\n",
       "      <td>RNU2-38P</td>\n",
       "    </tr>\n",
       "    <tr>\n",
       "      <th>22563</th>\n",
       "      <td>ENST00000531288</td>\n",
       "      <td>NaN</td>\n",
       "    </tr>\n",
       "    <tr>\n",
       "      <th>22564</th>\n",
       "      <td>ENST00000532137</td>\n",
       "      <td>NaN</td>\n",
       "    </tr>\n",
       "    <tr>\n",
       "      <th>22565</th>\n",
       "      <td>ENST00000364829</td>\n",
       "      <td>RNVU1-24</td>\n",
       "    </tr>\n",
       "    <tr>\n",
       "      <th>22566</th>\n",
       "      <td>ENST00000313342</td>\n",
       "      <td>NaN</td>\n",
       "    </tr>\n",
       "  </tbody>\n",
       "</table>\n",
       "<p>22567 rows × 2 columns</p>\n",
       "</div>"
      ],
      "text/plain": [
       "      ensembl_transcript_id external_gene_name\n",
       "0           ENST00000294916              MT2P1\n",
       "1           ENST00000535188                NaN\n",
       "2           ENST00000601863                NaN\n",
       "3           ENST00000313038              LAIR1\n",
       "4           ENST00000340373             OR6W1P\n",
       "...                     ...                ...\n",
       "22562       ENST00000410856           RNU2-38P\n",
       "22563       ENST00000531288                NaN\n",
       "22564       ENST00000532137                NaN\n",
       "22565       ENST00000364829           RNVU1-24\n",
       "22566       ENST00000313342                NaN\n",
       "\n",
       "[22567 rows x 2 columns]"
      ]
     },
     "execution_count": 53,
     "metadata": {},
     "output_type": "execute_result"
    }
   ],
   "source": [
    "# Use Biomart to translate from ensemble gene id to gene name\n",
    "bm = Biomart()\n",
    "## query results\n",
    "results_IMR90 = bm.query(dataset='hsapiens_gene_ensembl',\n",
    "                   attributes=['ensembl_transcript_id', 'external_gene_name'],\n",
    "                   filters={'ensembl_transcript_id': IMR90_genes})\n",
    "results_IMR90"
   ]
  },
  {
   "cell_type": "code",
   "execution_count": 46,
   "id": "28ae328f",
   "metadata": {},
   "outputs": [
    {
     "data": {
      "text/plain": [
       "4800"
      ]
     },
     "execution_count": 46,
     "metadata": {},
     "output_type": "execute_result"
    }
   ],
   "source": [
    "IMR90_specific_genes = np.unique(np.array(results_IMR90[\"external_gene_name\"].tolist())).tolist()\n",
    "len(IMR90_specific_genes)"
   ]
  },
  {
   "cell_type": "code",
   "execution_count": 47,
   "id": "1d373a5c",
   "metadata": {},
   "outputs": [
    {
     "name": "stderr",
     "output_type": "stream",
     "text": [
      "/home/braunger/miniconda3/envs/hic/lib/python3.9/site-packages/gseapy/enrichr.py:427: FutureWarning: The frame.append method is deprecated and will be removed from pandas in a future version. Use pandas.concat instead.\n",
      "  self.results = self.results.append(res, ignore_index=True)\n",
      "2022-04-20 11:07:06,390 Warning: No enrich terms using library GO_Biological_Process_2018 when cutoff = 0.05\n"
     ]
    },
    {
     "name": "stdout",
     "output_type": "stream",
     "text": [
      "4388\n"
     ]
    }
   ],
   "source": [
    "# GSEA of IMR90-specific genes\n",
    "enr_IMR90 = gseapy.enrichr(gene_list=IMR90_specific_genes, gene_sets='GO_Biological_Process_2018', organism='Human',\n",
    "                     description='IMR90_specific', outdir='gsea_top_hic',format='png',\n",
    "                     verbose=False)\n",
    "print(len(enr_IMR90.results))"
   ]
  },
  {
   "cell_type": "code",
   "execution_count": 48,
   "id": "b42ef7ed",
   "metadata": {},
   "outputs": [
    {
     "data": {
      "text/html": [
       "<div>\n",
       "<style scoped>\n",
       "    .dataframe tbody tr th:only-of-type {\n",
       "        vertical-align: middle;\n",
       "    }\n",
       "\n",
       "    .dataframe tbody tr th {\n",
       "        vertical-align: top;\n",
       "    }\n",
       "\n",
       "    .dataframe thead th {\n",
       "        text-align: right;\n",
       "    }\n",
       "</style>\n",
       "<table border=\"1\" class=\"dataframe\">\n",
       "  <thead>\n",
       "    <tr style=\"text-align: right;\">\n",
       "      <th></th>\n",
       "      <th>Gene_set</th>\n",
       "      <th>Term</th>\n",
       "      <th>Overlap</th>\n",
       "      <th>P-value</th>\n",
       "      <th>Adjusted P-value</th>\n",
       "      <th>Old P-value</th>\n",
       "      <th>Old Adjusted P-value</th>\n",
       "      <th>Odds Ratio</th>\n",
       "      <th>Combined Score</th>\n",
       "      <th>Genes</th>\n",
       "    </tr>\n",
       "  </thead>\n",
       "  <tbody>\n",
       "    <tr>\n",
       "      <th>0</th>\n",
       "      <td>GO_Biological_Process_2018</td>\n",
       "      <td>positive regulation of tumor necrosis factor s...</td>\n",
       "      <td>7/11</td>\n",
       "      <td>0.005923</td>\n",
       "      <td>0.999996</td>\n",
       "      <td>0</td>\n",
       "      <td>0</td>\n",
       "      <td>5.548300</td>\n",
       "      <td>28.456921</td>\n",
       "      <td>IFIH1;ORM1;FZD5;DDX58;WNT5A;LGALS9;ORM2</td>\n",
       "    </tr>\n",
       "    <tr>\n",
       "      <th>1</th>\n",
       "      <td>GO_Biological_Process_2018</td>\n",
       "      <td>cellular response to gonadotropin stimulus (GO...</td>\n",
       "      <td>5/7</td>\n",
       "      <td>0.010708</td>\n",
       "      <td>0.999996</td>\n",
       "      <td>0</td>\n",
       "      <td>0</td>\n",
       "      <td>7.923879</td>\n",
       "      <td>35.948862</td>\n",
       "      <td>LHCGR;NOTCH1;PAX8;FSHR;NSMF</td>\n",
       "    </tr>\n",
       "    <tr>\n",
       "      <th>2</th>\n",
       "      <td>GO_Biological_Process_2018</td>\n",
       "      <td>positive regulation of histone H3-K4 methylati...</td>\n",
       "      <td>7/13</td>\n",
       "      <td>0.019441</td>\n",
       "      <td>0.999996</td>\n",
       "      <td>0</td>\n",
       "      <td>0</td>\n",
       "      <td>3.698380</td>\n",
       "      <td>14.573077</td>\n",
       "      <td>KMT2E;PAXIP1;SNW1;AUTS2;DNMT3B;CTNNB1;WDR61</td>\n",
       "    </tr>\n",
       "    <tr>\n",
       "      <th>3</th>\n",
       "      <td>GO_Biological_Process_2018</td>\n",
       "      <td>regulation of dendritic spine development (GO:...</td>\n",
       "      <td>13/31</td>\n",
       "      <td>0.020794</td>\n",
       "      <td>0.999996</td>\n",
       "      <td>0</td>\n",
       "      <td>0</td>\n",
       "      <td>2.290532</td>\n",
       "      <td>8.871482</td>\n",
       "      <td>EPHA4;MEF2C;FXR1;ARHGAP44;SIPA1L1;CDK5;DLG5;NE...</td>\n",
       "    </tr>\n",
       "    <tr>\n",
       "      <th>4</th>\n",
       "      <td>GO_Biological_Process_2018</td>\n",
       "      <td>acylglycerol homeostasis (GO:0055090)</td>\n",
       "      <td>10/22</td>\n",
       "      <td>0.022383</td>\n",
       "      <td>0.999996</td>\n",
       "      <td>0</td>\n",
       "      <td>0</td>\n",
       "      <td>2.642310</td>\n",
       "      <td>10.039372</td>\n",
       "      <td>SCARB1;MLXIPL;HNF4A;ANGPTL3;LPL;APOA1;APOC3;AP...</td>\n",
       "    </tr>\n",
       "  </tbody>\n",
       "</table>\n",
       "</div>"
      ],
      "text/plain": [
       "                     Gene_set  \\\n",
       "0  GO_Biological_Process_2018   \n",
       "1  GO_Biological_Process_2018   \n",
       "2  GO_Biological_Process_2018   \n",
       "3  GO_Biological_Process_2018   \n",
       "4  GO_Biological_Process_2018   \n",
       "\n",
       "                                                Term Overlap   P-value  \\\n",
       "0  positive regulation of tumor necrosis factor s...    7/11  0.005923   \n",
       "1  cellular response to gonadotropin stimulus (GO...     5/7  0.010708   \n",
       "2  positive regulation of histone H3-K4 methylati...    7/13  0.019441   \n",
       "3  regulation of dendritic spine development (GO:...   13/31  0.020794   \n",
       "4              acylglycerol homeostasis (GO:0055090)   10/22  0.022383   \n",
       "\n",
       "   Adjusted P-value  Old P-value  Old Adjusted P-value  Odds Ratio  \\\n",
       "0          0.999996            0                     0    5.548300   \n",
       "1          0.999996            0                     0    7.923879   \n",
       "2          0.999996            0                     0    3.698380   \n",
       "3          0.999996            0                     0    2.290532   \n",
       "4          0.999996            0                     0    2.642310   \n",
       "\n",
       "   Combined Score                                              Genes  \n",
       "0       28.456921            IFIH1;ORM1;FZD5;DDX58;WNT5A;LGALS9;ORM2  \n",
       "1       35.948862                        LHCGR;NOTCH1;PAX8;FSHR;NSMF  \n",
       "2       14.573077        KMT2E;PAXIP1;SNW1;AUTS2;DNMT3B;CTNNB1;WDR61  \n",
       "3        8.871482  EPHA4;MEF2C;FXR1;ARHGAP44;SIPA1L1;CDK5;DLG5;NE...  \n",
       "4       10.039372  SCARB1;MLXIPL;HNF4A;ANGPTL3;LPL;APOA1;APOC3;AP...  "
      ]
     },
     "execution_count": 48,
     "metadata": {},
     "output_type": "execute_result"
    }
   ],
   "source": [
    "# Visualize results\n",
    "enr_IMR90.results.head(5)"
   ]
  },
  {
   "cell_type": "code",
   "execution_count": 50,
   "id": "e1b12481",
   "metadata": {},
   "outputs": [
    {
     "data": {
      "text/plain": [
       "'Warning: No enrich terms using library GO_Biological_Process_2018 when cutoff = 0.1'"
      ]
     },
     "execution_count": 50,
     "metadata": {},
     "output_type": "execute_result"
    }
   ],
   "source": [
    "# Barplot\n",
    "barplot(enr_IMR90.res2d, column='Adjusted P-value', title='GO_Biological_Process_2018',\n",
    "        cutoff=0.1, top_term=20, figsize=(6.5, 6), color='salmon', ofname=None)"
   ]
  },
  {
   "cell_type": "code",
   "execution_count": null,
   "id": "ddd7b57b",
   "metadata": {},
   "outputs": [],
   "source": []
  }
 ],
 "metadata": {
  "kernelspec": {
   "display_name": "Python 3 (ipykernel)",
   "language": "python",
   "name": "python3"
  },
  "language_info": {
   "codemirror_mode": {
    "name": "ipython",
    "version": 3
   },
   "file_extension": ".py",
   "mimetype": "text/x-python",
   "name": "python",
   "nbconvert_exporter": "python",
   "pygments_lexer": "ipython3",
   "version": "3.9.12"
  }
 },
 "nbformat": 4,
 "nbformat_minor": 5
}
