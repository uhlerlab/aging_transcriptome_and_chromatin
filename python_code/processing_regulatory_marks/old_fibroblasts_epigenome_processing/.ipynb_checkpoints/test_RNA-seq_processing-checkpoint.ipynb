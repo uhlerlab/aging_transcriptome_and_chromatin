{
 "cells": [
  {
   "cell_type": "code",
   "execution_count": 18,
   "id": "cc3be39d",
   "metadata": {},
   "outputs": [],
   "source": [
    "from importlib import reload\n",
    "import sys\n",
    "import numpy as np \n",
    "import matplotlib as mpl\n",
    "mpl.use('Agg')\n",
    "import matplotlib.pyplot as plt\n",
    "plt.ioff()\n",
    "import seaborn as sns\n",
    "import pandas as pd\n",
    "from sklearn.cluster import AgglomerativeClustering\n",
    "import pybedtools\n",
    "from joblib import Parallel, delayed\n",
    "import get_feature_matrix_perchr as gfm\n",
    "from tqdm import tqdm\n",
    "import time"
   ]
  },
  {
   "cell_type": "markdown",
   "id": "77f96a62",
   "metadata": {},
   "source": [
    "## Load transcript annotation data"
   ]
  },
  {
   "cell_type": "code",
   "execution_count": 2,
   "id": "c7beca1b",
   "metadata": {},
   "outputs": [],
   "source": [
    "genome_dir = '/home/braunger/masterthesis/data/genome_data/'\n",
    "epigenome_dir = '/home/braunger/masterthesis/data/regulatory_data/regulatory_data_old_fibroblasts/'"
   ]
  },
  {
   "cell_type": "code",
   "execution_count": 16,
   "id": "07e6041c",
   "metadata": {},
   "outputs": [],
   "source": [
    "cell_type = 'old_fibroblasts'\n",
    "resol_str = '250kb'\n",
    "resol = 250000\n",
    "quality = 'MAPQGE30'"
   ]
  },
  {
   "cell_type": "markdown",
   "id": "611bbd75",
   "metadata": {},
   "source": [
    "Data about the positions of the transcripts on the chromosomes were downloaded using the UCSC Table Browser (assembly: hg19, group: Genes and Gene Predictions, track: Ensembl Genes, table: ensGene)"
   ]
  },
  {
   "cell_type": "code",
   "execution_count": 15,
   "id": "9c30fa54",
   "metadata": {},
   "outputs": [
    {
     "data": {
      "text/html": [
       "<div>\n",
       "<style scoped>\n",
       "    .dataframe tbody tr th:only-of-type {\n",
       "        vertical-align: middle;\n",
       "    }\n",
       "\n",
       "    .dataframe tbody tr th {\n",
       "        vertical-align: top;\n",
       "    }\n",
       "\n",
       "    .dataframe thead th {\n",
       "        text-align: right;\n",
       "    }\n",
       "</style>\n",
       "<table border=\"1\" class=\"dataframe\">\n",
       "  <thead>\n",
       "    <tr style=\"text-align: right;\">\n",
       "      <th></th>\n",
       "      <th>chrom</th>\n",
       "      <th>start</th>\n",
       "      <th>end</th>\n",
       "      <th>name</th>\n",
       "      <th>score</th>\n",
       "    </tr>\n",
       "  </thead>\n",
       "  <tbody>\n",
       "    <tr>\n",
       "      <th>0</th>\n",
       "      <td>chr1</td>\n",
       "      <td>66999065</td>\n",
       "      <td>67210057</td>\n",
       "      <td>ENST00000237247</td>\n",
       "      <td>+</td>\n",
       "    </tr>\n",
       "    <tr>\n",
       "      <th>1</th>\n",
       "      <td>chr1</td>\n",
       "      <td>66999274</td>\n",
       "      <td>67210768</td>\n",
       "      <td>ENST00000371039</td>\n",
       "      <td>+</td>\n",
       "    </tr>\n",
       "    <tr>\n",
       "      <th>2</th>\n",
       "      <td>chr1</td>\n",
       "      <td>66999297</td>\n",
       "      <td>67145425</td>\n",
       "      <td>ENST00000424320</td>\n",
       "      <td>+</td>\n",
       "    </tr>\n",
       "    <tr>\n",
       "      <th>3</th>\n",
       "      <td>chr1</td>\n",
       "      <td>66999822</td>\n",
       "      <td>67208882</td>\n",
       "      <td>ENST00000371035</td>\n",
       "      <td>+</td>\n",
       "    </tr>\n",
       "    <tr>\n",
       "      <th>4</th>\n",
       "      <td>chr1</td>\n",
       "      <td>66999838</td>\n",
       "      <td>67142779</td>\n",
       "      <td>ENST00000468286</td>\n",
       "      <td>+</td>\n",
       "    </tr>\n",
       "  </tbody>\n",
       "</table>\n",
       "</div>"
      ],
      "text/plain": [
       "  chrom     start       end             name score\n",
       "0  chr1  66999065  67210057  ENST00000237247     +\n",
       "1  chr1  66999274  67210768  ENST00000371039     +\n",
       "2  chr1  66999297  67145425  ENST00000424320     +\n",
       "3  chr1  66999822  67208882  ENST00000371035     +\n",
       "4  chr1  66999838  67142779  ENST00000468286     +"
      ]
     },
     "execution_count": 15,
     "metadata": {},
     "output_type": "execute_result"
    }
   ],
   "source": [
    "transcript_annotations = pd.read_csv(genome_dir+'gene_annotation.tsv', sep = '\\t', header=0)\n",
    "selected_cols = [\"chrom\", \"txStart\", \"txEnd\", \"name\", \"strand\"]\n",
    "transcript_annotations = transcript_annotations.loc[:, selected_cols]\n",
    "transcript_annotations.columns = [\"chrom\", \"start\", \"end\", \"name\", \"score\"]\n",
    "\n",
    "transcript_annotations.head()"
   ]
  },
  {
   "cell_type": "markdown",
   "id": "bdde234e",
   "metadata": {},
   "source": [
    "### Load RNA-Seq data"
   ]
  },
  {
   "cell_type": "code",
   "execution_count": 13,
   "id": "5edb83e1",
   "metadata": {},
   "outputs": [
    {
     "data": {
      "text/html": [
       "<div>\n",
       "<style scoped>\n",
       "    .dataframe tbody tr th:only-of-type {\n",
       "        vertical-align: middle;\n",
       "    }\n",
       "\n",
       "    .dataframe tbody tr th {\n",
       "        vertical-align: top;\n",
       "    }\n",
       "\n",
       "    .dataframe thead th {\n",
       "        text-align: right;\n",
       "    }\n",
       "</style>\n",
       "<table border=\"1\" class=\"dataframe\">\n",
       "  <thead>\n",
       "    <tr style=\"text-align: right;\">\n",
       "      <th></th>\n",
       "      <th>name</th>\n",
       "      <th>count</th>\n",
       "    </tr>\n",
       "  </thead>\n",
       "  <tbody>\n",
       "    <tr>\n",
       "      <th>1000</th>\n",
       "      <td>ENST00000470664</td>\n",
       "      <td>0.00</td>\n",
       "    </tr>\n",
       "    <tr>\n",
       "      <th>1001</th>\n",
       "      <td>ENST00000474842</td>\n",
       "      <td>0.00</td>\n",
       "    </tr>\n",
       "    <tr>\n",
       "      <th>1002</th>\n",
       "      <td>ENST00000479953</td>\n",
       "      <td>0.04</td>\n",
       "    </tr>\n",
       "    <tr>\n",
       "      <th>1003</th>\n",
       "      <td>ENST00000490965</td>\n",
       "      <td>4.50</td>\n",
       "    </tr>\n",
       "    <tr>\n",
       "      <th>1004</th>\n",
       "      <td>ENST00000494258</td>\n",
       "      <td>0.00</td>\n",
       "    </tr>\n",
       "    <tr>\n",
       "      <th>1005</th>\n",
       "      <td>ENST00000233156</td>\n",
       "      <td>8.46</td>\n",
       "    </tr>\n",
       "  </tbody>\n",
       "</table>\n",
       "</div>"
      ],
      "text/plain": [
       "                 name  count\n",
       "1000  ENST00000470664   0.00\n",
       "1001  ENST00000474842   0.00\n",
       "1002  ENST00000479953   0.04\n",
       "1003  ENST00000490965   4.50\n",
       "1004  ENST00000494258   0.00\n",
       "1005  ENST00000233156   8.46"
      ]
     },
     "execution_count": 13,
     "metadata": {},
     "output_type": "execute_result"
    }
   ],
   "source": [
    "rna_seq_counts = pd.read_csv(epigenome_dir + 'GSM2072585_ENCFF913ZKI_transcript_quantifications_hg19.tsv', sep = '\\t', header = 0)\n",
    "#select columns\n",
    "selected_cols = [\"transcript_id\", \"FPKM\"]\n",
    "rna_seq_counts = rna_seq_counts.loc[:, selected_cols]\n",
    "#remove version number of transcript_id\n",
    "rna_seq_counts['transcript_id'] = rna_seq_counts['transcript_id'].str.split(r'.').str.get(0)\n",
    "#rename columns\n",
    "rna_seq_counts.columns = [\"name\", \"count\"]\n",
    "\n",
    "rna_seq_counts.loc[1000:1005,:]"
   ]
  },
  {
   "cell_type": "markdown",
   "id": "51b9f54d",
   "metadata": {},
   "source": [
    "### Processing for one chromosome"
   ]
  },
  {
   "cell_type": "code",
   "execution_count": 26,
   "id": "4ca6eed2",
   "metadata": {},
   "outputs": [
    {
     "name": "stdout",
     "output_type": "stream",
     "text": [
      "249250621\n"
     ]
    },
    {
     "data": {
      "text/html": [
       "<div>\n",
       "<style scoped>\n",
       "    .dataframe tbody tr th:only-of-type {\n",
       "        vertical-align: middle;\n",
       "    }\n",
       "\n",
       "    .dataframe tbody tr th {\n",
       "        vertical-align: top;\n",
       "    }\n",
       "\n",
       "    .dataframe thead th {\n",
       "        text-align: right;\n",
       "    }\n",
       "</style>\n",
       "<table border=\"1\" class=\"dataframe\">\n",
       "  <thead>\n",
       "    <tr style=\"text-align: right;\">\n",
       "      <th></th>\n",
       "      <th>chrom</th>\n",
       "      <th>start</th>\n",
       "      <th>stop</th>\n",
       "    </tr>\n",
       "  </thead>\n",
       "  <tbody>\n",
       "    <tr>\n",
       "      <th>0</th>\n",
       "      <td>chr1</td>\n",
       "      <td>0</td>\n",
       "      <td>250000</td>\n",
       "    </tr>\n",
       "    <tr>\n",
       "      <th>1</th>\n",
       "      <td>chr1</td>\n",
       "      <td>250000</td>\n",
       "      <td>500000</td>\n",
       "    </tr>\n",
       "    <tr>\n",
       "      <th>2</th>\n",
       "      <td>chr1</td>\n",
       "      <td>500000</td>\n",
       "      <td>750000</td>\n",
       "    </tr>\n",
       "    <tr>\n",
       "      <th>3</th>\n",
       "      <td>chr1</td>\n",
       "      <td>750000</td>\n",
       "      <td>1000000</td>\n",
       "    </tr>\n",
       "    <tr>\n",
       "      <th>4</th>\n",
       "      <td>chr1</td>\n",
       "      <td>1000000</td>\n",
       "      <td>1250000</td>\n",
       "    </tr>\n",
       "  </tbody>\n",
       "</table>\n",
       "</div>"
      ],
      "text/plain": [
       "  chrom    start     stop\n",
       "0  chr1        0   250000\n",
       "1  chr1   250000   500000\n",
       "2  chr1   500000   750000\n",
       "3  chr1   750000  1000000\n",
       "4  chr1  1000000  1250000"
      ]
     },
     "execution_count": 26,
     "metadata": {},
     "output_type": "execute_result"
    }
   ],
   "source": [
    "chrom = 1\n",
    "# Get chromosome size\n",
    "sizes_filename = genome_dir+'chrom_hg19.sizes'\n",
    "df_sizes = pd.read_csv(sizes_filename, sep = '\\t', header = None, names=['chr','size'])\n",
    "chrom_size = int(df_sizes.loc[df_sizes['chr']=='chr'+str(chrom)]['size'])\n",
    "print(chrom_size)\n",
    "    \n",
    "# Divide the chromosome into segments of HIC_RESOLN length\n",
    "stop_pos = np.arange(resol, chrom_size + resol, resol, dtype = 'int')\n",
    "df_chrom = pd.DataFrame()\n",
    "df_chrom['chrom'] = ['chr' + str(chrom)]*len(stop_pos)\n",
    "df_chrom['start'] = stop_pos - resol\n",
    "df_chrom['stop'] = stop_pos\n",
    "df_chrom.head()"
   ]
  },
  {
   "cell_type": "code",
   "execution_count": 39,
   "id": "46988100",
   "metadata": {},
   "outputs": [],
   "source": [
    "# Convert to bed file\n",
    "bed_chrom = pybedtools.BedTool.from_dataframe(df_chrom)\n",
    "bed_chrom_df = bed_chrom.to_dataframe()\n",
    "    \n",
    "# Get bed file of the feature\n",
    "bed = pybedtools.BedTool.from_dataframe(transcript_annotations).sort()\n",
    "# Get counts for this feature and this chromosome\n",
    "out = pybedtools.bedtool.BedTool.map(bed_chrom, bed, c = 4, o = 'collapse', F = 0.25)\n",
    "counts = out.to_dataframe()['name'].values"
   ]
  },
  {
   "cell_type": "code",
   "execution_count": 51,
   "id": "fd6c5fae",
   "metadata": {},
   "outputs": [
    {
     "name": "stderr",
     "output_type": "stream",
     "text": [
      "100%|██████████████████████████████████████████████████████████████████████████████████████████████████████████████████████| 998/998 [01:15<00:00, 13.17it/s]\n"
     ]
    }
   ],
   "source": [
    "loci_counts = []\n",
    "for loc_genes in tqdm(counts):\n",
    "    time.sleep(.01)\n",
    "    genes = loc_genes.split(r\",\")\n",
    "    genes_df = pd.DataFrame({'name': genes})\n",
    "    gene_counts = pd.merge(genes_df, rna_seq_counts, on = \"name\", how = \"left\")\n",
    "    loci_count = sum(gene_counts['count'])\n",
    "    loci_counts.append(loci_count)\n",
    "\n",
    "df_chrom['counts'] = loci_counts"
   ]
  },
  {
   "cell_type": "code",
   "execution_count": 52,
   "id": "ec84cb11",
   "metadata": {},
   "outputs": [
    {
     "data": {
      "text/html": [
       "<div>\n",
       "<style scoped>\n",
       "    .dataframe tbody tr th:only-of-type {\n",
       "        vertical-align: middle;\n",
       "    }\n",
       "\n",
       "    .dataframe tbody tr th {\n",
       "        vertical-align: top;\n",
       "    }\n",
       "\n",
       "    .dataframe thead th {\n",
       "        text-align: right;\n",
       "    }\n",
       "</style>\n",
       "<table border=\"1\" class=\"dataframe\">\n",
       "  <thead>\n",
       "    <tr style=\"text-align: right;\">\n",
       "      <th></th>\n",
       "      <th>chrom</th>\n",
       "      <th>start</th>\n",
       "      <th>stop</th>\n",
       "      <th>counts</th>\n",
       "    </tr>\n",
       "  </thead>\n",
       "  <tbody>\n",
       "    <tr>\n",
       "      <th>0</th>\n",
       "      <td>chr1</td>\n",
       "      <td>0</td>\n",
       "      <td>250000</td>\n",
       "      <td>13.54</td>\n",
       "    </tr>\n",
       "    <tr>\n",
       "      <th>1</th>\n",
       "      <td>chr1</td>\n",
       "      <td>250000</td>\n",
       "      <td>500000</td>\n",
       "      <td>1.13</td>\n",
       "    </tr>\n",
       "    <tr>\n",
       "      <th>2</th>\n",
       "      <td>chr1</td>\n",
       "      <td>500000</td>\n",
       "      <td>750000</td>\n",
       "      <td>28.70</td>\n",
       "    </tr>\n",
       "    <tr>\n",
       "      <th>3</th>\n",
       "      <td>chr1</td>\n",
       "      <td>750000</td>\n",
       "      <td>1000000</td>\n",
       "      <td>142.27</td>\n",
       "    </tr>\n",
       "    <tr>\n",
       "      <th>4</th>\n",
       "      <td>chr1</td>\n",
       "      <td>1000000</td>\n",
       "      <td>1250000</td>\n",
       "      <td>191.97</td>\n",
       "    </tr>\n",
       "  </tbody>\n",
       "</table>\n",
       "</div>"
      ],
      "text/plain": [
       "  chrom    start     stop  counts\n",
       "0  chr1        0   250000   13.54\n",
       "1  chr1   250000   500000    1.13\n",
       "2  chr1   500000   750000   28.70\n",
       "3  chr1   750000  1000000  142.27\n",
       "4  chr1  1000000  1250000  191.97"
      ]
     },
     "execution_count": 52,
     "metadata": {},
     "output_type": "execute_result"
    }
   ],
   "source": [
    "df_chrom.head()"
   ]
  },
  {
   "cell_type": "code",
   "execution_count": null,
   "id": "5bb6cf4b",
   "metadata": {},
   "outputs": [],
   "source": []
  },
  {
   "cell_type": "code",
   "execution_count": null,
   "id": "531f6890",
   "metadata": {},
   "outputs": [],
   "source": []
  },
  {
   "cell_type": "code",
   "execution_count": null,
   "id": "e626dcfe",
   "metadata": {},
   "outputs": [],
   "source": []
  },
  {
   "cell_type": "code",
   "execution_count": null,
   "id": "280ea207",
   "metadata": {},
   "outputs": [],
   "source": []
  }
 ],
 "metadata": {
  "kernelspec": {
   "display_name": "Python 3 (ipykernel)",
   "language": "python",
   "name": "python3"
  },
  "language_info": {
   "codemirror_mode": {
    "name": "ipython",
    "version": 3
   },
   "file_extension": ".py",
   "mimetype": "text/x-python",
   "name": "python",
   "nbconvert_exporter": "python",
   "pygments_lexer": "ipython3",
   "version": "3.9.12"
  }
 },
 "nbformat": 4,
 "nbformat_minor": 5
}
