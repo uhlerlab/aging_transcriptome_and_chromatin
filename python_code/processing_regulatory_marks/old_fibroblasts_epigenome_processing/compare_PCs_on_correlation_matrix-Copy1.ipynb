{
 "cells": [
  {
   "cell_type": "code",
   "execution_count": 1,
   "metadata": {},
   "outputs": [],
   "source": [
    "from importlib import reload\n",
    "import sys\n",
    "import pickle\n",
    "import numpy as np \n",
    "import matplotlib as mpl\n",
    "mpl.use('Agg')\n",
    "import matplotlib.pyplot as plt\n",
    "plt.ioff()\n",
    "%matplotlib inline\n",
    "import seaborn as sns\n",
    "import pandas as pd\n",
    "from sklearn.cluster import AgglomerativeClustering\n",
    "from sklearn.decomposition import PCA\n",
    "from sklearn.manifold import TSNE\n",
    "import pybedtools\n",
    "from joblib import Parallel, delayed\n",
    "from tqdm import tqdm\n",
    "import time\n",
    "from matplotlib_venn import venn3, venn3_circles\n",
    "from upsetplot import from_contents\n",
    "from upsetplot import UpSet\n",
    "import fastcluster\n",
    "from matplotlib_venn import venn3"
   ]
  },
  {
   "cell_type": "markdown",
   "metadata": {},
   "source": [
    "# Data directories"
   ]
  },
  {
   "cell_type": "code",
   "execution_count": 3,
   "metadata": {},
   "outputs": [],
   "source": [
    "cell_type = 'old_fibroblasts'\n",
    "resol_str = '250kb'\n",
    "resol = 250000\n",
    "quality = 'MAPQGE30'"
   ]
  },
  {
   "cell_type": "code",
   "execution_count": 2,
   "metadata": {},
   "outputs": [],
   "source": [
    "genome_dir = '/home/braunger/masterthesis/data/genome_data/'\n",
    "epigenome_dir = '/home/braunger/masterthesis/data/regulatory_data/regulatory_data_old_fibroblasts/'\n",
    "processed_epigenome_data_dir = '/home/braunger/masterthesis/save/processed_regulatory_marks/processed_epigenome_data_old_fibroblasts/'\n",
    "processed_hic_data_dir = '/home/braunger/masterthesis/save/processed_hic_data/processed_hic_data_old_fibroblasts/final_BP250000_intraKR_interINTERKR/'\n",
    "PCs_dir = '/home/braunger/masterthesis/save/processed_hic_data/processed_hic_data_old_fibroblasts/intrachromosomal_PCs/'"
   ]
  },
  {
   "cell_type": "markdown",
   "metadata": {},
   "source": [
    "# Determine active and inactive regions"
   ]
  },
  {
   "cell_type": "markdown",
   "metadata": {},
   "source": [
    "### Correlations of PCs on observed/expected vs. correlation matrix"
   ]
  },
  {
   "cell_type": "code",
   "execution_count": 5,
   "metadata": {},
   "outputs": [
    {
     "name": "stdout",
     "output_type": "stream",
     "text": [
      "Correlation PC1 on chrom 1: -0.5314610440256154\n",
      "Correlation PC2 on chrom 1: -0.4688307414636234\n",
      "\n",
      "Correlation PC1 on chrom 2: 0.9486688600788655\n",
      "Correlation PC2 on chrom 2: 0.044295259819526915\n",
      "\n",
      "Correlation PC1 on chrom 3: 0.9615366080861644\n",
      "Correlation PC2 on chrom 3: -0.4901484541428304\n",
      "\n",
      "Correlation PC1 on chrom 4: 0.8942040153131134\n",
      "Correlation PC2 on chrom 4: 0.8347403832726008\n",
      "\n",
      "Correlation PC1 on chrom 5: 0.9444103260170683\n",
      "Correlation PC2 on chrom 5: 0.7880940816135036\n",
      "\n",
      "Correlation PC1 on chrom 6: 0.9577117503223919\n",
      "Correlation PC2 on chrom 6: -0.5903100491083964\n",
      "\n",
      "Correlation PC1 on chrom 7: 0.9652181070513298\n",
      "Correlation PC2 on chrom 7: 0.4981028713062605\n",
      "\n",
      "Correlation PC1 on chrom 8: 0.9718454059002244\n",
      "Correlation PC2 on chrom 8: 0.5033265001162988\n",
      "\n",
      "Correlation PC1 on chrom 9: -0.2634053334744483\n",
      "Correlation PC2 on chrom 9: -0.3303801729141994\n",
      "\n",
      "Correlation PC1 on chrom 10: 0.9766272271171346\n",
      "Correlation PC2 on chrom 10: 0.6562065209255278\n",
      "\n",
      "Correlation PC1 on chrom 11: 0.9714982532183457\n",
      "Correlation PC2 on chrom 11: 0.5810700067983043\n",
      "\n",
      "Correlation PC1 on chrom 12: 0.9673356121533104\n",
      "Correlation PC2 on chrom 12: 0.671303379387281\n",
      "\n",
      "Correlation PC1 on chrom 13: 0.7479949952598627\n",
      "Correlation PC2 on chrom 13: 0.7916908913851128\n",
      "\n",
      "Correlation PC1 on chrom 14: -0.6402547165981521\n",
      "Correlation PC2 on chrom 14: -0.6906570450823517\n",
      "\n",
      "Correlation PC1 on chrom 15: -0.6263144793969735\n",
      "Correlation PC2 on chrom 15: -0.6139797753596741\n",
      "\n",
      "Correlation PC1 on chrom 16: 0.9167606525869485\n",
      "Correlation PC2 on chrom 16: -0.7037109508699023\n",
      "\n",
      "Correlation PC1 on chrom 17: 0.9599894473471896\n",
      "Correlation PC2 on chrom 17: -0.5348373594693748\n",
      "\n",
      "Correlation PC1 on chrom 18: 0.9124118111088996\n",
      "Correlation PC2 on chrom 18: 0.5973699452288505\n",
      "\n",
      "Correlation PC1 on chrom 19: 0.9468037674826921\n",
      "Correlation PC2 on chrom 19: -0.12482053106659886\n",
      "\n",
      "Correlation PC1 on chrom 20: -0.9683293181417064\n",
      "Correlation PC2 on chrom 20: 0.7234358320496568\n",
      "\n",
      "Correlation PC1 on chrom 21: 0.8629386998059507\n",
      "Correlation PC2 on chrom 21: 0.931258051511967\n",
      "\n",
      "Correlation PC1 on chrom 22: -0.6822509302389754\n",
      "Correlation PC2 on chrom 22: 0.7071912387964506\n",
      "\n"
     ]
    }
   ],
   "source": [
    "chr_list =  np.arange(1,22+1)\n",
    "for chrom in chr_list:\n",
    "    PCs = pd.read_csv(PCs_dir+'PCs_chr'+str(chrom)+'.csv', header=0, index_col = 0)\n",
    "    PCs_corr = pd.read_csv(PCs_dir+'PCs_corr_chr'+str(chrom)+'.csv', header=0, index_col = 0)\n",
    "\n",
    "    #Calculate correlation of PCs\n",
    "    corr_PC1 = np.corrcoef(PCs.iloc[:, 0], PCs_corr.iloc[:, 0])[0,1]\n",
    "    corr_PC2 = np.corrcoef(PCs.iloc[:, 1], PCs_corr.iloc[:, 1])[0,1]\n",
    "\n",
    "    print(\"Correlation PC1 on chrom \"+str(chrom)+\": \"+str(corr_PC1))\n",
    "    print(\"Correlation PC2 on chrom \"+str(chrom)+\": \"+str(corr_PC2))\n",
    "    print()"
   ]
  },
  {
   "cell_type": "markdown",
   "metadata": {},
   "source": [
    "### Load epigenomic data"
   ]
  },
  {
   "cell_type": "code",
   "execution_count": 8,
   "metadata": {},
   "outputs": [],
   "source": [
    "# Helper function for loading principal component data\n",
    "def get_PCs(PCs_dir, chrom, df_chipseq_norm, input_type):\n",
    "    # load PCs\n",
    "    if input_type == \"correlation\":\n",
    "        PCs = pd.read_csv(PCs_dir+'PCs_corr_chr'+str(chrom)+'.csv', header=0, index_col = 0)\n",
    "    else: \n",
    "        PCs = pd.read_csv(PCs_dir+'PCs_chr'+str(chrom)+'.csv', header=0, index_col = 0)\n",
    "    \n",
    "    # calculate correlation of the two PCs to the RNA-seq\n",
    "    corr_PC1 = np.corrcoef(PCs.iloc[:, 0], df_chipseq_norm.loc['RNA-seq'])[0,1]\n",
    "    corr_PC2 = np.corrcoef(PCs.iloc[:, 1], df_chipseq_norm.loc['RNA-seq'])[0,1]\n",
    "    \n",
    "    # choose between PC1 and PC2 the one with higher correlation and correct to positive correlation with RNA-seq\n",
    "    if abs(corr_PC1) >= abs(corr_PC2):\n",
    "        if corr_PC1 < 0:\n",
    "            PC = -1 * PCs.iloc[:, 0]\n",
    "        else:\n",
    "            PC = PCs.iloc[:, 0]\n",
    "    else:\n",
    "        if corr_PC2 < 0:\n",
    "            PC = -1 * PCs.iloc[:, 1]\n",
    "        else:\n",
    "            PC = PCs.iloc[:, 1]\n",
    "\n",
    "    \n",
    "    # create pd DataFrame\n",
    "    PC = pd.DataFrame(PC).T\n",
    "    if input_type == \"correlation\": \n",
    "        PC.index = [\"PC_corr\"]\n",
    "    else:\n",
    "        PC.index = [\"PC\"]\n",
    "    PC.columns = df_chipseq_norm.columns\n",
    "    return(PC)"
   ]
  },
  {
   "cell_type": "code",
   "execution_count": 9,
   "metadata": {
    "scrolled": true
   },
   "outputs": [],
   "source": [
    "# collect normalized epigenomic data across all chromosomes into one dataframe\n",
    "df_all_norm = pd.DataFrame()\n",
    "chr_list =  np.arange(1,22+1)\n",
    "for chrom in chr_list:\n",
    "    # get feature matrix per chromosome\n",
    "    df_chipseq_norm = pd.read_csv(processed_epigenome_data_dir+'features_matrix_chr'+str(chrom)+'_norm.csv', header=0, index_col = 0)\n",
    "    df_chipseq_norm.columns = 'chr_'+str(chrom)+'_loc_'+np.array(df_chipseq_norm.columns)\n",
    "    # get PCs on intrachromosomal hic data\n",
    "    PC = get_PCs(PCs_dir, chrom, df_chipseq_norm, \"normal\")\n",
    "    # get PCs on correlation matrix of intrachromosomal hic data\n",
    "    PC_corr = get_PCs(PCs_dir, chrom, df_chipseq_norm, \"correlation\")\n",
    "    # add PC as feature\n",
    "    df_chipseq_complete = pd.concat([df_chipseq_norm, PC, PC_corr], axis = 0)\n",
    "    # Concatenate to data for previous chromosomes\n",
    "    df_all_norm = pd.concat([df_all_norm, df_chipseq_complete],axis=1)"
   ]
  },
  {
   "cell_type": "markdown",
   "metadata": {},
   "source": [
    "### Correlation between features"
   ]
  },
  {
   "cell_type": "code",
   "execution_count": 10,
   "metadata": {},
   "outputs": [
    {
     "data": {
      "image/png": "[encoded data removed]",
      "text/plain": [
       "<Figure size 1080x864 with 2 Axes>"
      ]
     },
     "metadata": {
      "needs_background": "light"
     },
     "output_type": "display_data"
    }
   ],
   "source": [
    "plt.figure(figsize = (15,12))\n",
    "sns.heatmap(df_all_norm.T.corr(), cmap = \"seismic\", vmin = -1, vmax = 1)\n",
    "plt.show()"
   ]
  },
  {
   "cell_type": "code",
   "execution_count": 11,
   "metadata": {},
   "outputs": [
    {
     "data": {
      "text/plain": [
       "0.8147647849734316"
      ]
     },
     "execution_count": 11,
     "metadata": {},
     "output_type": "execute_result"
    }
   ],
   "source": [
    "# Correlation between PC based on observed/expected vs based on correlation matrix\n",
    "df_all_norm.T.corr().loc[\"PC\", \"PC_corr\"]"
   ]
  },
  {
   "cell_type": "markdown",
   "metadata": {},
   "source": [
    "### Correlation to RNAseq"
   ]
  },
  {
   "cell_type": "code",
   "execution_count": 14,
   "metadata": {},
   "outputs": [
    {
     "data": {
      "text/plain": [
       "0.5259192011867013"
      ]
     },
     "execution_count": 14,
     "metadata": {},
     "output_type": "execute_result"
    }
   ],
   "source": [
    "df_all_norm.T.corr().loc[\"RNA-seq\", \"PC\"]"
   ]
  },
  {
   "cell_type": "code",
   "execution_count": 15,
   "metadata": {},
   "outputs": [
    {
     "data": {
      "text/plain": [
       "0.5098520760967433"
      ]
     },
     "execution_count": 15,
     "metadata": {},
     "output_type": "execute_result"
    }
   ],
   "source": [
    "df_all_norm.T.corr().loc[\"RNA-seq\", \"PC_corr\"]"
   ]
  },
  {
   "cell_type": "code",
   "execution_count": null,
   "metadata": {},
   "outputs": [],
   "source": []
  }
 ],
 "metadata": {
  "kernelspec": {
   "display_name": "Python 3 (ipykernel)",
   "language": "python",
   "name": "python3"
  },
  "language_info": {
   "codemirror_mode": {
    "name": "ipython",
    "version": 3
   },
   "file_extension": ".py",
   "mimetype": "text/x-python",
   "name": "python",
   "nbconvert_exporter": "python",
   "pygments_lexer": "ipython3",
   "version": "3.9.12"
  }
 },
 "nbformat": 4,
 "nbformat_minor": 2
}
