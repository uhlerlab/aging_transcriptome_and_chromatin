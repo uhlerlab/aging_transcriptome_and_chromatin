{
 "cells": [
  {
   "cell_type": "markdown",
   "id": "8aba551c",
   "metadata": {},
   "source": [
    "# Prize-Collecting Steiner Trees\n",
    "## Imports"
   ]
  },
  {
   "cell_type": "code",
   "execution_count": 1,
   "id": "d3dad024",
   "metadata": {},
   "outputs": [],
   "source": [
    "# Import standard libraries\n",
    "from importlib import reload\n",
    "import csv\n",
    "import OmicsIntegrator as oi\n",
    "import pandas as pd\n",
    "import numpy as np\n",
    "import scipy.stats as ss\n",
    "import networkx as nx\n",
    "import matplotlib.pyplot as plt\n",
    "import pickle\n",
    "import tqdm\n",
    "import time\n",
    "\n",
    "# Import custom libraries\n",
    "import neighborhoods as nbh\n",
    "import pcst_utils as pcst"
   ]
  },
  {
   "cell_type": "code",
   "execution_count": 155,
   "id": "7879eb51",
   "metadata": {},
   "outputs": [
    {
     "data": {
      "text/plain": [
       "<module 'pcst_utils' from '/home/braunger/masterthesis/python_code/PCST/pcst_utils.py'>"
      ]
     },
     "execution_count": 155,
     "metadata": {},
     "output_type": "execute_result"
    }
   ],
   "source": [
    "# Reload modules in case of modifications\n",
    "reload(nbh)\n",
    "reload(pcst)"
   ]
  },
  {
   "cell_type": "code",
   "execution_count": 118,
   "id": "2061c3d9",
   "metadata": {},
   "outputs": [],
   "source": [
    "# File paths\n",
    "data_dir = \"/home/braunger/masterthesis/data/\"\n",
    "save_dir = \"/home/braunger/masterthesis/save/pcst/\""
   ]
  },
  {
   "cell_type": "markdown",
   "id": "dc01d1b6",
   "metadata": {},
   "source": [
    "## Preliminary Analyses about the TFs"
   ]
  },
  {
   "cell_type": "code",
   "execution_count": 201,
   "id": "874e4d5d",
   "metadata": {},
   "outputs": [
    {
     "name": "stdout",
     "output_type": "stream",
     "text": [
      "47 out of the 48 TFs from hTFtarget are included in STRING.\n"
     ]
    }
   ],
   "source": [
    "# Load TF-target interactions\n",
    "tf_targets = pd.read_csv(data_dir + 'tf_data/tftarget_full_processed.csv', sep = '\\t')\n",
    "tf_targets = tf_targets[['tf', 'target_gene']].drop_duplicates()\n",
    "\n",
    "# filter TF-target interactions to the ones included in STRING\n",
    "# since hTF also includes non-protein-coding genes\n",
    "PPI = pd.read_csv(data_dir + 'ppi_data/PPI_string_processed.csv', sep = '\\t')\n",
    "proteins = set(PPI['protein1']).union(set(PPI['protein2']))\n",
    "tf_targets = tf_targets[tf_targets['tf'].isin(proteins)]\n",
    "tf_targets = tf_targets[tf_targets['target_gene'].isin(proteins)]\n",
    "\n",
    "n_TFs = len(set(tf_targets['tf']))\n",
    "print(str(n_TFs) + \" out of the 48 TFs from hTFtarget are included in STRING.\")"
   ]
  },
  {
   "cell_type": "code",
   "execution_count": 164,
   "id": "68151eae",
   "metadata": {},
   "outputs": [
    {
     "data": {
      "image/png": "[encoded data removed]",
      "text/plain": [
       "<Figure size 432x288 with 1 Axes>"
      ]
     },
     "metadata": {
      "needs_background": "light"
     },
     "output_type": "display_data"
    }
   ],
   "source": [
    "TF_counts = pd.DataFrame(tf_targets['tf'].value_counts())\n",
    "\n",
    "# Histogram of number of targets\n",
    "plt.figure()\n",
    "plt.hist(TF_counts['tf'], bins = 30)\n",
    "plt.xlabel(\"Number of target genes\")\n",
    "plt.ylabel(\"Counts\")\n",
    "plt.title(\"Distribution of the number of target genes of the TFs\")\n",
    "plt.show()"
   ]
  },
  {
   "cell_type": "code",
   "execution_count": 227,
   "id": "55a5618c",
   "metadata": {},
   "outputs": [
    {
     "data": {
      "text/html": [
       "<div>\n",
       "<style scoped>\n",
       "    .dataframe tbody tr th:only-of-type {\n",
       "        vertical-align: middle;\n",
       "    }\n",
       "\n",
       "    .dataframe tbody tr th {\n",
       "        vertical-align: top;\n",
       "    }\n",
       "\n",
       "    .dataframe thead th {\n",
       "        text-align: right;\n",
       "    }\n",
       "</style>\n",
       "<table border=\"1\" class=\"dataframe\">\n",
       "  <thead>\n",
       "    <tr style=\"text-align: right;\">\n",
       "      <th></th>\n",
       "      <th>tf</th>\n",
       "    </tr>\n",
       "  </thead>\n",
       "  <tbody>\n",
       "    <tr>\n",
       "      <th>LMNB1</th>\n",
       "      <td>16835</td>\n",
       "    </tr>\n",
       "    <tr>\n",
       "      <th>SPI1</th>\n",
       "      <td>16789</td>\n",
       "    </tr>\n",
       "    <tr>\n",
       "      <th>CTCF</th>\n",
       "      <td>14042</td>\n",
       "    </tr>\n",
       "    <tr>\n",
       "      <th>FOXA2</th>\n",
       "      <td>13582</td>\n",
       "    </tr>\n",
       "    <tr>\n",
       "      <th>MAZ</th>\n",
       "      <td>13234</td>\n",
       "    </tr>\n",
       "    <tr>\n",
       "      <th>GTF2I</th>\n",
       "      <td>11663</td>\n",
       "    </tr>\n",
       "    <tr>\n",
       "      <th>CEBPB</th>\n",
       "      <td>11624</td>\n",
       "    </tr>\n",
       "    <tr>\n",
       "      <th>POLR2A</th>\n",
       "      <td>10976</td>\n",
       "    </tr>\n",
       "    <tr>\n",
       "      <th>GATA4</th>\n",
       "      <td>9981</td>\n",
       "    </tr>\n",
       "    <tr>\n",
       "      <th>RB1</th>\n",
       "      <td>9934</td>\n",
       "    </tr>\n",
       "    <tr>\n",
       "      <th>RAD21</th>\n",
       "      <td>9148</td>\n",
       "    </tr>\n",
       "    <tr>\n",
       "      <th>KLF4</th>\n",
       "      <td>8593</td>\n",
       "    </tr>\n",
       "    <tr>\n",
       "      <th>EP300</th>\n",
       "      <td>8269</td>\n",
       "    </tr>\n",
       "    <tr>\n",
       "      <th>MYC</th>\n",
       "      <td>6666</td>\n",
       "    </tr>\n",
       "    <tr>\n",
       "      <th>TP53</th>\n",
       "      <td>5873</td>\n",
       "    </tr>\n",
       "    <tr>\n",
       "      <th>CHD1</th>\n",
       "      <td>5577</td>\n",
       "    </tr>\n",
       "    <tr>\n",
       "      <th>RBL2</th>\n",
       "      <td>5296</td>\n",
       "    </tr>\n",
       "    <tr>\n",
       "      <th>MAFK</th>\n",
       "      <td>5075</td>\n",
       "    </tr>\n",
       "    <tr>\n",
       "      <th>GTF2B</th>\n",
       "      <td>4451</td>\n",
       "    </tr>\n",
       "    <tr>\n",
       "      <th>MXI1</th>\n",
       "      <td>3580</td>\n",
       "    </tr>\n",
       "    <tr>\n",
       "      <th>PHF8</th>\n",
       "      <td>3488</td>\n",
       "    </tr>\n",
       "    <tr>\n",
       "      <th>E2F7</th>\n",
       "      <td>3180</td>\n",
       "    </tr>\n",
       "    <tr>\n",
       "      <th>MITF</th>\n",
       "      <td>2911</td>\n",
       "    </tr>\n",
       "    <tr>\n",
       "      <th>SOX2</th>\n",
       "      <td>2816</td>\n",
       "    </tr>\n",
       "    <tr>\n",
       "      <th>RCOR1</th>\n",
       "      <td>2611</td>\n",
       "    </tr>\n",
       "    <tr>\n",
       "      <th>CREBBP</th>\n",
       "      <td>2536</td>\n",
       "    </tr>\n",
       "    <tr>\n",
       "      <th>SUMO2</th>\n",
       "      <td>2265</td>\n",
       "    </tr>\n",
       "    <tr>\n",
       "      <th>POU5F1</th>\n",
       "      <td>1322</td>\n",
       "    </tr>\n",
       "    <tr>\n",
       "      <th>PCGF2</th>\n",
       "      <td>1163</td>\n",
       "    </tr>\n",
       "    <tr>\n",
       "      <th>BRD7</th>\n",
       "      <td>1120</td>\n",
       "    </tr>\n",
       "    <tr>\n",
       "      <th>RFX5</th>\n",
       "      <td>998</td>\n",
       "    </tr>\n",
       "    <tr>\n",
       "      <th>PRKDC</th>\n",
       "      <td>932</td>\n",
       "    </tr>\n",
       "    <tr>\n",
       "      <th>KDM1A</th>\n",
       "      <td>859</td>\n",
       "    </tr>\n",
       "    <tr>\n",
       "      <th>SUMO1</th>\n",
       "      <td>577</td>\n",
       "    </tr>\n",
       "    <tr>\n",
       "      <th>CHD7</th>\n",
       "      <td>256</td>\n",
       "    </tr>\n",
       "    <tr>\n",
       "      <th>RBL1</th>\n",
       "      <td>122</td>\n",
       "    </tr>\n",
       "    <tr>\n",
       "      <th>STAG1</th>\n",
       "      <td>97</td>\n",
       "    </tr>\n",
       "    <tr>\n",
       "      <th>BRF2</th>\n",
       "      <td>67</td>\n",
       "    </tr>\n",
       "    <tr>\n",
       "      <th>BDP1</th>\n",
       "      <td>67</td>\n",
       "    </tr>\n",
       "    <tr>\n",
       "      <th>SNAPC5</th>\n",
       "      <td>52</td>\n",
       "    </tr>\n",
       "    <tr>\n",
       "      <th>BRF1</th>\n",
       "      <td>50</td>\n",
       "    </tr>\n",
       "    <tr>\n",
       "      <th>PIAS4</th>\n",
       "      <td>41</td>\n",
       "    </tr>\n",
       "    <tr>\n",
       "      <th>SNAPC1</th>\n",
       "      <td>34</td>\n",
       "    </tr>\n",
       "    <tr>\n",
       "      <th>UBE2I</th>\n",
       "      <td>27</td>\n",
       "    </tr>\n",
       "    <tr>\n",
       "      <th>SNAPC2</th>\n",
       "      <td>27</td>\n",
       "    </tr>\n",
       "    <tr>\n",
       "      <th>PGBD3</th>\n",
       "      <td>26</td>\n",
       "    </tr>\n",
       "    <tr>\n",
       "      <th>SNAPC4</th>\n",
       "      <td>26</td>\n",
       "    </tr>\n",
       "  </tbody>\n",
       "</table>\n",
       "</div>"
      ],
      "text/plain": [
       "           tf\n",
       "LMNB1   16835\n",
       "SPI1    16789\n",
       "CTCF    14042\n",
       "FOXA2   13582\n",
       "MAZ     13234\n",
       "GTF2I   11663\n",
       "CEBPB   11624\n",
       "POLR2A  10976\n",
       "GATA4    9981\n",
       "RB1      9934\n",
       "RAD21    9148\n",
       "KLF4     8593\n",
       "EP300    8269\n",
       "MYC      6666\n",
       "TP53     5873\n",
       "CHD1     5577\n",
       "RBL2     5296\n",
       "MAFK     5075\n",
       "GTF2B    4451\n",
       "MXI1     3580\n",
       "PHF8     3488\n",
       "E2F7     3180\n",
       "MITF     2911\n",
       "SOX2     2816\n",
       "RCOR1    2611\n",
       "CREBBP   2536\n",
       "SUMO2    2265\n",
       "POU5F1   1322\n",
       "PCGF2    1163\n",
       "BRD7     1120\n",
       "RFX5      998\n",
       "PRKDC     932\n",
       "KDM1A     859\n",
       "SUMO1     577\n",
       "CHD7      256\n",
       "RBL1      122\n",
       "STAG1      97\n",
       "BRF2       67\n",
       "BDP1       67\n",
       "SNAPC5     52\n",
       "BRF1       50\n",
       "PIAS4      41\n",
       "SNAPC1     34\n",
       "UBE2I      27\n",
       "SNAPC2     27\n",
       "PGBD3      26\n",
       "SNAPC4     26"
      ]
     },
     "execution_count": 227,
     "metadata": {},
     "output_type": "execute_result"
    }
   ],
   "source": [
    "TF_counts"
   ]
  },
  {
   "cell_type": "markdown",
   "id": "462cdcf9",
   "metadata": {},
   "source": [
    "<font color='red'>Do we want to filter out those that have too many targets?</font>"
   ]
  },
  {
   "cell_type": "markdown",
   "id": "0b08aad2",
   "metadata": {},
   "source": [
    "# PCST Transition 0: t -> t+1 (S1)"
   ]
  },
  {
   "cell_type": "code",
   "execution_count": 165,
   "id": "146e3182",
   "metadata": {},
   "outputs": [],
   "source": [
    "# Graph hyperparameters\n",
    "graph_params =  {\n",
    "                \"w\": 2,\n",
    "                \"b\": 2,\n",
    "                \"g\": 0,\n",
    "                \"noise\": 0.0, \n",
    "                \"dummy_mode\": \"terminals\", \n",
    "                \"exclude_terminals\": False, \n",
    "                \"seed\": 1,\n",
    "                \"pruning\": 'strong',\n",
    "                \"verbosity_level\": 0\n",
    "                }"
   ]
  },
  {
   "cell_type": "code",
   "execution_count": 177,
   "id": "80ca9512",
   "metadata": {},
   "outputs": [],
   "source": [
    "# Get prizes\n",
    "prizes_data_0 = pcst.get_prizes(\"0_10\", data_dir)\n",
    "\n",
    "# Load TF data and filter df to time t + 1\n",
    "tfs = pd.read_csv(data_dir+'tf_data/TF_prizes.csv')\n",
    "tfs = tfs[tfs['age'] == 10]\n",
    "tfs.columns = ['name', 'age', 'FPKM', 'log2_FPKM', 'prize']\n",
    "tfs = tfs[['name', 'prize']]\n",
    "\n",
    "prizes_data_0 = pd.concat([prizes_data_0, tfs])\n",
    "prizes_data_0.to_csv(save_dir+'de_tf_terminals_0_10.tsv', header=True, index=None, sep='\\t', quoting = csv.QUOTE_NONE, escapechar = '\\t')"
   ]
  },
  {
   "cell_type": "code",
   "execution_count": 179,
   "id": "183e1577",
   "metadata": {},
   "outputs": [
    {
     "name": "stdout",
     "output_type": "stream",
     "text": [
      "Build the graph\n"
     ]
    },
    {
     "name": "stderr",
     "output_type": "stream",
     "text": [
      "07:20:12 - OI2: INFO - Duplicated gene symbols in the prize file (we'll keep the max prize):\n",
      "07:20:12 - OI2: INFO - ['CEBPB']\n",
      "07:20:12 - OI2: INFO - Members of the prize file not present in the interactome:\n",
      "07:20:12 - OI2: INFO - ['AFAP1', 'APLN', 'BBLN', 'C15orf48', 'C19orf33', 'CFAP251', 'GSTT1', 'H2AC6', 'IHO1', 'IRAG1', 'MACROH2A2', 'MGP', 'NALF1', 'NPY4R', 'SPEGNB', 'TAMALIN', 'TMSB15B', 'ZNF883']\n"
     ]
    },
    {
     "name": "stdout",
     "output_type": "stream",
     "text": [
      "Run PCST\n",
      "Done\n"
     ]
    }
   ],
   "source": [
    "interactome_file_name = data_dir + 'ppi_data/PPI_string_processed.csv'\n",
    "prize_file_name = save_dir+'de_tf_terminals_0_10.tsv' \n",
    "\n",
    "augmented_forest_0 = pcst.run_pcst(graph_params, interactome_file_name, prize_file_name)"
   ]
  },
  {
   "cell_type": "code",
   "execution_count": 180,
   "id": "94e523a7",
   "metadata": {},
   "outputs": [
    {
     "name": "stdout",
     "output_type": "stream",
     "text": [
      "The augmented forest (S1) has 2302 nodes and 192556 edges.\n",
      "1332 of the 1350 prized proteins (98.7%) and 970 Steiner nodes are included.\n",
      "\n",
      "Prized proteins that are not included (mean prize: 0.83, min prize: 0.5, max prize: 1.93): \n",
      "IRAG1, NPY4R, AFAP1, TAMALIN, BBLN, C15orf48, GSTT1, APLN, IHO1, SPEGNB, H2AC6, ZNF883, CFAP251, TMSB15B, C19orf33, NALF1, MGP, MACROH2A2\n"
     ]
    }
   ],
   "source": [
    "# Number of nodes and edges\n",
    "n_nodes = augmented_forest_0.number_of_nodes()\n",
    "n_edges = augmented_forest_0.number_of_edges()\n",
    "print('The augmented forest (S1) has ' + str(n_nodes) + ' nodes and ' + str(n_edges) + ' edges.')\n",
    "\n",
    "# Included terminals\n",
    "prizes_data = pd.read_csv(save_dir+'de_tf_terminals_0_10.tsv', sep='\\t')\n",
    "terminals = set(prizes_data['name'].tolist())\n",
    "network_df = oi.get_networkx_graph_as_dataframe_of_nodes(augmented_forest_0)\n",
    "n_included_terminals = np.sum(network_df['terminal'])\n",
    "percentage_terminals = n_included_terminals/len(terminals) * 100\n",
    "print(str(n_included_terminals) +\" of the \"+str(len(terminals))+ \" prized proteins (\" + str(round(percentage_terminals,1)) +\"%) and \"+str(n_nodes-n_included_terminals)+\" Steiner nodes are included.\\n\")\n",
    "\n",
    "# Not-included terminals\n",
    "not_incl_terminals = list(terminals.difference(network_df.index.tolist()))\n",
    "prizes_not_included = prizes_data[prizes_data['name'].isin(not_incl_terminals)]\n",
    "print(\"Prized proteins that are not included (mean prize: \" + str(round(np.mean(prizes_not_included['prize']),2)) + \", min prize: \" + str(round(np.min(prizes_not_included['prize']),2)) + \", max prize: \"+str(round(np.max(prizes_not_included['prize']),2))+\"): \")\n",
    "print(*not_incl_terminals, sep = \", \")"
   ]
  },
  {
   "cell_type": "code",
   "execution_count": 181,
   "id": "e1e32b47",
   "metadata": {},
   "outputs": [
    {
     "name": "stdout",
     "output_type": "stream",
     "text": [
      "Out of the 47 TFs 40 TFs are included in S1 and 7 are not included.\n"
     ]
    }
   ],
   "source": [
    "# how many of the TFs are in S1?\n",
    "n_TFs_not_incl = len(set(tf_targets['tf']).difference(set(augmented_forest_0.nodes())))\n",
    "print(\"Out of the \"+str(n_TFs)+\" TFs \"+str(n_TFs - n_TFs_not_incl)+\" TFs are included in S1 and \"+str(n_TFs_not_incl)+\" are not included.\")"
   ]
  },
  {
   "cell_type": "markdown",
   "id": "f6b623ad",
   "metadata": {},
   "source": [
    "# PCST Transition 1: t+1 -> t+2 (S2)"
   ]
  },
  {
   "cell_type": "code",
   "execution_count": 182,
   "id": "b4841067",
   "metadata": {},
   "outputs": [],
   "source": [
    "prizes_data_1 = pcst.get_prizes(\"10_20\", data_dir)\n",
    "prizes_data_1.to_csv(save_dir+'de_terminals_10_20.tsv', header=True, index=None, sep='\\t', quoting = csv.QUOTE_NONE, escapechar = '\\t')"
   ]
  },
  {
   "cell_type": "code",
   "execution_count": 183,
   "id": "6d322dbc",
   "metadata": {},
   "outputs": [
    {
     "name": "stdout",
     "output_type": "stream",
     "text": [
      "Build the graph\n"
     ]
    },
    {
     "name": "stderr",
     "output_type": "stream",
     "text": [
      "07:27:15 - OI2: INFO - Duplicated gene symbols in the prize file (we'll keep the max prize):\n",
      "07:27:15 - OI2: INFO - []\n",
      "07:27:15 - OI2: INFO - Members of the prize file not present in the interactome:\n",
      "07:27:15 - OI2: INFO - ['APLN', 'BBLN', 'C14orf132', 'C1QTNF3', 'C21orf91', 'C8orf89', 'CBS', 'CFAP119', 'CFAP410', 'COPS9', 'DNAAF11', 'DNAI3', 'EEF1AKMT4', 'ELAPOR2', 'H2AW', 'H2BC17', 'MT1G', 'NALF1', 'NLGN4Y', 'ODAD2', 'PCOTH', 'ZNF883']\n"
     ]
    },
    {
     "name": "stdout",
     "output_type": "stream",
     "text": [
      "Run PCST\n",
      "Done\n"
     ]
    }
   ],
   "source": [
    "interactome_file_name = data_dir + 'ppi_data/PPI_string_processed.csv'\n",
    "prize_file_name = save_dir+'de_terminals_10_20.tsv'  \n",
    "\n",
    "augmented_forest_1 = pcst.run_pcst(graph_params, interactome_file_name, prize_file_name)"
   ]
  },
  {
   "cell_type": "code",
   "execution_count": 184,
   "id": "56f5d4ed",
   "metadata": {},
   "outputs": [
    {
     "name": "stdout",
     "output_type": "stream",
     "text": [
      "The augmented forest (S2) has 2289 nodes and 174737 edges.\n",
      "1291 of the 1313 prized proteins (98.3%) and 998 Steiner nodes are included.\n",
      "\n",
      "Prized proteins that are not included (mean prize: 0.6, min prize: 0.43, max prize: 1.04): \n",
      "PCOTH, ELAPOR2, C14orf132, CFAP410, COPS9, BBLN, CBS, DNAAF11, CFAP119, APLN, C21orf91, C1QTNF3, MT1G, ZNF883, H2BC17, EEF1AKMT4, C8orf89, NLGN4Y, NALF1, ODAD2, DNAI3, H2AW\n"
     ]
    }
   ],
   "source": [
    "# Number of nodes and edges\n",
    "n_nodes = augmented_forest_1.number_of_nodes()\n",
    "n_edges = augmented_forest_1.number_of_edges()\n",
    "print('The augmented forest (S2) has ' + str(n_nodes) + ' nodes and ' + str(n_edges) + ' edges.')\n",
    "\n",
    "# Included terminals\n",
    "prizes_data = pd.read_csv(save_dir+'de_terminals_10_20.tsv', sep='\\t')\n",
    "terminals = set(prizes_data['name'].tolist())\n",
    "network_df = oi.get_networkx_graph_as_dataframe_of_nodes(augmented_forest_1)\n",
    "n_included_terminals = np.sum(network_df['terminal'])\n",
    "percentage_terminals = n_included_terminals/len(terminals) * 100\n",
    "print(str(n_included_terminals) +\" of the \"+str(len(terminals))+ \" prized proteins (\" + str(round(percentage_terminals,1)) +\"%) and \"+str(n_nodes-n_included_terminals)+\" Steiner nodes are included.\\n\")\n",
    "\n",
    "# Not-included terminals\n",
    "non_incl_terminals = list(terminals.difference(network_df.index.tolist()))\n",
    "prizes_non_included = prizes_data[prizes_data['name'].isin(non_incl_terminals)]\n",
    "print(\"Prized proteins that are not included (mean prize: \" + str(round(np.mean(prizes_non_included['prize']),2)) + \", min prize: \" + str(round(np.min(prizes_non_included['prize']),2)) + \", max prize: \"+str(round(np.max(prizes_non_included['prize']),2))+\"): \")\n",
    "print(*non_incl_terminals, sep = \", \")"
   ]
  },
  {
   "cell_type": "code",
   "execution_count": 185,
   "id": "ace84324",
   "metadata": {},
   "outputs": [
    {
     "name": "stdout",
     "output_type": "stream",
     "text": [
      "Out of the 47 TFs 11 TFs are included in S2 and 36 are not included.\n"
     ]
    }
   ],
   "source": [
    "# how many of the TFs are in S2?\n",
    "n_TFs_not_incl = len(set(tf_targets['tf']).difference(set(augmented_forest_1.nodes())))\n",
    "print(\"Out of the \"+str(n_TFs)+\" TFs \"+str(n_TFs - n_TFs_not_incl)+\" TFs are included in S2 and \"+str(n_TFs_not_incl)+\" are not included.\")"
   ]
  },
  {
   "cell_type": "markdown",
   "id": "3413feb6",
   "metadata": {},
   "source": [
    "# Combined PCST (S3)"
   ]
  },
  {
   "cell_type": "code",
   "execution_count": 186,
   "id": "101b8962",
   "metadata": {},
   "outputs": [
    {
     "name": "stdout",
     "output_type": "stream",
     "text": [
      "Build the graph\n"
     ]
    },
    {
     "name": "stderr",
     "output_type": "stream",
     "text": [
      "07:31:05 - OI2: INFO - Duplicated gene symbols in the prize file (we'll keep the max prize):\n",
      "07:31:05 - OI2: INFO - ['CEBPB_tr0']\n",
      "07:31:05 - OI2: INFO - Members of the prize file not present in the interactome:\n",
      "07:31:05 - OI2: INFO - ['AFAP1_tr0', 'APLN_tr0', 'APLN_tr1', 'BBLN_tr0', 'BBLN_tr1', 'C14orf132_tr1', 'C15orf48_tr0', 'C19orf33_tr0', 'C1QTNF3_tr1', 'C21orf91_tr1', 'C8orf89_tr1', 'CBS_tr1', 'CFAP119_tr1', 'CFAP251_tr0', 'CFAP410_tr1', 'COPS9_tr1', 'DNAAF11_tr1', 'DNAI3_tr1', 'EEF1AKMT4_tr1', 'ELAPOR2_tr1', 'GSTT1_tr0', 'H2AC6_tr0', 'H2AW_tr1', 'H2BC17_tr1', 'IHO1_tr0', 'IRAG1_tr0', 'MACROH2A2_tr0', 'MGP_tr0', 'MT1G_tr1', 'NALF1_tr0', 'NALF1_tr1', 'NLGN4Y_tr1', 'NPY4R_tr0', 'ODAD2_tr1', 'PCOTH_tr1', 'SPEGNB_tr0', 'TAMALIN_tr0', 'TMSB15B_tr0', 'ZNF883_tr0', 'ZNF883_tr1']\n"
     ]
    },
    {
     "name": "stdout",
     "output_type": "stream",
     "text": [
      "Run PCST\n",
      "Done\n"
     ]
    }
   ],
   "source": [
    "augmented_forest = pcst.run_pcst_combi(\"0_10_20\", augmented_forest_0, augmented_forest_1, graph_params, data_dir, save_dir)"
   ]
  },
  {
   "cell_type": "code",
   "execution_count": 187,
   "id": "7ff53128",
   "metadata": {},
   "outputs": [
    {
     "data": {
      "text/plain": [
       "PosixPath('/home/braunger/masterthesis/save/pcst/network_0_10_20.pickle')"
      ]
     },
     "execution_count": 187,
     "metadata": {},
     "output_type": "execute_result"
    }
   ],
   "source": [
    "# Save selected network to file\n",
    "oi.output_networkx_graph_as_interactive_html(augmented_forest, filename=save_dir + \"network_0_10_20.html\")\n",
    "oi.output_networkx_graph_as_pickle(augmented_forest, filename= save_dir + \"network_0_10_20.pickle\")"
   ]
  },
  {
   "cell_type": "markdown",
   "id": "ac128647",
   "metadata": {},
   "source": [
    "# Analyses of the results"
   ]
  },
  {
   "cell_type": "code",
   "execution_count": 194,
   "id": "ea7ef997",
   "metadata": {
    "scrolled": true
   },
   "outputs": [
    {
     "name": "stdout",
     "output_type": "stream",
     "text": [
      "The augmented forest (S3) has 4516 nodes and 371249 edges.\n",
      "2623 of the 2663 prized proteins (98.5%) and 1893 Steiner nodes are included.\n",
      "\n",
      "Prized proteins that are not included (mean prize: 0.71, min prize: 0.43, max prize: 1.93): \n",
      "CBS_tr1, APLN_tr0, C21orf91_tr1, NALF1_tr1, C8orf89_tr1, ODAD2_tr1, NPY4R_tr0, IRAG1_tr0, EEF1AKMT4_tr1, CFAP251_tr0, C19orf33_tr0, MGP_tr0, ELAPOR2_tr1, H2BC17_tr1, COPS9_tr1, GSTT1_tr0, ZNF883_tr0, SPEGNB_tr0, TAMALIN_tr0, DNAI3_tr1, C15orf48_tr0, CFAP410_tr1, PCOTH_tr1, IHO1_tr0, H2AW_tr1, BBLN_tr1, C14orf132_tr1, BBLN_tr0, APLN_tr1, TMSB15B_tr0, MT1G_tr1, MACROH2A2_tr0, AFAP1_tr0, DNAAF11_tr1, H2AC6_tr0, CFAP119_tr1, NALF1_tr0, ZNF883_tr1, NLGN4Y_tr1, C1QTNF3_tr1\n"
     ]
    }
   ],
   "source": [
    "# Number of nodes and edges\n",
    "n_nodes = augmented_forest.number_of_nodes()\n",
    "n_edges = augmented_forest.number_of_edges()\n",
    "print('The augmented forest (S3) has ' + str(n_nodes) + ' nodes and ' + str(n_edges) + ' edges.')\n",
    "\n",
    "# Included terminals\n",
    "prizes_data = pd.read_csv(save_dir+'de_tf_terminals_0_10_20.tsv', sep='\\t')\n",
    "terminals = set(prizes_data['name'].tolist())\n",
    "network_df = oi.get_networkx_graph_as_dataframe_of_nodes(augmented_forest)\n",
    "n_included_terminals = np.sum(network_df['terminal'])\n",
    "percentage_terminals = n_included_terminals/len(terminals) * 100\n",
    "print(str(n_included_terminals) +\" of the \"+str(len(terminals))+ \" prized proteins (\" + str(round(percentage_terminals,1)) +\"%) and \"+str(n_nodes-n_included_terminals)+\" Steiner nodes are included.\\n\")\n",
    "\n",
    "# Not-included terminals\n",
    "non_incl_terminals = list(terminals.difference(network_df.index.tolist()))\n",
    "prizes_non_included = prizes_data[prizes_data['name'].isin(non_incl_terminals)]\n",
    "print(\"Prized proteins that are not included (mean prize: \" + str(round(np.mean(prizes_non_included['prize']),2)) + \", min prize: \" + str(round(np.min(prizes_non_included['prize']),2)) + \", max prize: \"+str(round(np.max(prizes_non_included['prize']),2))+\"): \")\n",
    "print(*non_incl_terminals, sep = \", \")"
   ]
  },
  {
   "cell_type": "code",
   "execution_count": 205,
   "id": "6dbb8d30",
   "metadata": {},
   "outputs": [
    {
     "data": {
      "text/html": [
       "<div>\n",
       "<style scoped>\n",
       "    .dataframe tbody tr th:only-of-type {\n",
       "        vertical-align: middle;\n",
       "    }\n",
       "\n",
       "    .dataframe tbody tr th {\n",
       "        vertical-align: top;\n",
       "    }\n",
       "\n",
       "    .dataframe thead th {\n",
       "        text-align: right;\n",
       "    }\n",
       "</style>\n",
       "<table border=\"1\" class=\"dataframe\">\n",
       "  <thead>\n",
       "    <tr style=\"text-align: right;\">\n",
       "      <th></th>\n",
       "      <th>prize</th>\n",
       "      <th>terminal</th>\n",
       "      <th>type</th>\n",
       "      <th>degree</th>\n",
       "      <th>betweenness</th>\n",
       "      <th>louvain_clusters</th>\n",
       "    </tr>\n",
       "  </thead>\n",
       "  <tbody>\n",
       "    <tr>\n",
       "      <th>CREBBP_tr0</th>\n",
       "      <td>0.386096</td>\n",
       "      <td>True</td>\n",
       "      <td>protein</td>\n",
       "      <td>1448</td>\n",
       "      <td>0.011503</td>\n",
       "      <td>1</td>\n",
       "    </tr>\n",
       "    <tr>\n",
       "      <th>TP53_tr0</th>\n",
       "      <td>0.426367</td>\n",
       "      <td>True</td>\n",
       "      <td>protein</td>\n",
       "      <td>2884</td>\n",
       "      <td>0.062172</td>\n",
       "      <td>1</td>\n",
       "    </tr>\n",
       "    <tr>\n",
       "      <th>EP300_tr0</th>\n",
       "      <td>0.415597</td>\n",
       "      <td>True</td>\n",
       "      <td>protein</td>\n",
       "      <td>2225</td>\n",
       "      <td>0.039299</td>\n",
       "      <td>0</td>\n",
       "    </tr>\n",
       "    <tr>\n",
       "      <th>CEBPB_tr0</th>\n",
       "      <td>0.482755</td>\n",
       "      <td>True</td>\n",
       "      <td>protein</td>\n",
       "      <td>2507</td>\n",
       "      <td>0.066906</td>\n",
       "      <td>0</td>\n",
       "    </tr>\n",
       "    <tr>\n",
       "      <th>PRKDC_tr0</th>\n",
       "      <td>0.599020</td>\n",
       "      <td>True</td>\n",
       "      <td>protein</td>\n",
       "      <td>830</td>\n",
       "      <td>0.003167</td>\n",
       "      <td>1</td>\n",
       "    </tr>\n",
       "  </tbody>\n",
       "</table>\n",
       "</div>"
      ],
      "text/plain": [
       "               prize  terminal     type  degree  betweenness louvain_clusters\n",
       "CREBBP_tr0  0.386096      True  protein    1448     0.011503                1\n",
       "TP53_tr0    0.426367      True  protein    2884     0.062172                1\n",
       "EP300_tr0   0.415597      True  protein    2225     0.039299                0\n",
       "CEBPB_tr0   0.482755      True  protein    2507     0.066906                0\n",
       "PRKDC_tr0   0.599020      True  protein     830     0.003167                1"
      ]
     },
     "execution_count": 205,
     "metadata": {},
     "output_type": "execute_result"
    }
   ],
   "source": [
    "# TFs\n",
    "#tf_targets['tf'] = tf_targets['tf'] + \"_tr0\"    \n",
    "TFs = list(set(tf_targets['tf']))\n",
    "TF_df = network_df[network_df.index.isin([TF + \"_tr0\" for TF in TFs])]\n",
    "TF_df.head()"
   ]
  },
  {
   "cell_type": "code",
   "execution_count": 221,
   "id": "69a8fad3",
   "metadata": {},
   "outputs": [
    {
     "name": "stdout",
     "output_type": "stream",
     "text": [
      "39 TFs are included in S3 and there are 662 edges between the selected TFs.\n"
     ]
    }
   ],
   "source": [
    "# Self-redundancy\n",
    "TFs_incl = [TF[:-4] for TF in TF_df.index.tolist()]\n",
    "tf_self_targets = tf_targets[tf_targets['target_gene'].isin(TFs_incl)]\n",
    "print(str(len(TFs_incl))+ \" TFs are included in S3 and there are \"+ str(tf_self_targets.shape[0]) + \" edges between the selected TFs.\" )"
   ]
  },
  {
   "cell_type": "code",
   "execution_count": 225,
   "id": "0fa5da64",
   "metadata": {},
   "outputs": [
    {
     "data": {
      "image/png": "[encoded data removed]",
      "text/plain": [
       "<Figure size 432x288 with 1 Axes>"
      ]
     },
     "metadata": {
      "needs_background": "light"
     },
     "output_type": "display_data"
    }
   ],
   "source": [
    "plt.figure()\n",
    "plt.hist(pd.DataFrame(tf_self_targets['tf'].value_counts())['tf'])\n",
    "plt.title('TF targets per TF')\n",
    "plt.xlabel(\"Number of TF targets\")\n",
    "plt.ylabel(\"Counts\")\n",
    "plt.show()"
   ]
  },
  {
   "cell_type": "code",
   "execution_count": 226,
   "id": "6ddb2fe6",
   "metadata": {},
   "outputs": [
    {
     "data": {
      "text/plain": [
       "SPI1      39\n",
       "LMNB1     39\n",
       "MAZ       39\n",
       "FOXA2     38\n",
       "CTCF      37\n",
       "POLR2A    36\n",
       "CEBPB     34\n",
       "RB1       33\n",
       "GTF2I     32\n",
       "CHD1      28\n",
       "TP53      27\n",
       "RAD21     25\n",
       "GATA4     25\n",
       "KLF4      24\n",
       "MYC       24\n",
       "EP300     22\n",
       "RBL2      20\n",
       "E2F7      19\n",
       "GTF2B     18\n",
       "MAFK      17\n",
       "SUMO2     12\n",
       "MXI1      11\n",
       "MITF      10\n",
       "PHF8      10\n",
       "SOX2       8\n",
       "RFX5       8\n",
       "POU5F1     6\n",
       "SUMO1      5\n",
       "CREBBP     4\n",
       "BRD7       3\n",
       "RCOR1      2\n",
       "STAG1      2\n",
       "KDM1A      2\n",
       "PCGF2      2\n",
       "CHD7       1\n",
       "Name: tf, dtype: int64"
      ]
     },
     "execution_count": 226,
     "metadata": {},
     "output_type": "execute_result"
    }
   ],
   "source": [
    "tf_self_targets['tf'].value_counts()"
   ]
  },
  {
   "cell_type": "code",
   "execution_count": 219,
   "id": "e8fda6bf",
   "metadata": {},
   "outputs": [
    {
     "data": {
      "text/plain": [
       "47"
      ]
     },
     "execution_count": 219,
     "metadata": {},
     "output_type": "execute_result"
    }
   ],
   "source": []
  },
  {
   "cell_type": "code",
   "execution_count": null,
   "id": "584ff9ce",
   "metadata": {},
   "outputs": [],
   "source": []
  }
 ],
 "metadata": {
  "kernelspec": {
   "display_name": "Python 3 (ipykernel)",
   "language": "python",
   "name": "python3"
  },
  "language_info": {
   "codemirror_mode": {
    "name": "ipython",
    "version": 3
   },
   "file_extension": ".py",
   "mimetype": "text/x-python",
   "name": "python",
   "nbconvert_exporter": "python",
   "pygments_lexer": "ipython3",
   "version": "3.7.13"
  }
 },
 "nbformat": 4,
 "nbformat_minor": 5
}
