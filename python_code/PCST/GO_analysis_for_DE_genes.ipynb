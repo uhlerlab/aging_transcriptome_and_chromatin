{
 "cells": [
  {
   "cell_type": "markdown",
   "id": "38b3ea36",
   "metadata": {},
   "source": [
    "## GSEA for DE genes per transition"
   ]
  },
  {
   "cell_type": "code",
   "execution_count": 21,
   "id": "72a27102",
   "metadata": {},
   "outputs": [],
   "source": [
    "import pandas as pd\n",
    "import gseapy\n",
    "from gseapy.plot import barplot, dotplot"
   ]
  },
  {
   "cell_type": "code",
   "execution_count": 22,
   "id": "8ee28d7a",
   "metadata": {},
   "outputs": [],
   "source": [
    "de_dir = \"/home/braunger/masterthesis/save/DE_genes/\"\n",
    "fig_dir = \"/home/braunger/masterthesis/save/figures/GO/\""
   ]
  },
  {
   "cell_type": "code",
   "execution_count": 23,
   "id": "3d5856e3",
   "metadata": {},
   "outputs": [
    {
     "name": "stderr",
     "output_type": "stream",
     "text": [
      "/home/braunger/miniconda3/envs/hic/lib/python3.9/site-packages/gseapy/enrichr.py:427: FutureWarning: The frame.append method is deprecated and will be removed from pandas in a future version. Use pandas.concat instead.\n",
      "  self.results = self.results.append(res, ignore_index=True)\n"
     ]
    }
   ],
   "source": [
    "# Selected genes\n",
    "DE_genes = pd.read_csv(de_dir+'DE_updown.csv')\n",
    "DE_genes = DE_genes[DE_genes['transition'] == 'fc_1-15_16-26']\n",
    "#DE_genes = DE_genes[DE_genes['transition'] == 'fc_16-26_27-60']\n",
    "#DE_genes = DE_genes[DE_genes['transition'] == 'fc_27-60_61-85']\n",
    "#DE_genes = DE_genes[DE_genes['transition'] == 'fc_61-85_86-96']\n",
    "\n",
    "# Calculate Enrichment\n",
    "enr = gseapy.enrichr(gene_list=list(DE_genes['gene']), \n",
    "                     gene_sets='GO_Biological_Process_2021', \n",
    "                     description='', outdir=fig_dir, format='png',\n",
    "                     verbose=False)\n",
    "# Visualize results\n",
    "#enr.results.head(5)\n",
    "barplot(enr.res2d, title='Group 1 vs. Group 2', ofname = fig_dir + 'g1_g2.png',\n",
    "        cutoff=0.05, top_term=5, figsize=(6, 4), color='salmon')"
   ]
  },
  {
   "cell_type": "markdown",
   "id": "1c29e30e",
   "metadata": {},
   "source": [
    "## GSEA for LASSO selected genes"
   ]
  },
  {
   "cell_type": "code",
   "execution_count": 33,
   "id": "848c8c9e",
   "metadata": {},
   "outputs": [
    {
     "name": "stderr",
     "output_type": "stream",
     "text": [
      "/home/braunger/miniconda3/envs/hic/lib/python3.9/site-packages/gseapy/enrichr.py:427: FutureWarning: The frame.append method is deprecated and will be removed from pandas in a future version. Use pandas.concat instead.\n",
      "  self.results = self.results.append(res, ignore_index=True)\n",
      "2023-02-02 07:04:51,603 Warning: No enrich terms using library GO_Biological_Process_2021 when cutoff = 0.05\n"
     ]
    },
    {
     "data": {
      "text/html": [
       "<div>\n",
       "<style scoped>\n",
       "    .dataframe tbody tr th:only-of-type {\n",
       "        vertical-align: middle;\n",
       "    }\n",
       "\n",
       "    .dataframe tbody tr th {\n",
       "        vertical-align: top;\n",
       "    }\n",
       "\n",
       "    .dataframe thead th {\n",
       "        text-align: right;\n",
       "    }\n",
       "</style>\n",
       "<table border=\"1\" class=\"dataframe\">\n",
       "  <thead>\n",
       "    <tr style=\"text-align: right;\">\n",
       "      <th></th>\n",
       "      <th>Gene_set</th>\n",
       "      <th>Term</th>\n",
       "      <th>Overlap</th>\n",
       "      <th>P-value</th>\n",
       "      <th>Adjusted P-value</th>\n",
       "      <th>Old P-value</th>\n",
       "      <th>Old Adjusted P-value</th>\n",
       "      <th>Odds Ratio</th>\n",
       "      <th>Combined Score</th>\n",
       "      <th>Genes</th>\n",
       "    </tr>\n",
       "  </thead>\n",
       "  <tbody>\n",
       "    <tr>\n",
       "      <th>0</th>\n",
       "      <td>GO_Biological_Process_2021</td>\n",
       "      <td>peptide antigen assembly with MHC protein comp...</td>\n",
       "      <td>2/6</td>\n",
       "      <td>0.000310</td>\n",
       "      <td>0.191598</td>\n",
       "      <td>0</td>\n",
       "      <td>0</td>\n",
       "      <td>110.577778</td>\n",
       "      <td>893.277302</td>\n",
       "      <td>TAPBPL;HLA-DRB1</td>\n",
       "    </tr>\n",
       "    <tr>\n",
       "      <th>1</th>\n",
       "      <td>GO_Biological_Process_2021</td>\n",
       "      <td>glandular epithelial cell development (GO:0002...</td>\n",
       "      <td>2/7</td>\n",
       "      <td>0.000433</td>\n",
       "      <td>0.191598</td>\n",
       "      <td>0</td>\n",
       "      <td>0</td>\n",
       "      <td>88.457778</td>\n",
       "      <td>685.087572</td>\n",
       "      <td>CDH2;PAX6</td>\n",
       "    </tr>\n",
       "    <tr>\n",
       "      <th>2</th>\n",
       "      <td>GO_Biological_Process_2021</td>\n",
       "      <td>T-helper 1 type immune response (GO:0042088)</td>\n",
       "      <td>2/9</td>\n",
       "      <td>0.000738</td>\n",
       "      <td>0.203446</td>\n",
       "      <td>0</td>\n",
       "      <td>0</td>\n",
       "      <td>63.177778</td>\n",
       "      <td>455.625221</td>\n",
       "      <td>TLR4;HLA-DRB1</td>\n",
       "    </tr>\n",
       "    <tr>\n",
       "      <th>3</th>\n",
       "      <td>GO_Biological_Process_2021</td>\n",
       "      <td>N-acetylneuraminate metabolic process (GO:0006...</td>\n",
       "      <td>2/10</td>\n",
       "      <td>0.000920</td>\n",
       "      <td>0.203446</td>\n",
       "      <td>0</td>\n",
       "      <td>0</td>\n",
       "      <td>55.277778</td>\n",
       "      <td>386.482780</td>\n",
       "      <td>ST6GAL1;RENBP</td>\n",
       "    </tr>\n",
       "    <tr>\n",
       "      <th>4</th>\n",
       "      <td>GO_Biological_Process_2021</td>\n",
       "      <td>adherens junction organization (GO:0034332)</td>\n",
       "      <td>3/49</td>\n",
       "      <td>0.001489</td>\n",
       "      <td>0.230948</td>\n",
       "      <td>0</td>\n",
       "      <td>0</td>\n",
       "      <td>14.554470</td>\n",
       "      <td>94.744157</td>\n",
       "      <td>CDH2;NECTIN4;CDH18</td>\n",
       "    </tr>\n",
       "  </tbody>\n",
       "</table>\n",
       "</div>"
      ],
      "text/plain": [
       "                     Gene_set  \\\n",
       "0  GO_Biological_Process_2021   \n",
       "1  GO_Biological_Process_2021   \n",
       "2  GO_Biological_Process_2021   \n",
       "3  GO_Biological_Process_2021   \n",
       "4  GO_Biological_Process_2021   \n",
       "\n",
       "                                                Term Overlap   P-value  \\\n",
       "0  peptide antigen assembly with MHC protein comp...     2/6  0.000310   \n",
       "1  glandular epithelial cell development (GO:0002...     2/7  0.000433   \n",
       "2       T-helper 1 type immune response (GO:0042088)     2/9  0.000738   \n",
       "3  N-acetylneuraminate metabolic process (GO:0006...    2/10  0.000920   \n",
       "4        adherens junction organization (GO:0034332)    3/49  0.001489   \n",
       "\n",
       "   Adjusted P-value  Old P-value  Old Adjusted P-value  Odds Ratio  \\\n",
       "0          0.191598            0                     0  110.577778   \n",
       "1          0.191598            0                     0   88.457778   \n",
       "2          0.203446            0                     0   63.177778   \n",
       "3          0.203446            0                     0   55.277778   \n",
       "4          0.230948            0                     0   14.554470   \n",
       "\n",
       "   Combined Score               Genes  \n",
       "0      893.277302     TAPBPL;HLA-DRB1  \n",
       "1      685.087572           CDH2;PAX6  \n",
       "2      455.625221       TLR4;HLA-DRB1  \n",
       "3      386.482780       ST6GAL1;RENBP  \n",
       "4       94.744157  CDH2;NECTIN4;CDH18  "
      ]
     },
     "execution_count": 33,
     "metadata": {},
     "output_type": "execute_result"
    }
   ],
   "source": [
    "# Selected genes\n",
    "lasso_genes = pd.read_csv(de_dir+'lasso_genes.csv')\n",
    "\n",
    "# Calculate Enrichment\n",
    "enr = gseapy.enrichr(gene_list=list(lasso_genes['gene_name']), \n",
    "                     gene_sets='GO_Biological_Process_2021', \n",
    "                     description='', outdir=fig_dir, format='png',\n",
    "                     verbose=False)\n",
    "# Visualize results\n",
    "enr.results.head(5)\n",
    "#barplot(enr.res2d, title='LASSO-selected genes', ofname = fig_dir + 'LASSO.png',\n",
    "#        cutoff=0.05, top_term=5, figsize=(6, 4), color='salmon')"
   ]
  },
  {
   "cell_type": "code",
   "execution_count": null,
   "id": "a5862072",
   "metadata": {},
   "outputs": [],
   "source": []
  },
  {
   "cell_type": "code",
   "execution_count": null,
   "id": "6797ed98",
   "metadata": {},
   "outputs": [],
   "source": []
  }
 ],
 "metadata": {
  "kernelspec": {
   "display_name": "Python 3 (ipykernel)",
   "language": "python",
   "name": "python3"
  },
  "language_info": {
   "codemirror_mode": {
    "name": "ipython",
    "version": 3
   },
   "file_extension": ".py",
   "mimetype": "text/x-python",
   "name": "python",
   "nbconvert_exporter": "python",
   "pygments_lexer": "ipython3",
   "version": "3.9.12"
  }
 },
 "nbformat": 4,
 "nbformat_minor": 5
}
