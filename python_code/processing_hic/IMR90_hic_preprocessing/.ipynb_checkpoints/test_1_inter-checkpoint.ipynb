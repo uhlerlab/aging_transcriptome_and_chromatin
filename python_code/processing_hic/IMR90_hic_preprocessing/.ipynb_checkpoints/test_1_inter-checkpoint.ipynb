{
 "cells": [
  {
   "cell_type": "code",
   "execution_count": 25,
   "metadata": {
    "code_folding": [
     0
    ]
   },
   "outputs": [],
   "source": [
    "# Import standard libraries\n",
    "from importlib import reload\n",
    "import numpy as np\n",
    "import matplotlib.pyplot as plt\n",
    "from scipy import sparse\n",
    "import scipy.stats as ss\n",
    "import csv\n",
    "import warnings\n",
    "warnings.simplefilter(action='ignore', category=FutureWarning)\n",
    "import pandas as pd\n",
    "import pickle\n",
    "from collections import defaultdict\n",
    "import operator\n",
    "from scipy.sparse import csr_matrix\n",
    "import itertools\n",
    "import os.path\n",
    "import math\n",
    "import pybedtools\n",
    "# Import custom libraries\n",
    "import process_hic_contacts_inter as phc"
   ]
  },
  {
   "cell_type": "code",
   "execution_count": 26,
   "metadata": {},
   "outputs": [
    {
     "data": {
      "text/plain": [
       "<module 'process_hic_contacts_inter' from '/home/braunger/masterthesis/code/processing_hic/IMR90_hic_preprocessing/process_hic_contacts_inter.py'>"
      ]
     },
     "execution_count": 26,
     "metadata": {},
     "output_type": "execute_result"
    }
   ],
   "source": [
    "# Reload modules in case of modifications\n",
    "reload(phc)"
   ]
  },
  {
   "cell_type": "code",
   "execution_count": 38,
   "metadata": {},
   "outputs": [],
   "source": [
    "# Specify directories and relevant information\n",
    "genome_dir = '/home/braunger/masterthesis/data/genome_data/'\n",
    "processed_hic_dir = '/home/braunger/masterthesis/save/processed_hic_data/'\n",
    "saving_dir = '/home/braunger/masterthesis/save/figures/hic_processing/'\n",
    "cell_type = 'IMR90'\n",
    "resol = 250000\n",
    "quality = 'MAPQGE30'\n",
    "norm = 'INTERKR'\n",
    "chr1 = 1\n",
    "chr2 = 2"
   ]
  },
  {
   "cell_type": "markdown",
   "metadata": {},
   "source": [
    "### Load data"
   ]
  },
  {
   "cell_type": "code",
   "execution_count": 39,
   "metadata": {},
   "outputs": [
    {
     "data": {
      "text/html": [
       "<div>\n",
       "<style scoped>\n",
       "    .dataframe tbody tr th:only-of-type {\n",
       "        vertical-align: middle;\n",
       "    }\n",
       "\n",
       "    .dataframe tbody tr th {\n",
       "        vertical-align: top;\n",
       "    }\n",
       "\n",
       "    .dataframe thead th {\n",
       "        text-align: right;\n",
       "    }\n",
       "</style>\n",
       "<table border=\"1\" class=\"dataframe\">\n",
       "  <thead>\n",
       "    <tr style=\"text-align: right;\">\n",
       "      <th></th>\n",
       "      <th>locus_chr1</th>\n",
       "      <th>locus_chr2</th>\n",
       "      <th>norm_value</th>\n",
       "    </tr>\n",
       "  </thead>\n",
       "  <tbody>\n",
       "    <tr>\n",
       "      <th>0</th>\n",
       "      <td>2</td>\n",
       "      <td>0</td>\n",
       "      <td>39.149170</td>\n",
       "    </tr>\n",
       "    <tr>\n",
       "      <th>1</th>\n",
       "      <td>3</td>\n",
       "      <td>0</td>\n",
       "      <td>2.655160</td>\n",
       "    </tr>\n",
       "    <tr>\n",
       "      <th>2</th>\n",
       "      <td>5</td>\n",
       "      <td>0</td>\n",
       "      <td>1.406964</td>\n",
       "    </tr>\n",
       "    <tr>\n",
       "      <th>3</th>\n",
       "      <td>6</td>\n",
       "      <td>0</td>\n",
       "      <td>1.588467</td>\n",
       "    </tr>\n",
       "    <tr>\n",
       "      <th>4</th>\n",
       "      <td>7</td>\n",
       "      <td>0</td>\n",
       "      <td>4.906548</td>\n",
       "    </tr>\n",
       "  </tbody>\n",
       "</table>\n",
       "</div>"
      ],
      "text/plain": [
       "   locus_chr1  locus_chr2  norm_value\n",
       "0           2           0   39.149170\n",
       "1           3           0    2.655160\n",
       "2           5           0    1.406964\n",
       "3           6           0    1.588467\n",
       "4           7           0    4.906548"
      ]
     },
     "execution_count": 39,
     "metadata": {},
     "output_type": "execute_result"
    }
   ],
   "source": [
    "# Load normalized HiC data\n",
    "normalized_hic_data = phc.get_normed_hic_sparse(processed_hic_dir, cell_type, resol, quality, chr1, chr2, norm)\n",
    "normalized_hic_data.head()"
   ]
  },
  {
   "cell_type": "code",
   "execution_count": 40,
   "metadata": {},
   "outputs": [
    {
     "data": {
      "text/html": [
       "<div>\n",
       "<style scoped>\n",
       "    .dataframe tbody tr th:only-of-type {\n",
       "        vertical-align: middle;\n",
       "    }\n",
       "\n",
       "    .dataframe tbody tr th {\n",
       "        vertical-align: top;\n",
       "    }\n",
       "\n",
       "    .dataframe thead th {\n",
       "        text-align: right;\n",
       "    }\n",
       "</style>\n",
       "<table border=\"1\" class=\"dataframe\">\n",
       "  <thead>\n",
       "    <tr style=\"text-align: right;\">\n",
       "      <th></th>\n",
       "      <th>chr</th>\n",
       "      <th>size</th>\n",
       "      <th>size_loci</th>\n",
       "      <th>size_roundup</th>\n",
       "    </tr>\n",
       "  </thead>\n",
       "  <tbody>\n",
       "    <tr>\n",
       "      <th>0</th>\n",
       "      <td>1</td>\n",
       "      <td>249250621</td>\n",
       "      <td>998</td>\n",
       "      <td>249500000</td>\n",
       "    </tr>\n",
       "    <tr>\n",
       "      <th>1</th>\n",
       "      <td>2</td>\n",
       "      <td>243199373</td>\n",
       "      <td>973</td>\n",
       "      <td>243250000</td>\n",
       "    </tr>\n",
       "    <tr>\n",
       "      <th>2</th>\n",
       "      <td>3</td>\n",
       "      <td>198022430</td>\n",
       "      <td>793</td>\n",
       "      <td>198250000</td>\n",
       "    </tr>\n",
       "    <tr>\n",
       "      <th>3</th>\n",
       "      <td>4</td>\n",
       "      <td>191154276</td>\n",
       "      <td>765</td>\n",
       "      <td>191250000</td>\n",
       "    </tr>\n",
       "    <tr>\n",
       "      <th>4</th>\n",
       "      <td>5</td>\n",
       "      <td>180915260</td>\n",
       "      <td>724</td>\n",
       "      <td>181000000</td>\n",
       "    </tr>\n",
       "  </tbody>\n",
       "</table>\n",
       "</div>"
      ],
      "text/plain": [
       "  chr       size  size_loci  size_roundup\n",
       "0   1  249250621        998     249500000\n",
       "1   2  243199373        973     243250000\n",
       "2   3  198022430        793     198250000\n",
       "3   4  191154276        765     191250000\n",
       "4   5  180915260        724     181000000"
      ]
     },
     "execution_count": 40,
     "metadata": {},
     "output_type": "execute_result"
    }
   ],
   "source": [
    "# Get chromosome sizes\n",
    "df_sizes = phc.get_chrom_sizes(genome_dir,resol)\n",
    "chr1_size = int(df_sizes[df_sizes['chr']==str(chr1)]['size_loci'])\n",
    "chr2_size = int(df_sizes[df_sizes['chr']==str(chr2)]['size_loci'])\n",
    "df_sizes.head()"
   ]
  },
  {
   "cell_type": "code",
   "execution_count": 41,
   "metadata": {},
   "outputs": [
    {
     "data": {
      "text/html": [
       "<div>\n",
       "<style scoped>\n",
       "    .dataframe tbody tr th:only-of-type {\n",
       "        vertical-align: middle;\n",
       "    }\n",
       "\n",
       "    .dataframe tbody tr th {\n",
       "        vertical-align: top;\n",
       "    }\n",
       "\n",
       "    .dataframe thead th {\n",
       "        text-align: right;\n",
       "    }\n",
       "</style>\n",
       "<table border=\"1\" class=\"dataframe\">\n",
       "  <thead>\n",
       "    <tr style=\"text-align: right;\">\n",
       "      <th></th>\n",
       "      <th>0</th>\n",
       "      <th>250000</th>\n",
       "      <th>500000</th>\n",
       "      <th>750000</th>\n",
       "      <th>1000000</th>\n",
       "      <th>1250000</th>\n",
       "      <th>1500000</th>\n",
       "      <th>1750000</th>\n",
       "      <th>2000000</th>\n",
       "      <th>2250000</th>\n",
       "      <th>...</th>\n",
       "      <th>240750000</th>\n",
       "      <th>241000000</th>\n",
       "      <th>241250000</th>\n",
       "      <th>241500000</th>\n",
       "      <th>241750000</th>\n",
       "      <th>242000000</th>\n",
       "      <th>242250000</th>\n",
       "      <th>242500000</th>\n",
       "      <th>242750000</th>\n",
       "      <th>243000000</th>\n",
       "    </tr>\n",
       "  </thead>\n",
       "  <tbody>\n",
       "    <tr>\n",
       "      <th>0</th>\n",
       "      <td>0.00000</td>\n",
       "      <td>0.000000</td>\n",
       "      <td>0.0</td>\n",
       "      <td>0.000000</td>\n",
       "      <td>0.0</td>\n",
       "      <td>0.000000</td>\n",
       "      <td>0.000000</td>\n",
       "      <td>0.0</td>\n",
       "      <td>0.000000</td>\n",
       "      <td>0.000000</td>\n",
       "      <td>...</td>\n",
       "      <td>0.000000</td>\n",
       "      <td>0.000000</td>\n",
       "      <td>0.000000</td>\n",
       "      <td>57.269142</td>\n",
       "      <td>0.000000</td>\n",
       "      <td>0.000000</td>\n",
       "      <td>0.000000</td>\n",
       "      <td>0.000000</td>\n",
       "      <td>0.000000</td>\n",
       "      <td>0.000000</td>\n",
       "    </tr>\n",
       "    <tr>\n",
       "      <th>250000</th>\n",
       "      <td>0.00000</td>\n",
       "      <td>0.000000</td>\n",
       "      <td>0.0</td>\n",
       "      <td>0.000000</td>\n",
       "      <td>0.0</td>\n",
       "      <td>0.000000</td>\n",
       "      <td>0.000000</td>\n",
       "      <td>0.0</td>\n",
       "      <td>0.000000</td>\n",
       "      <td>0.000000</td>\n",
       "      <td>...</td>\n",
       "      <td>0.000000</td>\n",
       "      <td>0.000000</td>\n",
       "      <td>0.000000</td>\n",
       "      <td>0.000000</td>\n",
       "      <td>0.000000</td>\n",
       "      <td>0.000000</td>\n",
       "      <td>0.000000</td>\n",
       "      <td>0.000000</td>\n",
       "      <td>0.000000</td>\n",
       "      <td>0.000000</td>\n",
       "    </tr>\n",
       "    <tr>\n",
       "      <th>500000</th>\n",
       "      <td>39.14917</td>\n",
       "      <td>0.000000</td>\n",
       "      <td>0.0</td>\n",
       "      <td>0.000000</td>\n",
       "      <td>0.0</td>\n",
       "      <td>0.000000</td>\n",
       "      <td>0.000000</td>\n",
       "      <td>0.0</td>\n",
       "      <td>0.000000</td>\n",
       "      <td>0.000000</td>\n",
       "      <td>...</td>\n",
       "      <td>27.125702</td>\n",
       "      <td>0.000000</td>\n",
       "      <td>0.000000</td>\n",
       "      <td>0.000000</td>\n",
       "      <td>0.000000</td>\n",
       "      <td>0.000000</td>\n",
       "      <td>20.627766</td>\n",
       "      <td>22.082020</td>\n",
       "      <td>89.965010</td>\n",
       "      <td>0.000000</td>\n",
       "    </tr>\n",
       "    <tr>\n",
       "      <th>750000</th>\n",
       "      <td>2.65516</td>\n",
       "      <td>0.000000</td>\n",
       "      <td>0.0</td>\n",
       "      <td>1.675982</td>\n",
       "      <td>0.0</td>\n",
       "      <td>1.622502</td>\n",
       "      <td>5.475832</td>\n",
       "      <td>0.0</td>\n",
       "      <td>1.801367</td>\n",
       "      <td>1.631483</td>\n",
       "      <td>...</td>\n",
       "      <td>1.839709</td>\n",
       "      <td>3.415667</td>\n",
       "      <td>5.304751</td>\n",
       "      <td>4.851744</td>\n",
       "      <td>3.865977</td>\n",
       "      <td>9.332703</td>\n",
       "      <td>7.694546</td>\n",
       "      <td>14.227563</td>\n",
       "      <td>30.507862</td>\n",
       "      <td>26.738092</td>\n",
       "    </tr>\n",
       "    <tr>\n",
       "      <th>1000000</th>\n",
       "      <td>0.00000</td>\n",
       "      <td>1.657482</td>\n",
       "      <td>0.0</td>\n",
       "      <td>3.867542</td>\n",
       "      <td>0.0</td>\n",
       "      <td>0.000000</td>\n",
       "      <td>1.263618</td>\n",
       "      <td>0.0</td>\n",
       "      <td>2.078441</td>\n",
       "      <td>0.000000</td>\n",
       "      <td>...</td>\n",
       "      <td>1.061340</td>\n",
       "      <td>6.896824</td>\n",
       "      <td>1.020115</td>\n",
       "      <td>5.598007</td>\n",
       "      <td>5.575769</td>\n",
       "      <td>8.076147</td>\n",
       "      <td>9.685166</td>\n",
       "      <td>17.279947</td>\n",
       "      <td>8.800094</td>\n",
       "      <td>10.283588</td>\n",
       "    </tr>\n",
       "  </tbody>\n",
       "</table>\n",
       "<p>5 rows × 973 columns</p>\n",
       "</div>"
      ],
      "text/plain": [
       "         0          250000     500000     750000     1000000    1250000    \\\n",
       "0          0.00000   0.000000        0.0   0.000000        0.0   0.000000   \n",
       "250000     0.00000   0.000000        0.0   0.000000        0.0   0.000000   \n",
       "500000    39.14917   0.000000        0.0   0.000000        0.0   0.000000   \n",
       "750000     2.65516   0.000000        0.0   1.675982        0.0   1.622502   \n",
       "1000000    0.00000   1.657482        0.0   3.867542        0.0   0.000000   \n",
       "\n",
       "         1500000    1750000    2000000    2250000    ...  240750000  \\\n",
       "0         0.000000        0.0   0.000000   0.000000  ...   0.000000   \n",
       "250000    0.000000        0.0   0.000000   0.000000  ...   0.000000   \n",
       "500000    0.000000        0.0   0.000000   0.000000  ...  27.125702   \n",
       "750000    5.475832        0.0   1.801367   1.631483  ...   1.839709   \n",
       "1000000   1.263618        0.0   2.078441   0.000000  ...   1.061340   \n",
       "\n",
       "         241000000  241250000  241500000  241750000  242000000  242250000  \\\n",
       "0         0.000000   0.000000  57.269142   0.000000   0.000000   0.000000   \n",
       "250000    0.000000   0.000000   0.000000   0.000000   0.000000   0.000000   \n",
       "500000    0.000000   0.000000   0.000000   0.000000   0.000000  20.627766   \n",
       "750000    3.415667   5.304751   4.851744   3.865977   9.332703   7.694546   \n",
       "1000000   6.896824   1.020115   5.598007   5.575769   8.076147   9.685166   \n",
       "\n",
       "         242500000  242750000  243000000  \n",
       "0         0.000000   0.000000   0.000000  \n",
       "250000    0.000000   0.000000   0.000000  \n",
       "500000   22.082020  89.965010   0.000000  \n",
       "750000   14.227563  30.507862  26.738092  \n",
       "1000000  17.279947   8.800094  10.283588  \n",
       "\n",
       "[5 rows x 973 columns]"
      ]
     },
     "execution_count": 41,
     "metadata": {},
     "output_type": "execute_result"
    }
   ],
   "source": [
    "# Get dense HiC dataframe\n",
    "df = phc.get_dense_hic_dataframe(normalized_hic_data, chr1_size, chr2_size, resol)\n",
    "df.head()"
   ]
  },
  {
   "cell_type": "code",
   "execution_count": 42,
   "metadata": {},
   "outputs": [
    {
     "data": {
      "image/png": "[encoded data removed]",
      "text/plain": [
       "<Figure size 432x288 with 2 Axes>"
      ]
     },
     "metadata": {
      "needs_background": "light"
     },
     "output_type": "display_data"
    }
   ],
   "source": [
    "# Plot HiC dense dataframe\n",
    "%matplotlib inline\n",
    "plotname = ''\n",
    "hic_plots_dir = ''\n",
    "phc.plot_dense_hic_dataframe(df, chr1, chr2, plotname, hic_plots_dir, show=True)"
   ]
  },
  {
   "cell_type": "code",
   "execution_count": 43,
   "metadata": {},
   "outputs": [
    {
     "name": "stdout",
     "output_type": "stream",
     "text": [
      "All-0 rows = [   250000  13250000  13500000 121500000 121750000 122000000 122250000\n",
      " 122500000 122750000 123000000 123250000 123500000 123750000 124000000\n",
      " 124250000 124500000 124750000 125000000 125250000 125500000 125750000\n",
      " 126000000 126250000 126500000 126750000 127000000 127250000 127500000\n",
      " 127750000 128000000 128250000 128500000 128750000 129000000 129250000\n",
      " 129500000 129750000 130000000 130250000 130500000 130750000 131000000\n",
      " 131250000 131500000 131750000 132000000 132250000 132500000 132750000\n",
      " 133000000 133250000 133500000 133750000 134000000 134250000 134500000\n",
      " 134750000 135000000 135250000 135500000 135750000 136000000 136250000\n",
      " 136500000 136750000 137000000 137250000 137500000 137750000 138000000\n",
      " 138250000 138500000 138750000 139000000 139250000 139500000 139750000\n",
      " 140000000 140250000 140500000 140750000 141000000 141250000 141500000\n",
      " 141750000 142000000 142250000 249250000]\n",
      "All-0 columns = [90500000 90750000 91000000 91250000 92500000 92750000 93000000 93250000\n",
      " 93500000 93750000 94000000 94250000 94500000 94750000 95000000]\n"
     ]
    }
   ],
   "source": [
    "# All-0 rows and columns\n",
    "print(f'All-0 rows = {df.index.to_series()[df.sum(axis=1)==0].index.values}')\n",
    "print(f'All-0 columns = {df.columns.to_series()[df.sum(axis=0)==0].index.values}')"
   ]
  },
  {
   "cell_type": "markdown",
   "metadata": {},
   "source": [
    "### Filter out centromeres"
   ]
  },
  {
   "cell_type": "code",
   "execution_count": 44,
   "metadata": {},
   "outputs": [
    {
     "data": {
      "text/html": [
       "<div>\n",
       "<style scoped>\n",
       "    .dataframe tbody tr th:only-of-type {\n",
       "        vertical-align: middle;\n",
       "    }\n",
       "\n",
       "    .dataframe tbody tr th {\n",
       "        vertical-align: top;\n",
       "    }\n",
       "\n",
       "    .dataframe thead th {\n",
       "        text-align: right;\n",
       "    }\n",
       "</style>\n",
       "<table border=\"1\" class=\"dataframe\">\n",
       "  <thead>\n",
       "    <tr style=\"text-align: right;\">\n",
       "      <th></th>\n",
       "      <th>bin</th>\n",
       "      <th>chrom</th>\n",
       "      <th>chromStart</th>\n",
       "      <th>chromEnd</th>\n",
       "      <th>ix</th>\n",
       "      <th>n</th>\n",
       "      <th>size</th>\n",
       "      <th>type</th>\n",
       "      <th>bridge</th>\n",
       "    </tr>\n",
       "  </thead>\n",
       "  <tbody>\n",
       "    <tr>\n",
       "      <th>0</th>\n",
       "      <td>23</td>\n",
       "      <td>chr1</td>\n",
       "      <td>121535434</td>\n",
       "      <td>124535434</td>\n",
       "      <td>1270</td>\n",
       "      <td>N</td>\n",
       "      <td>3000000</td>\n",
       "      <td>centromere</td>\n",
       "      <td>no</td>\n",
       "    </tr>\n",
       "    <tr>\n",
       "      <th>1</th>\n",
       "      <td>20</td>\n",
       "      <td>chr2</td>\n",
       "      <td>92326171</td>\n",
       "      <td>95326171</td>\n",
       "      <td>770</td>\n",
       "      <td>N</td>\n",
       "      <td>3000000</td>\n",
       "      <td>centromere</td>\n",
       "      <td>no</td>\n",
       "    </tr>\n",
       "    <tr>\n",
       "      <th>2</th>\n",
       "      <td>2</td>\n",
       "      <td>chr3</td>\n",
       "      <td>90504854</td>\n",
       "      <td>93504854</td>\n",
       "      <td>784</td>\n",
       "      <td>N</td>\n",
       "      <td>3000000</td>\n",
       "      <td>centromere</td>\n",
       "      <td>no</td>\n",
       "    </tr>\n",
       "    <tr>\n",
       "      <th>3</th>\n",
       "      <td>1</td>\n",
       "      <td>chr4</td>\n",
       "      <td>49660117</td>\n",
       "      <td>52660117</td>\n",
       "      <td>447</td>\n",
       "      <td>N</td>\n",
       "      <td>3000000</td>\n",
       "      <td>centromere</td>\n",
       "      <td>no</td>\n",
       "    </tr>\n",
       "    <tr>\n",
       "      <th>4</th>\n",
       "      <td>14</td>\n",
       "      <td>chr5</td>\n",
       "      <td>46405641</td>\n",
       "      <td>49405641</td>\n",
       "      <td>452</td>\n",
       "      <td>N</td>\n",
       "      <td>3000000</td>\n",
       "      <td>centromere</td>\n",
       "      <td>no</td>\n",
       "    </tr>\n",
       "  </tbody>\n",
       "</table>\n",
       "</div>"
      ],
      "text/plain": [
       "   bin chrom  chromStart   chromEnd    ix  n     size        type bridge\n",
       "0   23  chr1   121535434  124535434  1270  N  3000000  centromere     no\n",
       "1   20  chr2    92326171   95326171   770  N  3000000  centromere     no\n",
       "2    2  chr3    90504854   93504854   784  N  3000000  centromere     no\n",
       "3    1  chr4    49660117   52660117   447  N  3000000  centromere     no\n",
       "4   14  chr5    46405641   49405641   452  N  3000000  centromere     no"
      ]
     },
     "execution_count": 44,
     "metadata": {},
     "output_type": "execute_result"
    }
   ],
   "source": [
    "# Get centromere locations\n",
    "df_centrom = phc.get_centromere_locations(genome_dir)\n",
    "df_centrom.head()"
   ]
  },
  {
   "cell_type": "code",
   "execution_count": 45,
   "metadata": {},
   "outputs": [],
   "source": [
    "# Filter out centromeres\n",
    "filter_size = 2000000\n",
    "df = phc.filter_centromeres(df, chr1, 'row', df_centrom, filter_size, resol)\n",
    "df = phc.filter_centromeres(df, chr2, 'col', df_centrom, filter_size, resol)"
   ]
  },
  {
   "cell_type": "code",
   "execution_count": 46,
   "metadata": {},
   "outputs": [
    {
     "data": {
      "image/png": "[encoded data removed]",
      "text/plain": [
       "<Figure size 432x288 with 2 Axes>"
      ]
     },
     "metadata": {
      "needs_background": "light"
     },
     "output_type": "display_data"
    }
   ],
   "source": [
    "# Plot HiC data after filtering out centromeres\n",
    "plotname = ''\n",
    "hic_plots_dir = ''\n",
    "phc.plot_dense_hic_dataframe(df, chr1, chr2, plotname, hic_plots_dir, show=True)"
   ]
  },
  {
   "cell_type": "markdown",
   "metadata": {},
   "source": [
    "### Filter out repeats"
   ]
  },
  {
   "cell_type": "code",
   "execution_count": 47,
   "metadata": {},
   "outputs": [
    {
     "data": {
      "text/html": [
       "<div>\n",
       "<style scoped>\n",
       "    .dataframe tbody tr th:only-of-type {\n",
       "        vertical-align: middle;\n",
       "    }\n",
       "\n",
       "    .dataframe tbody tr th {\n",
       "        vertical-align: top;\n",
       "    }\n",
       "\n",
       "    .dataframe thead th {\n",
       "        text-align: right;\n",
       "    }\n",
       "</style>\n",
       "<table border=\"1\" class=\"dataframe\">\n",
       "  <thead>\n",
       "    <tr style=\"text-align: right;\">\n",
       "      <th></th>\n",
       "      <th>genoname</th>\n",
       "      <th>genoStart</th>\n",
       "      <th>genoEnd</th>\n",
       "      <th>repLength</th>\n",
       "    </tr>\n",
       "  </thead>\n",
       "  <tbody>\n",
       "    <tr>\n",
       "      <th>0</th>\n",
       "      <td>chr1</td>\n",
       "      <td>10000</td>\n",
       "      <td>10468</td>\n",
       "      <td>468</td>\n",
       "    </tr>\n",
       "    <tr>\n",
       "      <th>1</th>\n",
       "      <td>chr1</td>\n",
       "      <td>10468</td>\n",
       "      <td>11447</td>\n",
       "      <td>979</td>\n",
       "    </tr>\n",
       "    <tr>\n",
       "      <th>2</th>\n",
       "      <td>chr1</td>\n",
       "      <td>11503</td>\n",
       "      <td>11675</td>\n",
       "      <td>172</td>\n",
       "    </tr>\n",
       "    <tr>\n",
       "      <th>3</th>\n",
       "      <td>chr1</td>\n",
       "      <td>11677</td>\n",
       "      <td>11780</td>\n",
       "      <td>103</td>\n",
       "    </tr>\n",
       "    <tr>\n",
       "      <th>4</th>\n",
       "      <td>chr1</td>\n",
       "      <td>15264</td>\n",
       "      <td>15355</td>\n",
       "      <td>91</td>\n",
       "    </tr>\n",
       "  </tbody>\n",
       "</table>\n",
       "</div>"
      ],
      "text/plain": [
       "  genoname  genoStart  genoEnd  repLength\n",
       "0     chr1      10000    10468        468\n",
       "1     chr1      10468    11447        979\n",
       "2     chr1      11503    11675        172\n",
       "3     chr1      11677    11780        103\n",
       "4     chr1      15264    15355         91"
      ]
     },
     "execution_count": 47,
     "metadata": {},
     "output_type": "execute_result"
    }
   ],
   "source": [
    "# Load repeats data\n",
    "df_repeats = phc.load_repeats_data(genome_dir)\n",
    "df_repeats.head()"
   ]
  },
  {
   "cell_type": "code",
   "execution_count": 48,
   "metadata": {},
   "outputs": [],
   "source": [
    "# Find repeat-covered loci to filter out\n",
    "chr_list = np.arange(1, 22+1)\n",
    "dic_repeats_tofilter = phc.find_repeat_locations(df_repeats, chr_list, df_sizes, resol)"
   ]
  },
  {
   "cell_type": "code",
   "execution_count": 49,
   "metadata": {},
   "outputs": [],
   "source": [
    "# Filter repeats for chr1 and chr2\n",
    "df = phc.filter_repeats(df, chr1, dic_repeats_tofilter, 'row')\n",
    "df = phc.filter_repeats(df, chr2, dic_repeats_tofilter, 'col')"
   ]
  },
  {
   "cell_type": "code",
   "execution_count": 50,
   "metadata": {},
   "outputs": [
    {
     "data": {
      "image/png": "[encoded data removed]",
      "text/plain": [
       "<Figure size 432x288 with 2 Axes>"
      ]
     },
     "metadata": {
      "needs_background": "light"
     },
     "output_type": "display_data"
    }
   ],
   "source": [
    "# Plot HiC data after filtering out repeats\n",
    "plotname = ''\n",
    "hic_plots_dir = ''\n",
    "phc.plot_dense_hic_dataframe(df, chr1, chr2, plotname, hic_plots_dir, show=True)"
   ]
  },
  {
   "cell_type": "markdown",
   "metadata": {},
   "source": [
    "## Log-transform and filter out outliers"
   ]
  },
  {
   "cell_type": "code",
   "execution_count": 51,
   "metadata": {},
   "outputs": [],
   "source": [
    "# Log-transform dataframe\n",
    "df_transformed = phc.log_transform(df)"
   ]
  },
  {
   "cell_type": "code",
   "execution_count": 52,
   "metadata": {},
   "outputs": [],
   "source": [
    "# Filter out outliers\n",
    "df_transformed, _, _ = phc.filter_outliers(df_transformed)\n",
    "#df_transformed = df_transformed*(df_transformed<1)"
   ]
  },
  {
   "cell_type": "code",
   "execution_count": 53,
   "metadata": {},
   "outputs": [
    {
     "data": {
      "image/png": "[encoded data removed]",
      "text/plain": [
       "<Figure size 432x288 with 2 Axes>"
      ]
     },
     "metadata": {
      "needs_background": "light"
     },
     "output_type": "display_data"
    }
   ],
   "source": [
    "# Plot HiC data after filtering out centromeres, repeats and outliers\n",
    "plotname = ''\n",
    "hic_plots_dir = ''\n",
    "phc.plot_dense_hic_dataframe(df_transformed, chr1, chr2, plotname, hic_plots_dir, show=True)"
   ]
  },
  {
   "cell_type": "code",
   "execution_count": 23,
   "metadata": {},
   "outputs": [
    {
     "data": {
      "text/plain": [
       "array([0.69314718, 0.69314718, 0.69314718, ..., 2.19722458, 2.56494936,\n",
       "       2.07944154])"
      ]
     },
     "execution_count": 23,
     "metadata": {},
     "output_type": "execute_result"
    }
   ],
   "source": [
    "x = df_transformed.values.flatten()\n",
    "x = x[x>0]\n",
    "x"
   ]
  },
  {
   "cell_type": "code",
   "execution_count": 24,
   "metadata": {},
   "outputs": [],
   "source": [
    "# Record nonzero entries\n",
    "data = df_transformed.values\n",
    "data_nonzero = data[np.nonzero(data)]"
   ]
  },
  {
   "cell_type": "markdown",
   "metadata": {},
   "source": [
    "### Blacklisted locations"
   ]
  },
  {
   "cell_type": "code",
   "execution_count": 27,
   "metadata": {},
   "outputs": [],
   "source": [
    "df = df_transformed.copy()"
   ]
  },
  {
   "cell_type": "code",
   "execution_count": 28,
   "metadata": {},
   "outputs": [],
   "source": [
    "# Initialize empty dictionary\n",
    "blacklist = defaultdict(list)"
   ]
  },
  {
   "cell_type": "code",
   "execution_count": 29,
   "metadata": {},
   "outputs": [],
   "source": [
    "# Compute loci with zero values for chromosomes chr1 and chr2\n",
    "zero_cols = df.columns[(df == 0).all(axis=0)]\n",
    "blacklist[chr2].append(zero_cols)\n",
    "zero_rows = df.index[(df == 0).all(axis=1)]\n",
    "blacklist[chr1].append(zero_rows)"
   ]
  },
  {
   "cell_type": "code",
   "execution_count": 30,
   "metadata": {},
   "outputs": [],
   "source": [
    "# Process the dicitonary\n",
    "for chrom in blacklist.keys():\n",
    "    values_list = blacklist[chrom]\n",
    "    blacklist[chrom] = set(map(int, list(itertools.chain.from_iterable(values_list))))"
   ]
  },
  {
   "cell_type": "code",
   "execution_count": null,
   "metadata": {},
   "outputs": [],
   "source": []
  }
 ],
 "metadata": {
  "kernelspec": {
   "display_name": "Python 3 (ipykernel)",
   "language": "python",
   "name": "python3"
  },
  "language_info": {
   "codemirror_mode": {
    "name": "ipython",
    "version": 3
   },
   "file_extension": ".py",
   "mimetype": "text/x-python",
   "name": "python",
   "nbconvert_exporter": "python",
   "pygments_lexer": "ipython3",
   "version": "3.9.12"
  }
 },
 "nbformat": 4,
 "nbformat_minor": 2
}
