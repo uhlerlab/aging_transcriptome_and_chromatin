{
 "cells": [
  {
   "cell_type": "code",
   "execution_count": 1,
   "id": "9925210a",
   "metadata": {},
   "outputs": [],
   "source": [
    "import numpy as np\n",
    "import hicstraw\n",
    "from matplotlib.colors import LinearSegmentedColormap\n",
    "from matplotlib import pyplot as plt\n",
    "from matplotlib import gridspec\n",
    "import matplotlib.pyplot as plt \n",
    "import seaborn as sns"
   ]
  },
  {
   "cell_type": "code",
   "execution_count": 5,
   "id": "d424afca",
   "metadata": {},
   "outputs": [
    {
     "name": "stdout",
     "output_type": "stream",
     "text": [
      "1000000\t1000000\t103055.5859375\n",
      "1000000\t1250000\t52255.69921875\n",
      "1250000\t1250000\t101056.8515625\n",
      "1000000\t1500000\t17916.060546875\n",
      "1250000\t1500000\t25811.724609375\n",
      "1500000\t1500000\t99397.25\n",
      "1000000\t1750000\t6636.55810546875\n",
      "1250000\t1750000\t7023.83642578125\n",
      "1500000\t1750000\t30398.927734375\n",
      "1750000\t1750000\t118072.0546875\n"
     ]
    }
   ],
   "source": [
    "result = hicstraw.straw(\"observed\", 'KR', 'https://www.encodeproject.org/files/ENCFF718AWL/@@download/ENCFF718AWL.hic', '4:1000000:2000000', '4:1000000:2000000', 'BP', 250000)\n",
    "\n",
    "for i in range(10):\n",
    "  print(\"{0}\\t{1}\\t{2}\".format(result[i].binX, result[i].binY, result[i].counts))"
   ]
  },
  {
   "cell_type": "code",
   "execution_count": null,
   "id": "93d24be7",
   "metadata": {},
   "outputs": [],
   "source": []
  }
 ],
 "metadata": {
  "kernelspec": {
   "display_name": "Python 3 (ipykernel)",
   "language": "python",
   "name": "python3"
  },
  "language_info": {
   "codemirror_mode": {
    "name": "ipython",
    "version": 3
   },
   "file_extension": ".py",
   "mimetype": "text/x-python",
   "name": "python",
   "nbconvert_exporter": "python",
   "pygments_lexer": "ipython3",
   "version": "3.9.12"
  }
 },
 "nbformat": 4,
 "nbformat_minor": 5
}
