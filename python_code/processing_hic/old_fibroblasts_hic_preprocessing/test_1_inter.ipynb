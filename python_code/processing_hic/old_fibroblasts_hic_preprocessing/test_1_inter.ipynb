{
 "cells": [
  {
   "cell_type": "code",
   "execution_count": 1,
   "metadata": {
    "code_folding": [
     0
    ]
   },
   "outputs": [],
   "source": [
    "# Import standard libraries\n",
    "from importlib import reload\n",
    "import numpy as np\n",
    "import matplotlib.pyplot as plt\n",
    "from scipy import sparse\n",
    "import scipy.stats as ss\n",
    "import csv\n",
    "import warnings\n",
    "warnings.simplefilter(action='ignore', category=FutureWarning)\n",
    "import pandas as pd\n",
    "import pickle\n",
    "from collections import defaultdict\n",
    "import operator\n",
    "from scipy.sparse import csr_matrix\n",
    "import itertools\n",
    "import os.path\n",
    "import math\n",
    "import pybedtools\n",
    "# Import custom libraries\n",
    "import process_hic_contacts_inter as phc"
   ]
  },
  {
   "cell_type": "code",
   "execution_count": 2,
   "metadata": {},
   "outputs": [
    {
     "data": {
      "text/plain": [
       "<module 'process_hic_contacts_inter' from '/home/braunger/masterthesis/code/processing_hic/old_fibroblasts_hic_preprocessing/process_hic_contacts_inter.py'>"
      ]
     },
     "execution_count": 2,
     "metadata": {},
     "output_type": "execute_result"
    }
   ],
   "source": [
    "# Reload modules in case of modifications\n",
    "reload(phc)"
   ]
  },
  {
   "cell_type": "code",
   "execution_count": 24,
   "metadata": {},
   "outputs": [],
   "source": [
    "# Specify directories and relevant information\n",
    "genome_dir = '/home/braunger/masterthesis/data/genome_data/'\n",
    "processed_hic_dir = '/home/braunger/masterthesis/save/processed_hic_data/'\n",
    "saving_dir = '/home/braunger/masterthesis/save/figures/'\n",
    "cell_type = 'old_fibroblasts'\n",
    "resol = 250000\n",
    "quality = 'MAPQGE30'\n",
    "norm = 'INTERKR'\n",
    "chr1 = 1\n",
    "chr2 = 5"
   ]
  },
  {
   "cell_type": "markdown",
   "metadata": {},
   "source": [
    "### Load data"
   ]
  },
  {
   "cell_type": "code",
   "execution_count": 25,
   "metadata": {},
   "outputs": [
    {
     "data": {
      "text/html": [
       "<div>\n",
       "<style scoped>\n",
       "    .dataframe tbody tr th:only-of-type {\n",
       "        vertical-align: middle;\n",
       "    }\n",
       "\n",
       "    .dataframe tbody tr th {\n",
       "        vertical-align: top;\n",
       "    }\n",
       "\n",
       "    .dataframe thead th {\n",
       "        text-align: right;\n",
       "    }\n",
       "</style>\n",
       "<table border=\"1\" class=\"dataframe\">\n",
       "  <thead>\n",
       "    <tr style=\"text-align: right;\">\n",
       "      <th></th>\n",
       "      <th>locus_chr1</th>\n",
       "      <th>locus_chr2</th>\n",
       "      <th>norm_value</th>\n",
       "    </tr>\n",
       "  </thead>\n",
       "  <tbody>\n",
       "    <tr>\n",
       "      <th>0</th>\n",
       "      <td>0</td>\n",
       "      <td>0</td>\n",
       "      <td>85.944984</td>\n",
       "    </tr>\n",
       "    <tr>\n",
       "      <th>1</th>\n",
       "      <td>2</td>\n",
       "      <td>0</td>\n",
       "      <td>111.526760</td>\n",
       "    </tr>\n",
       "    <tr>\n",
       "      <th>2</th>\n",
       "      <td>3</td>\n",
       "      <td>0</td>\n",
       "      <td>52.415222</td>\n",
       "    </tr>\n",
       "    <tr>\n",
       "      <th>3</th>\n",
       "      <td>4</td>\n",
       "      <td>0</td>\n",
       "      <td>23.276590</td>\n",
       "    </tr>\n",
       "    <tr>\n",
       "      <th>4</th>\n",
       "      <td>5</td>\n",
       "      <td>0</td>\n",
       "      <td>12.272934</td>\n",
       "    </tr>\n",
       "  </tbody>\n",
       "</table>\n",
       "</div>"
      ],
      "text/plain": [
       "   locus_chr1  locus_chr2  norm_value\n",
       "0           0           0   85.944984\n",
       "1           2           0  111.526760\n",
       "2           3           0   52.415222\n",
       "3           4           0   23.276590\n",
       "4           5           0   12.272934"
      ]
     },
     "execution_count": 25,
     "metadata": {},
     "output_type": "execute_result"
    }
   ],
   "source": [
    "# Load normalized HiC data\n",
    "normalized_hic_data = phc.get_normed_hic_sparse(processed_hic_dir, cell_type, resol, quality, chr1, chr2, norm)\n",
    "normalized_hic_data.head()"
   ]
  },
  {
   "cell_type": "code",
   "execution_count": 26,
   "metadata": {},
   "outputs": [
    {
     "data": {
      "text/html": [
       "<div>\n",
       "<style scoped>\n",
       "    .dataframe tbody tr th:only-of-type {\n",
       "        vertical-align: middle;\n",
       "    }\n",
       "\n",
       "    .dataframe tbody tr th {\n",
       "        vertical-align: top;\n",
       "    }\n",
       "\n",
       "    .dataframe thead th {\n",
       "        text-align: right;\n",
       "    }\n",
       "</style>\n",
       "<table border=\"1\" class=\"dataframe\">\n",
       "  <thead>\n",
       "    <tr style=\"text-align: right;\">\n",
       "      <th></th>\n",
       "      <th>chr</th>\n",
       "      <th>size</th>\n",
       "      <th>size_loci</th>\n",
       "      <th>size_roundup</th>\n",
       "    </tr>\n",
       "  </thead>\n",
       "  <tbody>\n",
       "    <tr>\n",
       "      <th>0</th>\n",
       "      <td>1</td>\n",
       "      <td>249250621</td>\n",
       "      <td>998</td>\n",
       "      <td>249500000</td>\n",
       "    </tr>\n",
       "    <tr>\n",
       "      <th>1</th>\n",
       "      <td>2</td>\n",
       "      <td>243199373</td>\n",
       "      <td>973</td>\n",
       "      <td>243250000</td>\n",
       "    </tr>\n",
       "    <tr>\n",
       "      <th>2</th>\n",
       "      <td>3</td>\n",
       "      <td>198022430</td>\n",
       "      <td>793</td>\n",
       "      <td>198250000</td>\n",
       "    </tr>\n",
       "    <tr>\n",
       "      <th>3</th>\n",
       "      <td>4</td>\n",
       "      <td>191154276</td>\n",
       "      <td>765</td>\n",
       "      <td>191250000</td>\n",
       "    </tr>\n",
       "    <tr>\n",
       "      <th>4</th>\n",
       "      <td>5</td>\n",
       "      <td>180915260</td>\n",
       "      <td>724</td>\n",
       "      <td>181000000</td>\n",
       "    </tr>\n",
       "  </tbody>\n",
       "</table>\n",
       "</div>"
      ],
      "text/plain": [
       "  chr       size  size_loci  size_roundup\n",
       "0   1  249250621        998     249500000\n",
       "1   2  243199373        973     243250000\n",
       "2   3  198022430        793     198250000\n",
       "3   4  191154276        765     191250000\n",
       "4   5  180915260        724     181000000"
      ]
     },
     "execution_count": 26,
     "metadata": {},
     "output_type": "execute_result"
    }
   ],
   "source": [
    "# Get chromosome sizes\n",
    "df_sizes = phc.get_chrom_sizes(genome_dir,resol)\n",
    "chr1_size = int(df_sizes[df_sizes['chr']==str(chr1)]['size_loci'])\n",
    "chr2_size = int(df_sizes[df_sizes['chr']==str(chr2)]['size_loci'])\n",
    "df_sizes.head()"
   ]
  },
  {
   "cell_type": "code",
   "execution_count": 27,
   "metadata": {},
   "outputs": [
    {
     "data": {
      "text/html": [
       "<div>\n",
       "<style scoped>\n",
       "    .dataframe tbody tr th:only-of-type {\n",
       "        vertical-align: middle;\n",
       "    }\n",
       "\n",
       "    .dataframe tbody tr th {\n",
       "        vertical-align: top;\n",
       "    }\n",
       "\n",
       "    .dataframe thead th {\n",
       "        text-align: right;\n",
       "    }\n",
       "</style>\n",
       "<table border=\"1\" class=\"dataframe\">\n",
       "  <thead>\n",
       "    <tr style=\"text-align: right;\">\n",
       "      <th></th>\n",
       "      <th>0</th>\n",
       "      <th>250000</th>\n",
       "      <th>500000</th>\n",
       "      <th>750000</th>\n",
       "      <th>1000000</th>\n",
       "      <th>1250000</th>\n",
       "      <th>1500000</th>\n",
       "      <th>1750000</th>\n",
       "      <th>2000000</th>\n",
       "      <th>2250000</th>\n",
       "      <th>...</th>\n",
       "      <th>178500000</th>\n",
       "      <th>178750000</th>\n",
       "      <th>179000000</th>\n",
       "      <th>179250000</th>\n",
       "      <th>179500000</th>\n",
       "      <th>179750000</th>\n",
       "      <th>180000000</th>\n",
       "      <th>180250000</th>\n",
       "      <th>180500000</th>\n",
       "      <th>180750000</th>\n",
       "    </tr>\n",
       "  </thead>\n",
       "  <tbody>\n",
       "    <tr>\n",
       "      <th>0</th>\n",
       "      <td>85.944984</td>\n",
       "      <td>32.296620</td>\n",
       "      <td>0.000000</td>\n",
       "      <td>0.000000</td>\n",
       "      <td>0.000000</td>\n",
       "      <td>31.946350</td>\n",
       "      <td>0.000000</td>\n",
       "      <td>0.000000</td>\n",
       "      <td>0.000000</td>\n",
       "      <td>0.000000</td>\n",
       "      <td>...</td>\n",
       "      <td>0.000000</td>\n",
       "      <td>0.000000</td>\n",
       "      <td>0.000000</td>\n",
       "      <td>0.000000</td>\n",
       "      <td>0.000000</td>\n",
       "      <td>0.000000</td>\n",
       "      <td>29.182283</td>\n",
       "      <td>0.000000</td>\n",
       "      <td>0.000000</td>\n",
       "      <td>0.0</td>\n",
       "    </tr>\n",
       "    <tr>\n",
       "      <th>250000</th>\n",
       "      <td>0.000000</td>\n",
       "      <td>0.000000</td>\n",
       "      <td>0.000000</td>\n",
       "      <td>0.000000</td>\n",
       "      <td>0.000000</td>\n",
       "      <td>0.000000</td>\n",
       "      <td>0.000000</td>\n",
       "      <td>0.000000</td>\n",
       "      <td>0.000000</td>\n",
       "      <td>0.000000</td>\n",
       "      <td>...</td>\n",
       "      <td>0.000000</td>\n",
       "      <td>0.000000</td>\n",
       "      <td>0.000000</td>\n",
       "      <td>0.000000</td>\n",
       "      <td>0.000000</td>\n",
       "      <td>0.000000</td>\n",
       "      <td>0.000000</td>\n",
       "      <td>0.000000</td>\n",
       "      <td>0.000000</td>\n",
       "      <td>0.0</td>\n",
       "    </tr>\n",
       "    <tr>\n",
       "      <th>500000</th>\n",
       "      <td>111.526760</td>\n",
       "      <td>25.145880</td>\n",
       "      <td>0.000000</td>\n",
       "      <td>96.673584</td>\n",
       "      <td>29.447810</td>\n",
       "      <td>24.873163</td>\n",
       "      <td>29.503399</td>\n",
       "      <td>0.000000</td>\n",
       "      <td>0.000000</td>\n",
       "      <td>0.000000</td>\n",
       "      <td>...</td>\n",
       "      <td>21.961155</td>\n",
       "      <td>24.694923</td>\n",
       "      <td>0.000000</td>\n",
       "      <td>0.000000</td>\n",
       "      <td>45.731804</td>\n",
       "      <td>0.000000</td>\n",
       "      <td>22.721085</td>\n",
       "      <td>0.000000</td>\n",
       "      <td>24.404976</td>\n",
       "      <td>0.0</td>\n",
       "    </tr>\n",
       "    <tr>\n",
       "      <th>750000</th>\n",
       "      <td>52.415222</td>\n",
       "      <td>29.545084</td>\n",
       "      <td>22.424780</td>\n",
       "      <td>25.692152</td>\n",
       "      <td>14.828410</td>\n",
       "      <td>4.174951</td>\n",
       "      <td>7.428201</td>\n",
       "      <td>6.113404</td>\n",
       "      <td>8.728887</td>\n",
       "      <td>2.546406</td>\n",
       "      <td>...</td>\n",
       "      <td>12.901600</td>\n",
       "      <td>13.471358</td>\n",
       "      <td>19.458614</td>\n",
       "      <td>16.127209</td>\n",
       "      <td>13.433114</td>\n",
       "      <td>20.612300</td>\n",
       "      <td>9.534313</td>\n",
       "      <td>10.059510</td>\n",
       "      <td>22.530010</td>\n",
       "      <td>0.0</td>\n",
       "    </tr>\n",
       "    <tr>\n",
       "      <th>1000000</th>\n",
       "      <td>23.276590</td>\n",
       "      <td>19.175972</td>\n",
       "      <td>16.086666</td>\n",
       "      <td>14.227094</td>\n",
       "      <td>11.819251</td>\n",
       "      <td>8.984843</td>\n",
       "      <td>14.209875</td>\n",
       "      <td>11.694716</td>\n",
       "      <td>7.156302</td>\n",
       "      <td>2.435590</td>\n",
       "      <td>...</td>\n",
       "      <td>13.221581</td>\n",
       "      <td>7.929296</td>\n",
       "      <td>26.703897</td>\n",
       "      <td>11.366069</td>\n",
       "      <td>4.588759</td>\n",
       "      <td>10.753793</td>\n",
       "      <td>5.471637</td>\n",
       "      <td>6.013586</td>\n",
       "      <td>14.692868</td>\n",
       "      <td>0.0</td>\n",
       "    </tr>\n",
       "  </tbody>\n",
       "</table>\n",
       "<p>5 rows × 724 columns</p>\n",
       "</div>"
      ],
      "text/plain": [
       "          0          250000     500000     750000     1000000    1250000    \\\n",
       "0         85.944984  32.296620   0.000000   0.000000   0.000000  31.946350   \n",
       "250000     0.000000   0.000000   0.000000   0.000000   0.000000   0.000000   \n",
       "500000   111.526760  25.145880   0.000000  96.673584  29.447810  24.873163   \n",
       "750000    52.415222  29.545084  22.424780  25.692152  14.828410   4.174951   \n",
       "1000000   23.276590  19.175972  16.086666  14.227094  11.819251   8.984843   \n",
       "\n",
       "         1500000    1750000    2000000    2250000    ...  178500000  \\\n",
       "0         0.000000   0.000000   0.000000   0.000000  ...   0.000000   \n",
       "250000    0.000000   0.000000   0.000000   0.000000  ...   0.000000   \n",
       "500000   29.503399   0.000000   0.000000   0.000000  ...  21.961155   \n",
       "750000    7.428201   6.113404   8.728887   2.546406  ...  12.901600   \n",
       "1000000  14.209875  11.694716   7.156302   2.435590  ...  13.221581   \n",
       "\n",
       "         178750000  179000000  179250000  179500000  179750000  180000000  \\\n",
       "0         0.000000   0.000000   0.000000   0.000000   0.000000  29.182283   \n",
       "250000    0.000000   0.000000   0.000000   0.000000   0.000000   0.000000   \n",
       "500000   24.694923   0.000000   0.000000  45.731804   0.000000  22.721085   \n",
       "750000   13.471358  19.458614  16.127209  13.433114  20.612300   9.534313   \n",
       "1000000   7.929296  26.703897  11.366069   4.588759  10.753793   5.471637   \n",
       "\n",
       "         180250000  180500000  180750000  \n",
       "0         0.000000   0.000000        0.0  \n",
       "250000    0.000000   0.000000        0.0  \n",
       "500000    0.000000  24.404976        0.0  \n",
       "750000   10.059510  22.530010        0.0  \n",
       "1000000   6.013586  14.692868        0.0  \n",
       "\n",
       "[5 rows x 724 columns]"
      ]
     },
     "execution_count": 27,
     "metadata": {},
     "output_type": "execute_result"
    }
   ],
   "source": [
    "# Get dense HiC dataframe\n",
    "df = phc.get_dense_hic_dataframe(normalized_hic_data, chr1_size, chr2_size, resol)\n",
    "df.head()"
   ]
  },
  {
   "cell_type": "code",
   "execution_count": 28,
   "metadata": {},
   "outputs": [
    {
     "data": {
      "image/png": "[encoded data removed]",
      "text/plain": [
       "<Figure size 432x288 with 2 Axes>"
      ]
     },
     "metadata": {
      "needs_background": "light"
     },
     "output_type": "display_data"
    }
   ],
   "source": [
    "# Plot HiC dense dataframe\n",
    "%matplotlib inline\n",
    "plotname = ''\n",
    "hic_plots_dir = ''\n",
    "phc.plot_dense_hic_dataframe(df, chr1, chr2, plotname, hic_plots_dir, show=True)"
   ]
  },
  {
   "cell_type": "code",
   "execution_count": 29,
   "metadata": {},
   "outputs": [
    {
     "name": "stdout",
     "output_type": "stream",
     "text": [
      "All-0 rows = [121500000 121750000 122000000 122250000 122500000 122750000 123000000\n",
      " 123250000 123500000 123750000 124000000 124250000 124500000 124750000\n",
      " 125000000 125250000 125500000 125750000 126000000 126250000 126500000\n",
      " 126750000 127000000 127250000 127500000 127750000 128000000 128250000\n",
      " 128500000 128750000 129000000 129250000 129500000 129750000 130000000\n",
      " 130250000 130500000 130750000 131000000 131250000 131500000 131750000\n",
      " 132000000 132250000 132500000 132750000 133000000 133250000 133500000\n",
      " 133750000 134000000 134250000 134500000 134750000 135000000 135250000\n",
      " 135500000 135750000 136000000 136250000 136500000 136750000 137000000\n",
      " 137250000 137500000 137750000 138000000 138250000 138500000 138750000\n",
      " 139000000 139250000 139500000 139750000 140000000 140250000 140500000\n",
      " 140750000 141000000 141250000 141500000 141750000 142000000 142250000\n",
      " 249250000]\n",
      "All-0 columns = [46500000 46750000 47000000 47250000 47500000 47750000 48000000 48250000\n",
      " 48500000 48750000 49000000]\n"
     ]
    }
   ],
   "source": [
    "# All-0 rows and columns\n",
    "print(f'All-0 rows = {df.index.to_series()[df.sum(axis=1)==0].index.values}')\n",
    "print(f'All-0 columns = {df.columns.to_series()[df.sum(axis=0)==0].index.values}')"
   ]
  },
  {
   "cell_type": "markdown",
   "metadata": {},
   "source": [
    "### Filter out centromeres"
   ]
  },
  {
   "cell_type": "code",
   "execution_count": 30,
   "metadata": {},
   "outputs": [
    {
     "data": {
      "text/html": [
       "<div>\n",
       "<style scoped>\n",
       "    .dataframe tbody tr th:only-of-type {\n",
       "        vertical-align: middle;\n",
       "    }\n",
       "\n",
       "    .dataframe tbody tr th {\n",
       "        vertical-align: top;\n",
       "    }\n",
       "\n",
       "    .dataframe thead th {\n",
       "        text-align: right;\n",
       "    }\n",
       "</style>\n",
       "<table border=\"1\" class=\"dataframe\">\n",
       "  <thead>\n",
       "    <tr style=\"text-align: right;\">\n",
       "      <th></th>\n",
       "      <th>bin</th>\n",
       "      <th>chrom</th>\n",
       "      <th>chromStart</th>\n",
       "      <th>chromEnd</th>\n",
       "      <th>ix</th>\n",
       "      <th>n</th>\n",
       "      <th>size</th>\n",
       "      <th>type</th>\n",
       "      <th>bridge</th>\n",
       "    </tr>\n",
       "  </thead>\n",
       "  <tbody>\n",
       "    <tr>\n",
       "      <th>0</th>\n",
       "      <td>23</td>\n",
       "      <td>chr1</td>\n",
       "      <td>121535434</td>\n",
       "      <td>124535434</td>\n",
       "      <td>1270</td>\n",
       "      <td>N</td>\n",
       "      <td>3000000</td>\n",
       "      <td>centromere</td>\n",
       "      <td>no</td>\n",
       "    </tr>\n",
       "    <tr>\n",
       "      <th>1</th>\n",
       "      <td>20</td>\n",
       "      <td>chr2</td>\n",
       "      <td>92326171</td>\n",
       "      <td>95326171</td>\n",
       "      <td>770</td>\n",
       "      <td>N</td>\n",
       "      <td>3000000</td>\n",
       "      <td>centromere</td>\n",
       "      <td>no</td>\n",
       "    </tr>\n",
       "    <tr>\n",
       "      <th>2</th>\n",
       "      <td>2</td>\n",
       "      <td>chr3</td>\n",
       "      <td>90504854</td>\n",
       "      <td>93504854</td>\n",
       "      <td>784</td>\n",
       "      <td>N</td>\n",
       "      <td>3000000</td>\n",
       "      <td>centromere</td>\n",
       "      <td>no</td>\n",
       "    </tr>\n",
       "    <tr>\n",
       "      <th>3</th>\n",
       "      <td>1</td>\n",
       "      <td>chr4</td>\n",
       "      <td>49660117</td>\n",
       "      <td>52660117</td>\n",
       "      <td>447</td>\n",
       "      <td>N</td>\n",
       "      <td>3000000</td>\n",
       "      <td>centromere</td>\n",
       "      <td>no</td>\n",
       "    </tr>\n",
       "    <tr>\n",
       "      <th>4</th>\n",
       "      <td>14</td>\n",
       "      <td>chr5</td>\n",
       "      <td>46405641</td>\n",
       "      <td>49405641</td>\n",
       "      <td>452</td>\n",
       "      <td>N</td>\n",
       "      <td>3000000</td>\n",
       "      <td>centromere</td>\n",
       "      <td>no</td>\n",
       "    </tr>\n",
       "  </tbody>\n",
       "</table>\n",
       "</div>"
      ],
      "text/plain": [
       "   bin chrom  chromStart   chromEnd    ix  n     size        type bridge\n",
       "0   23  chr1   121535434  124535434  1270  N  3000000  centromere     no\n",
       "1   20  chr2    92326171   95326171   770  N  3000000  centromere     no\n",
       "2    2  chr3    90504854   93504854   784  N  3000000  centromere     no\n",
       "3    1  chr4    49660117   52660117   447  N  3000000  centromere     no\n",
       "4   14  chr5    46405641   49405641   452  N  3000000  centromere     no"
      ]
     },
     "execution_count": 30,
     "metadata": {},
     "output_type": "execute_result"
    }
   ],
   "source": [
    "# Get centromere locations\n",
    "df_centrom = phc.get_centromere_locations(genome_dir)\n",
    "df_centrom.head()"
   ]
  },
  {
   "cell_type": "code",
   "execution_count": 31,
   "metadata": {},
   "outputs": [],
   "source": [
    "# Filter out centromeres\n",
    "filter_size = 2000000\n",
    "df = phc.filter_centromeres(df, chr1, 'row', df_centrom, filter_size, resol)\n",
    "df = phc.filter_centromeres(df, chr2, 'col', df_centrom, filter_size, resol)"
   ]
  },
  {
   "cell_type": "code",
   "execution_count": 32,
   "metadata": {},
   "outputs": [
    {
     "data": {
      "image/png": "[encoded data removed]",
      "text/plain": [
       "<Figure size 432x288 with 2 Axes>"
      ]
     },
     "metadata": {
      "needs_background": "light"
     },
     "output_type": "display_data"
    }
   ],
   "source": [
    "# Plot HiC data after filtering out centromeres\n",
    "plotname = ''\n",
    "hic_plots_dir = ''\n",
    "phc.plot_dense_hic_dataframe(df, chr1, chr2, plotname, hic_plots_dir, show=True)"
   ]
  },
  {
   "cell_type": "markdown",
   "metadata": {},
   "source": [
    "### Filter out repeats"
   ]
  },
  {
   "cell_type": "code",
   "execution_count": 33,
   "metadata": {},
   "outputs": [
    {
     "data": {
      "text/html": [
       "<div>\n",
       "<style scoped>\n",
       "    .dataframe tbody tr th:only-of-type {\n",
       "        vertical-align: middle;\n",
       "    }\n",
       "\n",
       "    .dataframe tbody tr th {\n",
       "        vertical-align: top;\n",
       "    }\n",
       "\n",
       "    .dataframe thead th {\n",
       "        text-align: right;\n",
       "    }\n",
       "</style>\n",
       "<table border=\"1\" class=\"dataframe\">\n",
       "  <thead>\n",
       "    <tr style=\"text-align: right;\">\n",
       "      <th></th>\n",
       "      <th>genoname</th>\n",
       "      <th>genoStart</th>\n",
       "      <th>genoEnd</th>\n",
       "      <th>repLength</th>\n",
       "    </tr>\n",
       "  </thead>\n",
       "  <tbody>\n",
       "    <tr>\n",
       "      <th>0</th>\n",
       "      <td>chr1</td>\n",
       "      <td>10000</td>\n",
       "      <td>10468</td>\n",
       "      <td>468</td>\n",
       "    </tr>\n",
       "    <tr>\n",
       "      <th>1</th>\n",
       "      <td>chr1</td>\n",
       "      <td>10468</td>\n",
       "      <td>11447</td>\n",
       "      <td>979</td>\n",
       "    </tr>\n",
       "    <tr>\n",
       "      <th>2</th>\n",
       "      <td>chr1</td>\n",
       "      <td>11503</td>\n",
       "      <td>11675</td>\n",
       "      <td>172</td>\n",
       "    </tr>\n",
       "    <tr>\n",
       "      <th>3</th>\n",
       "      <td>chr1</td>\n",
       "      <td>11677</td>\n",
       "      <td>11780</td>\n",
       "      <td>103</td>\n",
       "    </tr>\n",
       "    <tr>\n",
       "      <th>4</th>\n",
       "      <td>chr1</td>\n",
       "      <td>15264</td>\n",
       "      <td>15355</td>\n",
       "      <td>91</td>\n",
       "    </tr>\n",
       "  </tbody>\n",
       "</table>\n",
       "</div>"
      ],
      "text/plain": [
       "  genoname  genoStart  genoEnd  repLength\n",
       "0     chr1      10000    10468        468\n",
       "1     chr1      10468    11447        979\n",
       "2     chr1      11503    11675        172\n",
       "3     chr1      11677    11780        103\n",
       "4     chr1      15264    15355         91"
      ]
     },
     "execution_count": 33,
     "metadata": {},
     "output_type": "execute_result"
    }
   ],
   "source": [
    "# Load repeats data\n",
    "df_repeats = phc.load_repeats_data(genome_dir)\n",
    "df_repeats.head()"
   ]
  },
  {
   "cell_type": "code",
   "execution_count": 34,
   "metadata": {},
   "outputs": [],
   "source": [
    "# Find repeat-covered loci to filter out\n",
    "chr_list = np.arange(1, 22+1)\n",
    "dic_repeats_tofilter = phc.find_repeat_locations(df_repeats, chr_list, df_sizes, resol)"
   ]
  },
  {
   "cell_type": "code",
   "execution_count": 35,
   "metadata": {},
   "outputs": [],
   "source": [
    "# Filter repeats for chr1 and chr2\n",
    "df = phc.filter_repeats(df, chr1, dic_repeats_tofilter, 'row')\n",
    "df = phc.filter_repeats(df, chr2, dic_repeats_tofilter, 'col')"
   ]
  },
  {
   "cell_type": "code",
   "execution_count": 36,
   "metadata": {},
   "outputs": [
    {
     "data": {
      "image/png": "[encoded data removed]",
      "text/plain": [
       "<Figure size 432x288 with 2 Axes>"
      ]
     },
     "metadata": {
      "needs_background": "light"
     },
     "output_type": "display_data"
    }
   ],
   "source": [
    "# Plot HiC data after filtering out repeats\n",
    "plotname = ''\n",
    "hic_plots_dir = ''\n",
    "phc.plot_dense_hic_dataframe(df, chr1, chr2, plotname, hic_plots_dir, show=True)"
   ]
  },
  {
   "cell_type": "markdown",
   "metadata": {},
   "source": [
    "## Log-transform and filter out outliers"
   ]
  },
  {
   "cell_type": "code",
   "execution_count": 37,
   "metadata": {},
   "outputs": [],
   "source": [
    "# Log-transform dataframe\n",
    "df_transformed = phc.log_transform(df)"
   ]
  },
  {
   "cell_type": "code",
   "execution_count": 38,
   "metadata": {},
   "outputs": [],
   "source": [
    "# Filter out outliers\n",
    "df_transformed, _, _ = phc.filter_outliers(df_transformed)\n",
    "#df_transformed = df_transformed*(df_transformed<1)"
   ]
  },
  {
   "cell_type": "code",
   "execution_count": 39,
   "metadata": {},
   "outputs": [
    {
     "data": {
      "image/png": "[encoded data removed]",
      "text/plain": [
       "<Figure size 432x288 with 2 Axes>"
      ]
     },
     "metadata": {
      "needs_background": "light"
     },
     "output_type": "display_data"
    }
   ],
   "source": [
    "# Plot HiC data after filtering out centromeres, repeats and outliers\n",
    "plotname = ''\n",
    "hic_plots_dir = ''\n",
    "phc.plot_dense_hic_dataframe(df_transformed, chr1, chr2, plotname, hic_plots_dir, show=True)"
   ]
  },
  {
   "cell_type": "code",
   "execution_count": 20,
   "metadata": {},
   "outputs": [
    {
     "data": {
      "text/plain": [
       "array([3.79448419, 3.78964134, 3.98368661, ..., 2.14054361, 3.13231818,\n",
       "       2.65423731])"
      ]
     },
     "execution_count": 20,
     "metadata": {},
     "output_type": "execute_result"
    }
   ],
   "source": [
    "x = df_transformed.values.flatten()\n",
    "x = x[x>0]\n",
    "x"
   ]
  },
  {
   "cell_type": "code",
   "execution_count": 21,
   "metadata": {},
   "outputs": [],
   "source": [
    "# Record nonzero entries\n",
    "data = df_transformed.values\n",
    "data_nonzero = data[np.nonzero(data)]"
   ]
  },
  {
   "cell_type": "markdown",
   "metadata": {},
   "source": [
    "### Blacklisted locations"
   ]
  },
  {
   "cell_type": "code",
   "execution_count": 27,
   "metadata": {},
   "outputs": [],
   "source": [
    "df = df_transformed.copy()"
   ]
  },
  {
   "cell_type": "code",
   "execution_count": 28,
   "metadata": {},
   "outputs": [],
   "source": [
    "# Initialize empty dictionary\n",
    "blacklist = defaultdict(list)"
   ]
  },
  {
   "cell_type": "code",
   "execution_count": 29,
   "metadata": {},
   "outputs": [],
   "source": [
    "# Compute loci with zero values for chromosomes chr1 and chr2\n",
    "zero_cols = df.columns[(df == 0).all(axis=0)]\n",
    "blacklist[chr2].append(zero_cols)\n",
    "zero_rows = df.index[(df == 0).all(axis=1)]\n",
    "blacklist[chr1].append(zero_rows)"
   ]
  },
  {
   "cell_type": "code",
   "execution_count": 30,
   "metadata": {},
   "outputs": [],
   "source": [
    "# Process the dicitonary\n",
    "for chrom in blacklist.keys():\n",
    "    values_list = blacklist[chrom]\n",
    "    blacklist[chrom] = set(map(int, list(itertools.chain.from_iterable(values_list))))"
   ]
  },
  {
   "cell_type": "code",
   "execution_count": null,
   "metadata": {},
   "outputs": [],
   "source": []
  }
 ],
 "metadata": {
  "kernelspec": {
   "display_name": "Python 3 (ipykernel)",
   "language": "python",
   "name": "python3"
  },
  "language_info": {
   "codemirror_mode": {
    "name": "ipython",
    "version": 3
   },
   "file_extension": ".py",
   "mimetype": "text/x-python",
   "name": "python",
   "nbconvert_exporter": "python",
   "pygments_lexer": "ipython3",
   "version": "3.9.12"
  }
 },
 "nbformat": 4,
 "nbformat_minor": 2
}
