{
 "cells": [
  {
   "cell_type": "code",
   "execution_count": 1,
   "id": "b5c3a19b",
   "metadata": {},
   "outputs": [],
   "source": [
    "from importlib import reload\n",
    "import sys\n",
    "import pickle\n",
    "import numpy as np \n",
    "import matplotlib as mpl\n",
    "mpl.use('Agg')\n",
    "import matplotlib.pyplot as plt\n",
    "plt.ioff()\n",
    "import seaborn as sns\n",
    "import pandas as pd\n",
    "from sklearn.cluster import AgglomerativeClustering\n",
    "from sklearn.decomposition import PCA\n",
    "from sklearn.manifold import TSNE\n",
    "import pybedtools\n",
    "from joblib import Parallel, delayed\n",
    "from tqdm import tqdm\n",
    "import time\n",
    "import hicstraw"
   ]
  },
  {
   "cell_type": "code",
   "execution_count": 2,
   "id": "7e3681dc",
   "metadata": {},
   "outputs": [],
   "source": [
    "hic_data_dir = '/home/braunger/masterthesis/data/hic_data/iPSC/'"
   ]
  },
  {
   "cell_type": "code",
   "execution_count": 3,
   "id": "3efebc14",
   "metadata": {},
   "outputs": [],
   "source": [
    "cell_type = 'old_fibroblasts'\n",
    "resol_str = '250kb'\n",
    "resol = 250000\n",
    "quality = 'MAPQGE30'"
   ]
  },
  {
   "cell_type": "code",
   "execution_count": 4,
   "id": "c1923c95",
   "metadata": {},
   "outputs": [
    {
     "name": "stdout",
     "output_type": "stream",
     "text": [
      "/software/bedtools-2.25.0/genomes/human.hg19.genome\n",
      "[25000, 24000, 23000, 22000, 21000, 20000, 19000, 18000, 17000, 16000, 15000, 14000, 13000, 12000, 11000, 10000, 9000, 8000, 7000, 6000, 5000, 4000, 3000, 2000, 1000]\n"
     ]
    },
    {
     "data": {
      "text/plain": [
       "<hicstraw.HiCFile at 0x7fc4e02c4030>"
      ]
     },
     "execution_count": 4,
     "metadata": {},
     "output_type": "execute_result"
    }
   ],
   "source": [
    "hic = hicstraw.HiCFile(hic_data_dir+'GSM3576801_iPSC.hic')\n",
    "print(hic.getGenomeID())\n",
    "print(hic.getResolutions())\n",
    "hic"
   ]
  },
  {
   "cell_type": "code",
   "execution_count": 5,
   "id": "78bcd1f5",
   "metadata": {},
   "outputs": [
    {
     "name": "stdout",
     "output_type": "stream",
     "text": [
      "               chromosome       length\n",
      "0                     All    3140298.0\n",
      "0                    chr1  249250621.0\n",
      "0                    chr2  243199373.0\n",
      "0                    chr3  198022430.0\n",
      "0                    chr4  191154276.0\n",
      "..                    ...          ...\n",
      "0          chrUn_gl000239      33824.0\n",
      "0   chr21_gl000210_random      27682.0\n",
      "0          chrUn_gl000231      27386.0\n",
      "0          chrUn_gl000229      19913.0\n",
      "0                    chrM      16571.0\n",
      "\n",
      "[92 rows x 2 columns]\n"
     ]
    }
   ],
   "source": [
    "# Test how to get chromosome sizes\n",
    "chrom_sizes = pd.DataFrame({'chromosome':[],'length':[]})\n",
    "for chrom in hic.getChromosomes():\n",
    "    new_row = pd.DataFrame({'chromosome':[chrom.name],'length':[chrom.length]})\n",
    "    chrom_sizes = pd.concat([chrom_sizes, new_row], axis = 0)\n",
    "\n",
    "chrom_sizes = chrom_sizes.iloc[:-2, :]\n",
    "\n",
    "chrom_sizes.to_csv('/home/braunger/masterthesis/data/genome_data/chrom.hg19.sizes', \n",
    "                   sep='\\t', header = False, index = False)\n",
    "print(chrom_sizes)"
   ]
  },
  {
   "cell_type": "code",
   "execution_count": 6,
   "id": "5994cb5a",
   "metadata": {},
   "outputs": [
    {
     "data": {
      "text/plain": [
       "array([[    0.        ,     0.        ,     0.        , ...,\n",
       "            0.        ,     0.        ,     0.        ],\n",
       "       [    0.        ,     0.        ,     0.        , ...,\n",
       "            0.        ,     0.        ,     0.        ],\n",
       "       [    0.        ,     0.        , 16641.95117188, ...,\n",
       "            0.        ,     0.        ,     0.        ],\n",
       "       ...,\n",
       "       [    0.        ,     0.        ,     0.        , ...,\n",
       "         1169.4107666 ,  1277.01879883,   737.32824707],\n",
       "       [    0.        ,     0.        ,     0.        , ...,\n",
       "         1277.01879883,  1289.7175293 ,  1268.2130127 ],\n",
       "       [    0.        ,     0.        ,     0.        , ...,\n",
       "          737.32824707,  1268.2130127 ,   897.61187744]])"
      ]
     },
     "execution_count": 6,
     "metadata": {},
     "output_type": "execute_result"
    }
   ],
   "source": [
    "chrom = \"chr1\"\n",
    "matrix_object = hic.getMatrixZoomData(chrom, chrom, \"observed\", \"KR\", \"BP\", 25000)\n",
    "numpy_matrix = matrix_object.getRecordsAsMatrix(0, 1000000, \n",
    "                                                0, 1000000)\n",
    "numpy_matrix"
   ]
  },
  {
   "cell_type": "code",
   "execution_count": 7,
   "id": "4bad7b85",
   "metadata": {},
   "outputs": [
    {
     "data": {
      "text/plain": [
       "0    249250621.0\n",
       "Name: length, dtype: float64"
      ]
     },
     "execution_count": 7,
     "metadata": {},
     "output_type": "execute_result"
    }
   ],
   "source": [
    "chrom_sizes.loc[chrom_sizes[\"chromosome\"] == chrom, \"length\"]"
   ]
  },
  {
   "cell_type": "code",
   "execution_count": null,
   "id": "d0f14490",
   "metadata": {},
   "outputs": [],
   "source": []
  }
 ],
 "metadata": {
  "kernelspec": {
   "display_name": "Python 3 (ipykernel)",
   "language": "python",
   "name": "python3"
  },
  "language_info": {
   "codemirror_mode": {
    "name": "ipython",
    "version": 3
   },
   "file_extension": ".py",
   "mimetype": "text/x-python",
   "name": "python",
   "nbconvert_exporter": "python",
   "pygments_lexer": "ipython3",
   "version": "3.9.12"
  }
 },
 "nbformat": 4,
 "nbformat_minor": 5
}
